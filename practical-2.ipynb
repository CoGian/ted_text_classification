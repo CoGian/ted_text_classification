{
 "cells": [
  {
   "cell_type": "code",
   "execution_count": 1,
   "metadata": {},
   "outputs": [],
   "source": [
    "import numpy as np\n",
    "import os\n",
    "from random import shuffle\n",
    "import re"
   ]
  },
  {
   "cell_type": "code",
   "execution_count": 2,
   "metadata": {},
   "outputs": [
    {
     "data": {
      "text/html": [
       "\n",
       "    <div class=\"bk-root\">\n",
       "        <a href=\"https://bokeh.pydata.org\" target=\"_blank\" class=\"bk-logo bk-logo-small bk-logo-notebook\"></a>\n",
       "        <span id=\"1001\">Loading BokehJS ...</span>\n",
       "    </div>"
      ]
     },
     "metadata": {},
     "output_type": "display_data"
    },
    {
     "data": {
      "application/javascript": [
       "\n",
       "(function(root) {\n",
       "  function now() {\n",
       "    return new Date();\n",
       "  }\n",
       "\n",
       "  var force = true;\n",
       "\n",
       "  if (typeof root._bokeh_onload_callbacks === \"undefined\" || force === true) {\n",
       "    root._bokeh_onload_callbacks = [];\n",
       "    root._bokeh_is_loading = undefined;\n",
       "  }\n",
       "\n",
       "  var JS_MIME_TYPE = 'application/javascript';\n",
       "  var HTML_MIME_TYPE = 'text/html';\n",
       "  var EXEC_MIME_TYPE = 'application/vnd.bokehjs_exec.v0+json';\n",
       "  var CLASS_NAME = 'output_bokeh rendered_html';\n",
       "\n",
       "  /**\n",
       "   * Render data to the DOM node\n",
       "   */\n",
       "  function render(props, node) {\n",
       "    var script = document.createElement(\"script\");\n",
       "    node.appendChild(script);\n",
       "  }\n",
       "\n",
       "  /**\n",
       "   * Handle when an output is cleared or removed\n",
       "   */\n",
       "  function handleClearOutput(event, handle) {\n",
       "    var cell = handle.cell;\n",
       "\n",
       "    var id = cell.output_area._bokeh_element_id;\n",
       "    var server_id = cell.output_area._bokeh_server_id;\n",
       "    // Clean up Bokeh references\n",
       "    if (id != null && id in Bokeh.index) {\n",
       "      Bokeh.index[id].model.document.clear();\n",
       "      delete Bokeh.index[id];\n",
       "    }\n",
       "\n",
       "    if (server_id !== undefined) {\n",
       "      // Clean up Bokeh references\n",
       "      var cmd = \"from bokeh.io.state import curstate; print(curstate().uuid_to_server['\" + server_id + \"'].get_sessions()[0].document.roots[0]._id)\";\n",
       "      cell.notebook.kernel.execute(cmd, {\n",
       "        iopub: {\n",
       "          output: function(msg) {\n",
       "            var id = msg.content.text.trim();\n",
       "            if (id in Bokeh.index) {\n",
       "              Bokeh.index[id].model.document.clear();\n",
       "              delete Bokeh.index[id];\n",
       "            }\n",
       "          }\n",
       "        }\n",
       "      });\n",
       "      // Destroy server and session\n",
       "      var cmd = \"import bokeh.io.notebook as ion; ion.destroy_server('\" + server_id + \"')\";\n",
       "      cell.notebook.kernel.execute(cmd);\n",
       "    }\n",
       "  }\n",
       "\n",
       "  /**\n",
       "   * Handle when a new output is added\n",
       "   */\n",
       "  function handleAddOutput(event, handle) {\n",
       "    var output_area = handle.output_area;\n",
       "    var output = handle.output;\n",
       "\n",
       "    // limit handleAddOutput to display_data with EXEC_MIME_TYPE content only\n",
       "    if ((output.output_type != \"display_data\") || (!output.data.hasOwnProperty(EXEC_MIME_TYPE))) {\n",
       "      return\n",
       "    }\n",
       "\n",
       "    var toinsert = output_area.element.find(\".\" + CLASS_NAME.split(' ')[0]);\n",
       "\n",
       "    if (output.metadata[EXEC_MIME_TYPE][\"id\"] !== undefined) {\n",
       "      toinsert[toinsert.length - 1].firstChild.textContent = output.data[JS_MIME_TYPE];\n",
       "      // store reference to embed id on output_area\n",
       "      output_area._bokeh_element_id = output.metadata[EXEC_MIME_TYPE][\"id\"];\n",
       "    }\n",
       "    if (output.metadata[EXEC_MIME_TYPE][\"server_id\"] !== undefined) {\n",
       "      var bk_div = document.createElement(\"div\");\n",
       "      bk_div.innerHTML = output.data[HTML_MIME_TYPE];\n",
       "      var script_attrs = bk_div.children[0].attributes;\n",
       "      for (var i = 0; i < script_attrs.length; i++) {\n",
       "        toinsert[toinsert.length - 1].firstChild.setAttribute(script_attrs[i].name, script_attrs[i].value);\n",
       "      }\n",
       "      // store reference to server id on output_area\n",
       "      output_area._bokeh_server_id = output.metadata[EXEC_MIME_TYPE][\"server_id\"];\n",
       "    }\n",
       "  }\n",
       "\n",
       "  function register_renderer(events, OutputArea) {\n",
       "\n",
       "    function append_mime(data, metadata, element) {\n",
       "      // create a DOM node to render to\n",
       "      var toinsert = this.create_output_subarea(\n",
       "        metadata,\n",
       "        CLASS_NAME,\n",
       "        EXEC_MIME_TYPE\n",
       "      );\n",
       "      this.keyboard_manager.register_events(toinsert);\n",
       "      // Render to node\n",
       "      var props = {data: data, metadata: metadata[EXEC_MIME_TYPE]};\n",
       "      render(props, toinsert[toinsert.length - 1]);\n",
       "      element.append(toinsert);\n",
       "      return toinsert\n",
       "    }\n",
       "\n",
       "    /* Handle when an output is cleared or removed */\n",
       "    events.on('clear_output.CodeCell', handleClearOutput);\n",
       "    events.on('delete.Cell', handleClearOutput);\n",
       "\n",
       "    /* Handle when a new output is added */\n",
       "    events.on('output_added.OutputArea', handleAddOutput);\n",
       "\n",
       "    /**\n",
       "     * Register the mime type and append_mime function with output_area\n",
       "     */\n",
       "    OutputArea.prototype.register_mime_type(EXEC_MIME_TYPE, append_mime, {\n",
       "      /* Is output safe? */\n",
       "      safe: true,\n",
       "      /* Index of renderer in `output_area.display_order` */\n",
       "      index: 0\n",
       "    });\n",
       "  }\n",
       "\n",
       "  // register the mime type if in Jupyter Notebook environment and previously unregistered\n",
       "  if (root.Jupyter !== undefined) {\n",
       "    var events = require('base/js/events');\n",
       "    var OutputArea = require('notebook/js/outputarea').OutputArea;\n",
       "\n",
       "    if (OutputArea.prototype.mime_types().indexOf(EXEC_MIME_TYPE) == -1) {\n",
       "      register_renderer(events, OutputArea);\n",
       "    }\n",
       "  }\n",
       "\n",
       "  \n",
       "  if (typeof (root._bokeh_timeout) === \"undefined\" || force === true) {\n",
       "    root._bokeh_timeout = Date.now() + 5000;\n",
       "    root._bokeh_failed_load = false;\n",
       "  }\n",
       "\n",
       "  var NB_LOAD_WARNING = {'data': {'text/html':\n",
       "     \"<div style='background-color: #fdd'>\\n\"+\n",
       "     \"<p>\\n\"+\n",
       "     \"BokehJS does not appear to have successfully loaded. If loading BokehJS from CDN, this \\n\"+\n",
       "     \"may be due to a slow or bad network connection. Possible fixes:\\n\"+\n",
       "     \"</p>\\n\"+\n",
       "     \"<ul>\\n\"+\n",
       "     \"<li>re-rerun `output_notebook()` to attempt to load from CDN again, or</li>\\n\"+\n",
       "     \"<li>use INLINE resources instead, as so:</li>\\n\"+\n",
       "     \"</ul>\\n\"+\n",
       "     \"<code>\\n\"+\n",
       "     \"from bokeh.resources import INLINE\\n\"+\n",
       "     \"output_notebook(resources=INLINE)\\n\"+\n",
       "     \"</code>\\n\"+\n",
       "     \"</div>\"}};\n",
       "\n",
       "  function display_loaded() {\n",
       "    var el = document.getElementById(\"1001\");\n",
       "    if (el != null) {\n",
       "      el.textContent = \"BokehJS is loading...\";\n",
       "    }\n",
       "    if (root.Bokeh !== undefined) {\n",
       "      if (el != null) {\n",
       "        el.textContent = \"BokehJS \" + root.Bokeh.version + \" successfully loaded.\";\n",
       "      }\n",
       "    } else if (Date.now() < root._bokeh_timeout) {\n",
       "      setTimeout(display_loaded, 100)\n",
       "    }\n",
       "  }\n",
       "\n",
       "\n",
       "  function run_callbacks() {\n",
       "    try {\n",
       "      root._bokeh_onload_callbacks.forEach(function(callback) {\n",
       "        if (callback != null)\n",
       "          callback();\n",
       "      });\n",
       "    } finally {\n",
       "      delete root._bokeh_onload_callbacks\n",
       "    }\n",
       "    console.debug(\"Bokeh: all callbacks have finished\");\n",
       "  }\n",
       "\n",
       "  function load_libs(css_urls, js_urls, callback) {\n",
       "    if (css_urls == null) css_urls = [];\n",
       "    if (js_urls == null) js_urls = [];\n",
       "\n",
       "    root._bokeh_onload_callbacks.push(callback);\n",
       "    if (root._bokeh_is_loading > 0) {\n",
       "      console.debug(\"Bokeh: BokehJS is being loaded, scheduling callback at\", now());\n",
       "      return null;\n",
       "    }\n",
       "    if (js_urls == null || js_urls.length === 0) {\n",
       "      run_callbacks();\n",
       "      return null;\n",
       "    }\n",
       "    console.debug(\"Bokeh: BokehJS not loaded, scheduling load and callback at\", now());\n",
       "    root._bokeh_is_loading = css_urls.length + js_urls.length;\n",
       "\n",
       "    function on_load() {\n",
       "      root._bokeh_is_loading--;\n",
       "      if (root._bokeh_is_loading === 0) {\n",
       "        console.debug(\"Bokeh: all BokehJS libraries/stylesheets loaded\");\n",
       "        run_callbacks()\n",
       "      }\n",
       "    }\n",
       "\n",
       "    function on_error() {\n",
       "      console.error(\"failed to load \" + url);\n",
       "    }\n",
       "\n",
       "    for (var i = 0; i < css_urls.length; i++) {\n",
       "      var url = css_urls[i];\n",
       "      const element = document.createElement(\"link\");\n",
       "      element.onload = on_load;\n",
       "      element.onerror = on_error;\n",
       "      element.rel = \"stylesheet\";\n",
       "      element.type = \"text/css\";\n",
       "      element.href = url;\n",
       "      console.debug(\"Bokeh: injecting link tag for BokehJS stylesheet: \", url);\n",
       "      document.body.appendChild(element);\n",
       "    }\n",
       "\n",
       "    for (var i = 0; i < js_urls.length; i++) {\n",
       "      var url = js_urls[i];\n",
       "      var element = document.createElement('script');\n",
       "      element.onload = on_load;\n",
       "      element.onerror = on_error;\n",
       "      element.async = false;\n",
       "      element.src = url;\n",
       "      console.debug(\"Bokeh: injecting script tag for BokehJS library: \", url);\n",
       "      document.head.appendChild(element);\n",
       "    }\n",
       "  };var element = document.getElementById(\"1001\");\n",
       "  if (element == null) {\n",
       "    console.error(\"Bokeh: ERROR: autoload.js configured with elementid '1001' but no matching script tag was found. \")\n",
       "    return false;\n",
       "  }\n",
       "\n",
       "  function inject_raw_css(css) {\n",
       "    const element = document.createElement(\"style\");\n",
       "    element.appendChild(document.createTextNode(css));\n",
       "    document.body.appendChild(element);\n",
       "  }\n",
       "\n",
       "  var js_urls = [\"https://cdn.pydata.org/bokeh/release/bokeh-1.3.4.min.js\", \"https://cdn.pydata.org/bokeh/release/bokeh-widgets-1.3.4.min.js\", \"https://cdn.pydata.org/bokeh/release/bokeh-tables-1.3.4.min.js\", \"https://cdn.pydata.org/bokeh/release/bokeh-gl-1.3.4.min.js\"];\n",
       "  var css_urls = [];\n",
       "\n",
       "  var inline_js = [\n",
       "    function(Bokeh) {\n",
       "      Bokeh.set_log_level(\"info\");\n",
       "    },\n",
       "    \n",
       "    function(Bokeh) {\n",
       "      \n",
       "    },\n",
       "    function(Bokeh) {} // ensure no trailing comma for IE\n",
       "  ];\n",
       "\n",
       "  function run_inline_js() {\n",
       "    \n",
       "    if ((root.Bokeh !== undefined) || (force === true)) {\n",
       "      for (var i = 0; i < inline_js.length; i++) {\n",
       "        inline_js[i].call(root, root.Bokeh);\n",
       "      }if (force === true) {\n",
       "        display_loaded();\n",
       "      }} else if (Date.now() < root._bokeh_timeout) {\n",
       "      setTimeout(run_inline_js, 100);\n",
       "    } else if (!root._bokeh_failed_load) {\n",
       "      console.log(\"Bokeh: BokehJS failed to load within specified timeout.\");\n",
       "      root._bokeh_failed_load = true;\n",
       "    } else if (force !== true) {\n",
       "      var cell = $(document.getElementById(\"1001\")).parents('.cell').data().cell;\n",
       "      cell.output_area.append_execute_result(NB_LOAD_WARNING)\n",
       "    }\n",
       "\n",
       "  }\n",
       "\n",
       "  if (root._bokeh_is_loading === 0) {\n",
       "    console.debug(\"Bokeh: BokehJS loaded, going straight to plotting\");\n",
       "    run_inline_js();\n",
       "  } else {\n",
       "    load_libs(css_urls, js_urls, function() {\n",
       "      console.debug(\"Bokeh: BokehJS plotting callback run at\", now());\n",
       "      run_inline_js();\n",
       "    });\n",
       "  }\n",
       "}(window));"
      ],
      "application/vnd.bokehjs_load.v0+json": "\n(function(root) {\n  function now() {\n    return new Date();\n  }\n\n  var force = true;\n\n  if (typeof root._bokeh_onload_callbacks === \"undefined\" || force === true) {\n    root._bokeh_onload_callbacks = [];\n    root._bokeh_is_loading = undefined;\n  }\n\n  \n\n  \n  if (typeof (root._bokeh_timeout) === \"undefined\" || force === true) {\n    root._bokeh_timeout = Date.now() + 5000;\n    root._bokeh_failed_load = false;\n  }\n\n  var NB_LOAD_WARNING = {'data': {'text/html':\n     \"<div style='background-color: #fdd'>\\n\"+\n     \"<p>\\n\"+\n     \"BokehJS does not appear to have successfully loaded. If loading BokehJS from CDN, this \\n\"+\n     \"may be due to a slow or bad network connection. Possible fixes:\\n\"+\n     \"</p>\\n\"+\n     \"<ul>\\n\"+\n     \"<li>re-rerun `output_notebook()` to attempt to load from CDN again, or</li>\\n\"+\n     \"<li>use INLINE resources instead, as so:</li>\\n\"+\n     \"</ul>\\n\"+\n     \"<code>\\n\"+\n     \"from bokeh.resources import INLINE\\n\"+\n     \"output_notebook(resources=INLINE)\\n\"+\n     \"</code>\\n\"+\n     \"</div>\"}};\n\n  function display_loaded() {\n    var el = document.getElementById(\"1001\");\n    if (el != null) {\n      el.textContent = \"BokehJS is loading...\";\n    }\n    if (root.Bokeh !== undefined) {\n      if (el != null) {\n        el.textContent = \"BokehJS \" + root.Bokeh.version + \" successfully loaded.\";\n      }\n    } else if (Date.now() < root._bokeh_timeout) {\n      setTimeout(display_loaded, 100)\n    }\n  }\n\n\n  function run_callbacks() {\n    try {\n      root._bokeh_onload_callbacks.forEach(function(callback) {\n        if (callback != null)\n          callback();\n      });\n    } finally {\n      delete root._bokeh_onload_callbacks\n    }\n    console.debug(\"Bokeh: all callbacks have finished\");\n  }\n\n  function load_libs(css_urls, js_urls, callback) {\n    if (css_urls == null) css_urls = [];\n    if (js_urls == null) js_urls = [];\n\n    root._bokeh_onload_callbacks.push(callback);\n    if (root._bokeh_is_loading > 0) {\n      console.debug(\"Bokeh: BokehJS is being loaded, scheduling callback at\", now());\n      return null;\n    }\n    if (js_urls == null || js_urls.length === 0) {\n      run_callbacks();\n      return null;\n    }\n    console.debug(\"Bokeh: BokehJS not loaded, scheduling load and callback at\", now());\n    root._bokeh_is_loading = css_urls.length + js_urls.length;\n\n    function on_load() {\n      root._bokeh_is_loading--;\n      if (root._bokeh_is_loading === 0) {\n        console.debug(\"Bokeh: all BokehJS libraries/stylesheets loaded\");\n        run_callbacks()\n      }\n    }\n\n    function on_error() {\n      console.error(\"failed to load \" + url);\n    }\n\n    for (var i = 0; i < css_urls.length; i++) {\n      var url = css_urls[i];\n      const element = document.createElement(\"link\");\n      element.onload = on_load;\n      element.onerror = on_error;\n      element.rel = \"stylesheet\";\n      element.type = \"text/css\";\n      element.href = url;\n      console.debug(\"Bokeh: injecting link tag for BokehJS stylesheet: \", url);\n      document.body.appendChild(element);\n    }\n\n    for (var i = 0; i < js_urls.length; i++) {\n      var url = js_urls[i];\n      var element = document.createElement('script');\n      element.onload = on_load;\n      element.onerror = on_error;\n      element.async = false;\n      element.src = url;\n      console.debug(\"Bokeh: injecting script tag for BokehJS library: \", url);\n      document.head.appendChild(element);\n    }\n  };var element = document.getElementById(\"1001\");\n  if (element == null) {\n    console.error(\"Bokeh: ERROR: autoload.js configured with elementid '1001' but no matching script tag was found. \")\n    return false;\n  }\n\n  function inject_raw_css(css) {\n    const element = document.createElement(\"style\");\n    element.appendChild(document.createTextNode(css));\n    document.body.appendChild(element);\n  }\n\n  var js_urls = [\"https://cdn.pydata.org/bokeh/release/bokeh-1.3.4.min.js\", \"https://cdn.pydata.org/bokeh/release/bokeh-widgets-1.3.4.min.js\", \"https://cdn.pydata.org/bokeh/release/bokeh-tables-1.3.4.min.js\", \"https://cdn.pydata.org/bokeh/release/bokeh-gl-1.3.4.min.js\"];\n  var css_urls = [];\n\n  var inline_js = [\n    function(Bokeh) {\n      Bokeh.set_log_level(\"info\");\n    },\n    \n    function(Bokeh) {\n      \n    },\n    function(Bokeh) {} // ensure no trailing comma for IE\n  ];\n\n  function run_inline_js() {\n    \n    if ((root.Bokeh !== undefined) || (force === true)) {\n      for (var i = 0; i < inline_js.length; i++) {\n        inline_js[i].call(root, root.Bokeh);\n      }if (force === true) {\n        display_loaded();\n      }} else if (Date.now() < root._bokeh_timeout) {\n      setTimeout(run_inline_js, 100);\n    } else if (!root._bokeh_failed_load) {\n      console.log(\"Bokeh: BokehJS failed to load within specified timeout.\");\n      root._bokeh_failed_load = true;\n    } else if (force !== true) {\n      var cell = $(document.getElementById(\"1001\")).parents('.cell').data().cell;\n      cell.output_area.append_execute_result(NB_LOAD_WARNING)\n    }\n\n  }\n\n  if (root._bokeh_is_loading === 0) {\n    console.debug(\"Bokeh: BokehJS loaded, going straight to plotting\");\n    run_inline_js();\n  } else {\n    load_libs(css_urls, js_urls, function() {\n      console.debug(\"Bokeh: BokehJS plotting callback run at\", now());\n      run_inline_js();\n    });\n  }\n}(window));"
     },
     "metadata": {},
     "output_type": "display_data"
    }
   ],
   "source": [
    "from bokeh.models import ColumnDataSource, LabelSet\n",
    "from bokeh.plotting import figure, show, output_file\n",
    "from bokeh.io import output_notebook\n",
    "output_notebook()"
   ]
  },
  {
   "cell_type": "markdown",
   "metadata": {},
   "source": [
    "### Part 0: Download the TED dataset"
   ]
  },
  {
   "cell_type": "code",
   "execution_count": 3,
   "metadata": {},
   "outputs": [],
   "source": [
    "import urllib.request\n",
    "import zipfile\n",
    "import lxml.etree"
   ]
  },
  {
   "cell_type": "code",
   "execution_count": 4,
   "metadata": {},
   "outputs": [],
   "source": [
    "# Download the dataset if it's not already there: this may take a minute as it is 75MB\n",
    "if not os.path.isfile('ted_en-20160408.zip'):\n",
    "    urllib.request.urlretrieve(\"https://wit3.fbk.eu/get.php?path=XML_releases/xml/ted_en-20160408.zip&filename=ted_en-20160408.zip\", filename=\"ted_en-20160408.zip\")"
   ]
  },
  {
   "cell_type": "code",
   "execution_count": 5,
   "metadata": {},
   "outputs": [
    {
     "name": "stdout",
     "output_type": "stream",
     "text": [
      "Size of keywords:  2085\n",
      "Size of contents:  2085\n"
     ]
    }
   ],
   "source": [
    "# we're interested in the content and keywords text , so let's extract them from the XML:\n",
    "with zipfile.ZipFile('ted_en-20160408.zip', 'r') as z:\n",
    "    doc = lxml.etree.parse(z.open('ted_en-20160408.xml', 'r'))\n",
    "    contents_text = [] \n",
    "    keywords_text = [] \n",
    "    for content,keywords in zip(doc.iter('content'),doc.iter('keywords')):\n",
    "        keywords_text.append(keywords.text)\n",
    "        contents_text.append(content.text)\n",
    "         \n",
    "del doc\n",
    "print('Size of keywords: ' , len(keywords_text))\n",
    "print('Size of contents: ' , len(contents_text))"
   ]
  },
  {
   "cell_type": "markdown",
   "metadata": {},
   "source": [
    "### Part 1: Preprocessing\n",
    "In this part, we attempt to clean up the raw contents a bit, so that we get only sentences.Let's start by removing all parenthesized strings using a regex:"
   ]
  },
  {
   "cell_type": "code",
   "execution_count": 6,
   "metadata": {},
   "outputs": [],
   "source": [
    "contents_text_noparens = [] \n",
    "for content in contents_text:\n",
    "    contents_text_noparens.append(re.sub(r'\\([^)]*\\)', '', content))"
   ]
  },
  {
   "cell_type": "code",
   "execution_count": 7,
   "metadata": {},
   "outputs": [
    {
     "name": "stdout",
     "output_type": "stream",
     "text": [
      "ir calculators.\n",
      "(Laughter)\n",
      "Facit did too much expl\n",
      "\n",
      "Contents without parenthesized strings:\n",
      "ir calculators.\n",
      "\n",
      "Facit did too much exploitation. \n"
     ]
    }
   ],
   "source": [
    "print(contents_text[0][850:900])\n",
    "print('\\nContents without parenthesized strings:')\n",
    "print(contents_text_noparens[0][850:900])"
   ]
  },
  {
   "cell_type": "markdown",
   "metadata": {},
   "source": [
    "Now, let's attempt to remove speakers' names that occur at the beginning of a line, by deleting pieces of the form \"`<up to 20 characters>:`\". Of course, this is an imperfect heuristic. "
   ]
  },
  {
   "cell_type": "code",
   "execution_count": 8,
   "metadata": {},
   "outputs": [],
   "source": [
    "contents_ted = [] \n",
    "for content in contents_text_noparens:\n",
    "    content_sent = [] \n",
    "    for line in content.split('\\n'):\n",
    "        m = re.match(r'^(?:(?P<precolon>[^:]{,20}):)?(?P<postcolon>.*)$', line)\n",
    "        content_sent.extend(sent for sent in m.groupdict()['postcolon'].split('.') if sent)\n",
    "    contents_ted.append(\" \".join([x for x in content_sent]))"
   ]
  },
  {
   "cell_type": "markdown",
   "metadata": {},
   "source": [
    "We're ready to tokenize each of them into words and make them all small case."
   ]
  },
  {
   "cell_type": "code",
   "execution_count": 9,
   "metadata": {},
   "outputs": [],
   "source": [
    "from nltk.tokenize import word_tokenize\n",
    "import string"
   ]
  },
  {
   "cell_type": "code",
   "execution_count": 10,
   "metadata": {},
   "outputs": [],
   "source": [
    "tokenized_content = []\n",
    "for content in contents_ted:\n",
    "    # split into words\n",
    "    tokens = word_tokenize(content)\n",
    "    # convert to lower case\n",
    "    tokens = [w.lower() for w in tokens]\n",
    "    # remove punctuation from each word\n",
    "    table = str.maketrans('', '', string.punctuation)\n",
    "    stripped = [w.translate(table) for w in tokens]\n",
    "    tokenized_content.append([x for x in stripped if x != ''])"
   ]
  },
  {
   "cell_type": "code",
   "execution_count": 11,
   "metadata": {},
   "outputs": [
    {
     "name": "stdout",
     "output_type": "stream",
     "text": [
      "['here', 'are', 'two', 'reasons', 'companies', 'fail', 'they', 'only', 'do', 'more']\n"
     ]
    }
   ],
   "source": [
    "print(tokenized_content[0][0:10])"
   ]
  },
  {
   "cell_type": "markdown",
   "metadata": {},
   "source": [
    "#### Labelling"
   ]
  },
  {
   "cell_type": "code",
   "execution_count": 85,
   "metadata": {},
   "outputs": [
    {
     "data": {
      "text/plain": [
       "'talks, astronomy, cosmos, curiosity, exploration, nature, physics, science, space, technology, universe'"
      ]
     },
     "execution_count": 85,
     "metadata": {},
     "output_type": "execute_result"
    }
   ],
   "source": [
    "keywords_text[31]"
   ]
  },
  {
   "cell_type": "code",
   "execution_count": 88,
   "metadata": {},
   "outputs": [],
   "source": [
    "labels = []\n",
    "labels_one_hot = [] \n",
    "for k in keywords_text:\n",
    "    k = k.lower()\n",
    "    if 'technology' in k and 'entertainment' in k and 'design' in k: \n",
    "        labels.append('TED')\n",
    "        labels_one_hot.append(np.array([1, 0, 0, 0, 0, 0, 0, 0]))\n",
    "    elif 'entertainment' in k and 'design' in k:\n",
    "        labels.append('oED')\n",
    "        labels_one_hot.append(np.array([0, 1, 0, 0, 0, 0, 0, 0]))\n",
    "    elif 'technology' in k and 'design' in k:\n",
    "        labels.append('ToD')\n",
    "        labels_one_hot.append(np.array([0, 0, 1, 0, 0, 0, 0, 0]))\n",
    "    elif 'technology' in k and 'entertainment' in k:\n",
    "        labels.append('TEo')\n",
    "        labels_one_hot.append(np.array([0, 0, 0, 1, 0, 0, 0, 0]))\n",
    "    elif 'technology' in k: \n",
    "        labels.append('Too')\n",
    "        labels_one_hot.append(np.array([0, 0, 0, 0, 1, 0, 0, 0]))\n",
    "    elif 'entertainment' in k: \n",
    "        labels.append('oEo')\n",
    "        labels_one_hot.append(np.array([0, 0, 0, 0, 0, 1, 0, 0]))\n",
    "    elif 'design' in k : \n",
    "        labels.append('ooD')\n",
    "        labels_one_hot.append(np.array([0, 0, 0, 0, 0, 0, 1, 0]))\n",
    "    else: \n",
    "        labels.append('ooo')    \n",
    "        labels_one_hot.append(np.array([0, 0, 0, 0, 0, 0, 0, 1]))"
   ]
  },
  {
   "cell_type": "code",
   "execution_count": 89,
   "metadata": {},
   "outputs": [
    {
     "name": "stdout",
     "output_type": "stream",
     "text": [
      "Too\n",
      "[0 0 0 0 1 0 0 0]\n"
     ]
    }
   ],
   "source": [
    "print(labels[31])\n",
    "print(labels_one_hot[31])"
   ]
  },
  {
   "cell_type": "markdown",
   "metadata": {},
   "source": [
    "#### Split data"
   ]
  },
  {
   "cell_type": "code",
   "execution_count": 12,
   "metadata": {},
   "outputs": [
    {
     "name": "stdout",
     "output_type": "stream",
     "text": [
      "Size of train data:  1585\n",
      "Size of validation data:  250\n",
      "Size of test data:  250\n"
     ]
    }
   ],
   "source": [
    "train = tokenized_content[0:1585]\n",
    "validation = tokenized_content[1585:1835]\n",
    "test = tokenized_content[1835:len(tokenized_content)]\n",
    "print('Size of train data: ', len(train))\n",
    "print('Size of validation data: ', len(validation))\n",
    "print('Size of test data: ', len(test))"
   ]
  },
  {
   "cell_type": "markdown",
   "metadata": {},
   "source": [
    "#### Word Frequencies"
   ]
  },
  {
   "cell_type": "code",
   "execution_count": 13,
   "metadata": {},
   "outputs": [],
   "source": [
    "from itertools import chain\n",
    "from collections import Counter"
   ]
  },
  {
   "cell_type": "code",
   "execution_count": 38,
   "metadata": {},
   "outputs": [],
   "source": [
    "counts_ted_top1000_dic =  dict(Counter(chain.from_iterable(train)))\n",
    "vocab_size = len(counts_ted_top1000_dic)"
   ]
  },
  {
   "cell_type": "code",
   "execution_count": 15,
   "metadata": {},
   "outputs": [],
   "source": [
    "counts_ted_top1000_dic = {k: v for k, v in sorted(counts_ted_top1000_dic.items(), key=lambda item: item[1], reverse=True)}"
   ]
  },
  {
   "cell_type": "code",
   "execution_count": 16,
   "metadata": {},
   "outputs": [
    {
     "data": {
      "text/plain": [
       "1000"
      ]
     },
     "execution_count": 16,
     "metadata": {},
     "output_type": "execute_result"
    }
   ],
   "source": [
    "counts_ted_top1000 = []\n",
    "i = 0 \n",
    "for k in counts_ted_top1000_dic.keys(): \n",
    "    if i == 1000:\n",
    "        break\n",
    "    counts_ted_top1000.append(counts_ted_top1000_dic[k])\n",
    "    i += 1 \n",
    "len(counts_ted_top1000)"
   ]
  },
  {
   "cell_type": "markdown",
   "metadata": {},
   "source": [
    "### Part 2: Train Word2Vec"
   ]
  },
  {
   "cell_type": "code",
   "execution_count": 17,
   "metadata": {},
   "outputs": [],
   "source": [
    "from gensim.models import Word2Vec"
   ]
  },
  {
   "cell_type": "code",
   "execution_count": 24,
   "metadata": {},
   "outputs": [],
   "source": [
    "model_ted = Word2Vec(train, size=50, window=5, min_count=1, workers=10, iter=100)"
   ]
  },
  {
   "cell_type": "code",
   "execution_count": 25,
   "metadata": {},
   "outputs": [
    {
     "data": {
      "text/plain": [
       "[('dog', 0.7214406728744507),\n",
       " ('horse', 0.6664350628852844),\n",
       " ('babysitter', 0.6273020505905151),\n",
       " ('rosebush', 0.6202597618103027),\n",
       " ('photo', 0.6202403903007507),\n",
       " ('dolphin', 0.6169617176055908),\n",
       " ('urethra', 0.6142557859420776),\n",
       " ('belly', 0.6122345924377441),\n",
       " ('lion', 0.6024689674377441),\n",
       " ('nyan', 0.5973218679428101)]"
      ]
     },
     "execution_count": 25,
     "metadata": {},
     "output_type": "execute_result"
    }
   ],
   "source": [
    "model_ted.wv.most_similar(\"cat\")"
   ]
  },
  {
   "cell_type": "code",
   "execution_count": 30,
   "metadata": {},
   "outputs": [
    {
     "name": "stderr",
     "output_type": "stream",
     "text": [
      "C:\\ProgramData\\Anaconda3\\lib\\site-packages\\ipykernel_launcher.py:1: DeprecationWarning: Call to deprecated `__getitem__` (Method will be removed in 4.0.0, use self.wv.__getitem__() instead).\n",
      "  \"\"\"Entry point for launching an IPython kernel.\n"
     ]
    },
    {
     "data": {
      "text/plain": [
       "array([-2.1511629 ,  0.47705597,  3.3663535 , -0.92788744, -2.731441  ,\n",
       "       -3.4608452 , -3.9246788 ,  1.3752449 ,  1.4074894 ,  0.97740906,\n",
       "        2.7248678 , -0.40133044,  1.2729995 ,  3.9497259 , -3.2209232 ,\n",
       "        0.20522638,  0.02104493, -0.7628617 , -1.8167784 ,  2.2501826 ,\n",
       "        1.4072636 , -0.7820428 , -3.4791026 ,  5.167877  ,  6.4685907 ,\n",
       "        0.60829467,  0.80817497, -0.5068998 ,  2.8806748 ,  2.1530259 ,\n",
       "       -2.3161252 , -0.41240472,  4.1655307 , -1.091243  ,  0.86448574,\n",
       "       -0.7295571 ,  3.311775  , -0.6505842 , -1.578327  ,  5.741625  ,\n",
       "        1.5627375 ,  0.42035607,  0.47050866, -1.5403761 ,  3.3178728 ,\n",
       "       -3.3865097 ,  1.1462854 ,  1.0933002 , -2.3152647 , -0.6321932 ],\n",
       "      dtype=float32)"
      ]
     },
     "execution_count": 30,
     "metadata": {},
     "output_type": "execute_result"
    }
   ],
   "source": [
    "model_ted[\"man\"]"
   ]
  },
  {
   "cell_type": "markdown",
   "metadata": {},
   "source": [
    "#### t-SNE visualization"
   ]
  },
  {
   "cell_type": "code",
   "execution_count": 26,
   "metadata": {},
   "outputs": [],
   "source": [
    "words_top_ted = []\n",
    "i = 0 \n",
    "for k in counts_ted_top1000_dic.keys(): \n",
    "    if i == 1000:\n",
    "        break\n",
    "    words_top_ted.append(k)\n",
    "    i += 1 "
   ]
  },
  {
   "cell_type": "code",
   "execution_count": 27,
   "metadata": {},
   "outputs": [
    {
     "name": "stderr",
     "output_type": "stream",
     "text": [
      "C:\\ProgramData\\Anaconda3\\lib\\site-packages\\ipykernel_launcher.py:2: DeprecationWarning: Call to deprecated `__getitem__` (Method will be removed in 4.0.0, use self.wv.__getitem__() instead).\n",
      "  \n"
     ]
    }
   ],
   "source": [
    "# This assumes words_top_ted is a list of strings, the top 1000 words\n",
    "words_top_vec_ted = model_ted[words_top_ted]"
   ]
  },
  {
   "cell_type": "code",
   "execution_count": 28,
   "metadata": {},
   "outputs": [],
   "source": [
    "from sklearn.manifold import TSNE\n",
    "tsne = TSNE(n_components=2, random_state=0)\n",
    "words_top_ted_tsne = tsne.fit_transform(words_top_vec_ted)"
   ]
  },
  {
   "cell_type": "code",
   "execution_count": 29,
   "metadata": {},
   "outputs": [
    {
     "data": {
      "text/html": [
       "\n",
       "\n",
       "\n",
       "\n",
       "\n",
       "\n",
       "  <div class=\"bk-root\" id=\"e4eda79e-1158-4ef3-9212-9fa8c9cdeafc\" data-root-id=\"1089\"></div>\n"
      ]
     },
     "metadata": {},
     "output_type": "display_data"
    },
    {
     "data": {
      "application/javascript": [
       "(function(root) {\n",
       "  function embed_document(root) {\n",
       "    \n",
       "  var docs_json = {\"0c985f55-d4d3-4637-8777-49830e3146dc\":{\"roots\":{\"references\":[{\"attributes\":{\"below\":[{\"id\":\"1100\",\"type\":\"LinearAxis\"}],\"center\":[{\"id\":\"1104\",\"type\":\"Grid\"},{\"id\":\"1109\",\"type\":\"Grid\"},{\"id\":\"1125\",\"type\":\"LabelSet\"}],\"left\":[{\"id\":\"1105\",\"type\":\"LinearAxis\"}],\"renderers\":[{\"id\":\"1123\",\"type\":\"GlyphRenderer\"}],\"title\":{\"id\":\"1090\",\"type\":\"Title\"},\"toolbar\":{\"id\":\"1114\",\"type\":\"Toolbar\"},\"toolbar_location\":\"above\",\"x_range\":{\"id\":\"1092\",\"type\":\"DataRange1d\"},\"x_scale\":{\"id\":\"1096\",\"type\":\"LinearScale\"},\"y_range\":{\"id\":\"1094\",\"type\":\"DataRange1d\"},\"y_scale\":{\"id\":\"1098\",\"type\":\"LinearScale\"}},\"id\":\"1089\",\"subtype\":\"Figure\",\"type\":\"Plot\"},{\"attributes\":{\"formatter\":{\"id\":\"1135\",\"type\":\"BasicTickFormatter\"},\"ticker\":{\"id\":\"1106\",\"type\":\"BasicTicker\"}},\"id\":\"1105\",\"type\":\"LinearAxis\"},{\"attributes\":{},\"id\":\"1112\",\"type\":\"ResetTool\"},{\"attributes\":{},\"id\":\"1135\",\"type\":\"BasicTickFormatter\"},{\"attributes\":{\"fill_color\":{\"value\":\"#1f77b4\"},\"line_color\":{\"value\":\"#1f77b4\"},\"size\":{\"units\":\"screen\",\"value\":8},\"x\":{\"field\":\"x1\"},\"y\":{\"field\":\"x2\"}},\"id\":\"1121\",\"type\":\"Scatter\"},{\"attributes\":{},\"id\":\"1096\",\"type\":\"LinearScale\"},{\"attributes\":{},\"id\":\"1139\",\"type\":\"UnionRenderers\"},{\"attributes\":{},\"id\":\"1140\",\"type\":\"Selection\"},{\"attributes\":{\"formatter\":{\"id\":\"1137\",\"type\":\"BasicTickFormatter\"},\"ticker\":{\"id\":\"1101\",\"type\":\"BasicTicker\"}},\"id\":\"1100\",\"type\":\"LinearAxis\"},{\"attributes\":{\"fill_alpha\":{\"value\":0.1},\"fill_color\":{\"value\":\"#1f77b4\"},\"line_alpha\":{\"value\":0.1},\"line_color\":{\"value\":\"#1f77b4\"},\"size\":{\"units\":\"screen\",\"value\":8},\"x\":{\"field\":\"x1\"},\"y\":{\"field\":\"x2\"}},\"id\":\"1122\",\"type\":\"Scatter\"},{\"attributes\":{\"data_source\":{\"id\":\"1119\",\"type\":\"ColumnDataSource\"},\"glyph\":{\"id\":\"1121\",\"type\":\"Scatter\"},\"hover_glyph\":null,\"muted_glyph\":null,\"nonselection_glyph\":{\"id\":\"1122\",\"type\":\"Scatter\"},\"selection_glyph\":null,\"view\":{\"id\":\"1124\",\"type\":\"CDSView\"}},\"id\":\"1123\",\"type\":\"GlyphRenderer\"},{\"attributes\":{\"dimension\":1,\"ticker\":{\"id\":\"1106\",\"type\":\"BasicTicker\"}},\"id\":\"1109\",\"type\":\"Grid\"},{\"attributes\":{},\"id\":\"1098\",\"type\":\"LinearScale\"},{\"attributes\":{\"active_drag\":\"auto\",\"active_inspect\":\"auto\",\"active_multi\":null,\"active_scroll\":\"auto\",\"active_tap\":\"auto\",\"tools\":[{\"id\":\"1110\",\"type\":\"PanTool\"},{\"id\":\"1111\",\"type\":\"WheelZoomTool\"},{\"id\":\"1112\",\"type\":\"ResetTool\"},{\"id\":\"1113\",\"type\":\"SaveTool\"}]},\"id\":\"1114\",\"type\":\"Toolbar\"},{\"attributes\":{\"callback\":null},\"id\":\"1094\",\"type\":\"DataRange1d\"},{\"attributes\":{\"source\":{\"id\":\"1119\",\"type\":\"ColumnDataSource\"}},\"id\":\"1124\",\"type\":\"CDSView\"},{\"attributes\":{},\"id\":\"1106\",\"type\":\"BasicTicker\"},{\"attributes\":{\"callback\":null},\"id\":\"1092\",\"type\":\"DataRange1d\"},{\"attributes\":{\"text\":\"word2vec T-SNE for most common words\"},\"id\":\"1090\",\"type\":\"Title\"},{\"attributes\":{},\"id\":\"1137\",\"type\":\"BasicTickFormatter\"},{\"attributes\":{\"callback\":null,\"data\":{\"names\":[\"the\",\"and\",\"to\",\"of\",\"a\",\"that\",\"i\",\"in\",\"it\",\"we\",\"you\",\"is\",\"s\",\"this\",\"so\",\"they\",\"was\",\"for\",\"are\",\"have\",\"but\",\"what\",\"on\",\"do\",\"with\",\"nt\",\"can\",\"about\",\"there\",\"be\",\"not\",\"as\",\"at\",\"my\",\"all\",\"people\",\"one\",\"re\",\"like\",\"if\",\"from\",\"our\",\"now\",\"or\",\"an\",\"these\",\"he\",\"just\",\"when\",\"because\",\"me\",\"by\",\"very\",\"how\",\"them\",\"out\",\"more\",\"had\",\"were\",\"their\",\"who\",\"up\",\"going\",\"would\",\"your\",\"see\",\"know\",\"think\",\"which\",\"really\",\"us\",\"here\",\"ve\",\"get\",\"then\",\"world\",\"m\",\"time\",\"some\",\"has\",\"actually\",\"could\",\"where\",\"into\",\"will\",\"did\",\"way\",\"years\",\"other\",\"no\",\"been\",\"things\",\"want\",\"go\",\"well\",\"she\",\"make\",\"those\",\"right\",\"first\",\"something\",\"than\",\"said\",\"also\",\"much\",\"two\",\"new\",\"even\",\"look\",\"most\",\"over\",\"back\",\"his\",\"work\",\"need\",\"only\",\"many\",\"thing\",\"got\",\"little\",\"take\",\"say\",\"life\",\"does\",\"every\",\"her\",\"why\",\"around\",\"different\",\"lot\",\"let\",\"good\",\"through\",\"same\",\"kind\",\"use\",\"day\",\"come\",\"down\",\"being\",\"ll\",\"today\",\"d\",\"thank\",\"doing\",\"percent\",\"three\",\"any\",\"after\",\"called\",\"tell\",\"put\",\"find\",\"made\",\"fact\",\"change\",\"great\",\"human\",\"own\",\"should\",\"year\",\"started\",\"might\",\"before\",\"its\",\"talk\",\"better\",\"another\",\"never\",\"idea\",\"give\",\"big\",\"last\",\"together\",\"able\",\"women\",\"still\",\"problem\",\"important\",\"system\",\"went\",\"thought\",\"again\",\"ca\",\"each\",\"part\",\"next\",\"course\",\"story\",\"brain\",\"start\",\"him\",\"data\",\"few\",\"used\",\"ago\",\"between\",\"\\u266b\",\"came\",\"show\",\"off\",\"example\",\"water\",\"place\",\"found\",\"maybe\",\"too\",\"technology\",\"question\",\"bit\",\"school\",\"children\",\"wanted\",\"long\",\"love\",\"looking\",\"ever\",\"understand\",\"live\",\"end\",\"done\",\"help\",\"mean\",\"call\",\"point\",\"may\",\"information\",\"trying\",\"country\",\"feel\",\"always\",\"believe\",\"real\",\"away\",\"using\",\"person\",\"working\",\"home\",\"means\",\"thinking\",\"power\",\"everything\",\"try\",\"four\",\"become\",\"times\",\"create\",\"social\",\"whole\",\"10\",\"second\",\"money\",\"small\",\"number\",\"million\",\"okay\",\"without\",\"took\",\"kids\",\"five\",\"best\",\"future\",\"sort\",\"men\",\"less\",\"city\",\"lives\",\"old\",\"told\",\"food\",\"body\",\"getting\",\"light\",\"family\",\"quite\",\"left\",\"am\",\"ask\",\"comes\",\"happened\",\"enough\",\"energy\",\"countries\",\"probably\",\"talking\",\"science\",\"man\",\"space\",\"while\",\"making\",\"such\",\"hard\",\"health\",\"imagine\",\"across\",\"sense\",\"moment\",\"young\",\"saw\",\"pretty\",\"asked\",\"living\",\"care\",\"once\",\"interesting\",\"later\",\"someone\",\"yet\",\"learn\",\"coming\",\"anything\",\"ways\",\"case\",\"having\",\"makes\",\"almost\",\"side\",\"inside\",\"design\",\"days\",\"happen\",\"half\",\"experience\",\"building\",\"build\",\"simple\",\"play\",\"room\",\"high\",\"nothing\",\"remember\",\"else\",\"happens\",\"seen\",\"process\",\"myself\",\"states\",\"community\",\"whether\",\"cells\",\"often\",\"reason\",\"dollars\",\"global\",\"both\",\"already\",\"single\",\"sometimes\",\"public\",\"goes\",\"move\",\"bad\",\"government\",\"within\",\"instead\",\"friends\",\"far\",\"project\",\"looked\",\"wrong\",\"possible\",\"mind\",\"says\",\"20\",\"problems\",\"cancer\",\"answer\",\"sure\",\"months\",\"research\",\"stuff\",\"control\",\"job\",\"\\u2014\",\"basically\",\"amazing\",\"saying\",\"u\",\"business\",\"picture\",\"billion\",\"hope\",\"hand\",\"set\",\"since\",\"open\",\"keep\",\"earth\",\"words\",\"six\",\"yes\",\"true\",\"top\",\"united\",\"woman\",\"study\",\"child\",\"matter\",\"age\",\"order\",\"looks\",\"learned\",\"history\",\"computer\",\"\\u266a\",\"face\",\"until\",\"knew\",\"bring\",\"internet\",\"against\",\"heard\",\"stories\",\"group\",\"share\",\"everyone\",\"read\",\"planet\",\"turn\",\"became\",\"society\",\"taking\",\"car\",\"night\",\"language\",\"under\",\"guy\",\"state\",\"education\",\"places\",\"stop\",\"decided\",\"video\",\"war\",\"questions\",\"though\",\"ourselves\",\"themselves\",\"book\",\"everybody\",\"couple\",\"line\",\"form\",\"exactly\",\"works\",\"beautiful\",\"created\",\"completely\",\"oh\",\"music\",\"built\",\"ideas\",\"gets\",\"turns\",\"students\",\"model\",\"run\",\"middle\",\"black\",\"somebody\",\"happening\",\"heart\",\"name\",\"hear\",\"disease\",\"hours\",\"thousands\",\"america\",\"environment\",\"animals\",\"30\",\"others\",\"mother\",\"huge\",\"india\",\"piece\",\"front\",\"head\",\"kinds\",\"word\",\"rather\",\"learning\",\"systems\",\"past\",\"large\",\"worked\",\"minutes\",\"during\",\"level\",\"company\",\"early\",\"art\",\"sound\",\"itself\",\"house\",\"entire\",\"changed\",\"perhaps\",\"africa\",\"companies\",\"must\",\"yeah\",\"least\",\"species\",\"ones\",\"nature\",\"given\",\"behind\",\"game\",\"gave\",\"local\",\"reality\",\"lots\",\"china\",\"news\",\"particular\",\"difficult\",\"american\",\"third\",\"cities\",\"per\",\"guys\",\"team\",\"leave\",\"parents\",\"patients\",\"finally\",\"machine\",\"cell\",\"along\",\"50\",\"outside\",\"yourself\",\"simply\",\"taken\",\"difference\",\"easy\",\"natural\",\"population\",\"takes\",\"culture\",\"needed\",\"figure\",\"seeing\",\"father\",\"realized\",\"eyes\",\"happy\",\"economic\",\"turned\",\"close\",\"political\",\"felt\",\"image\",\"universe\",\"needs\",\"powerful\",\"100\",\"fish\",\"century\",\"media\",\"ocean\",\"air\",\"ted\",\"spend\",\"humans\",\"week\",\"parts\",\"york\",\"area\",\"hands\",\"walk\",\"terms\",\"15\",\"death\",\"red\",\"free\",\"blue\",\"grow\",\"weeks\",\"began\",\"national\",\"friend\",\"challenge\",\"spent\",\"longer\",\"white\",\"seven\",\"full\",\"paper\",\"shows\",\"changes\",\"growth\",\"physical\",\"girl\",\"field\",\"poor\",\"certain\",\"known\",\"phone\",\"online\",\"hundreds\",\"scale\",\"born\",\"climate\",\"moving\",\"green\",\"sitting\",\"beginning\",\"step\",\"access\",\"land\",\"feeling\",\"lost\",\"based\",\"view\",\"tried\",\"ability\",\"opportunity\",\"common\",\"oil\",\"amount\",\"either\",\"center\",\"average\",\"images\",\"gone\",\"attention\",\"pay\",\"value\",\"scientists\",\"street\",\"cost\",\"write\",\"behavior\",\"economy\",\"whatever\",\"fear\",\"numbers\",\"medical\",\"met\",\"god\",\"rest\",\"blood\",\"size\",\"speak\",\"quickly\",\"complex\",\"test\",\"market\",\"movement\",\"risk\",\"deal\",\"girls\",\"anyone\",\"eight\",\"growing\",\"south\",\"realize\",\"alone\",\"interested\",\"giving\",\"areas\",\"lab\",\"buy\",\"morning\",\"animal\",\"support\",\"developed\",\"individual\",\"millions\",\"hold\",\"development\",\"understanding\",\"audience\",\"innovation\",\"act\",\"map\",\"drug\",\"result\",\"absolutely\",\"issue\",\"rights\",\"incredible\",\"voice\",\"knowledge\",\"law\",\"kid\",\"telling\",\"structure\",\"key\",\"stage\",\"watch\",\"seems\",\"patient\",\"program\",\"dna\",\"personal\",\"brought\",\"wrote\",\"north\",\"ground\",\"europe\",\"deep\",\"die\",\"wonderful\",\"tools\",\"drugs\",\"especially\",\"eat\",\"choice\",\"communities\",\"network\",\"asking\",\"books\",\"normal\",\"starting\",\"creating\",\"issues\",\"literally\",\"surface\",\"violence\",\"clear\",\"rate\",\"sea\",\"recently\",\"running\",\"playing\",\"nice\",\"baby\",\"changing\",\"forward\",\"soon\",\"solve\",\"technologies\",\"tiny\",\"several\",\"digital\",\"solution\",\"resources\",\"likely\",\"cars\",\"impact\",\"allow\",\"meet\",\"special\",\"material\",\"bottom\",\"miles\",\"beyond\",\"groups\",\"wo\",\"relationship\",\"university\",\"seem\",\"evidence\",\"writing\",\"40\",\"international\",\"save\",\"fly\",\"box\",\"indeed\",\"available\",\"showed\",\"send\",\"message\",\"trust\",\"situation\",\"gives\",\"short\",\"stay\",\"discovered\",\"developing\",\"fast\",\"nobody\",\"office\",\"cause\",\"robot\",\"industry\",\"obviously\",\"generation\",\"bigger\",\"crazy\",\"revolution\",\"wall\",\"security\",\"journey\",\"cut\",\"dead\",\"similar\",\"color\",\"chance\",\"dark\",\"type\",\"produce\",\"pick\",\"police\",\"major\",\"device\",\"english\",\"west\",\"ready\",\"product\",\"sounds\",\"modern\",\"ice\",\"reasons\",\"led\",\"incredibly\",\"hundred\",\"focus\",\"memory\",\"medicine\",\"stand\",\"suddenly\",\"measure\",\"truth\",\"examples\",\"begin\",\"towards\",\"cool\",\"dream\",\"basic\",\"talked\",\"potential\",\"walking\",\"doctor\",\"boy\",\"chinese\",\"hit\",\"sun\",\"feet\",\"games\",\"scientific\",\"democracy\",\"explain\",\"designed\",\"teach\",\"theory\",\"starts\",\"choose\",\"sex\",\"effect\",\"force\",\"google\",\"experiment\",\"camera\",\"action\",\"hospital\",\"involved\",\"notice\",\"please\",\"knows\",\"individuals\",\"present\",\"college\",\"perfect\",\"success\",\"class\",\"approach\",\"putting\",\"reach\",\"listen\",\"sleep\",\"eye\",\"died\",\"including\",\"pictures\",\"conversation\",\"watching\",\"guess\",\"plant\",\"leaders\",\"computers\",\"becomes\",\"among\",\"safe\",\"lived\",\"cases\",\"certainly\",\"freedom\",\"table\",\"low\",\"general\",\"biggest\",\"east\",\"1\",\"film\",\"quality\",\"worse\",\"eventually\",\"doctors\",\"worth\",\"schools\",\"favorite\",\"families\",\"break\",\"fight\",\"extremely\",\"everywhere\",\"objects\",\"particularly\",\"nine\",\"largest\",\"onto\",\"fun\",\"grew\",\"organization\",\"anybody\",\"results\",\"response\",\"solar\",\"drive\",\"higher\",\"moved\",\"develop\",\"connected\",\"faster\",\"12\",\"son\",\"sit\",\"protect\",\"allowed\",\"strong\",\"treatment\",\"shown\",\"further\",\"creative\",\"role\",\"extraordinary\",\"standing\",\"waste\",\"wants\",\"mom\",\"bodies\",\"code\",\"sent\",\"jobs\",\"conditions\",\"plan\",\"showing\",\"brains\",\"carbon\",\"however\",\"road\",\"month\",\"models\",\"teachers\",\"totally\",\"wife\",\"hour\",\"loved\",\"period\",\"software\",\"tells\",\"essentially\",\"wait\",\"taught\",\"finding\",\"continue\",\"fire\",\"older\",\"crisis\",\"studies\",\"object\",\"smart\",\"shape\",\"activity\",\"usually\",\"vision\",\"truly\",\"progress\",\"add\",\"robots\",\"skin\",\"anymore\",\"exist\",\"career\",\"plants\",\"web\",\"materials\",\"lead\",\"supposed\",\"consider\",\"exciting\",\"visual\",\"poverty\",\"increase\",\"mine\",\"tool\",\"fall\",\"successful\",\"student\",\"training\",\"goal\",\"rules\",\"meant\",\"expect\",\"clearly\"],\"x1\":{\"__ndarray__\":\"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\",\"dtype\":\"float32\",\"shape\":[1000]},\"x2\":{\"__ndarray__\":\"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\",\"dtype\":\"float32\",\"shape\":[1000]}},\"selected\":{\"id\":\"1140\",\"type\":\"Selection\"},\"selection_policy\":{\"id\":\"1139\",\"type\":\"UnionRenderers\"}},\"id\":\"1119\",\"type\":\"ColumnDataSource\"},{\"attributes\":{},\"id\":\"1101\",\"type\":\"BasicTicker\"},{\"attributes\":{\"source\":{\"id\":\"1119\",\"type\":\"ColumnDataSource\"},\"text\":{\"field\":\"names\"},\"text_align\":\"center\",\"text_color\":{\"value\":\"#555555\"},\"text_font_size\":{\"value\":\"8pt\"},\"x\":{\"field\":\"x1\"},\"y\":{\"field\":\"x2\"},\"y_offset\":{\"value\":6}},\"id\":\"1125\",\"type\":\"LabelSet\"},{\"attributes\":{},\"id\":\"1111\",\"type\":\"WheelZoomTool\"},{\"attributes\":{},\"id\":\"1110\",\"type\":\"PanTool\"},{\"attributes\":{},\"id\":\"1113\",\"type\":\"SaveTool\"},{\"attributes\":{\"ticker\":{\"id\":\"1101\",\"type\":\"BasicTicker\"}},\"id\":\"1104\",\"type\":\"Grid\"}],\"root_ids\":[\"1089\"]},\"title\":\"Bokeh Application\",\"version\":\"1.3.4\"}};\n",
       "  var render_items = [{\"docid\":\"0c985f55-d4d3-4637-8777-49830e3146dc\",\"roots\":{\"1089\":\"e4eda79e-1158-4ef3-9212-9fa8c9cdeafc\"}}];\n",
       "  root.Bokeh.embed.embed_items_notebook(docs_json, render_items);\n",
       "\n",
       "  }\n",
       "  if (root.Bokeh !== undefined) {\n",
       "    embed_document(root);\n",
       "  } else {\n",
       "    var attempts = 0;\n",
       "    var timer = setInterval(function(root) {\n",
       "      if (root.Bokeh !== undefined) {\n",
       "        embed_document(root);\n",
       "        clearInterval(timer);\n",
       "      }\n",
       "      attempts++;\n",
       "      if (attempts > 100) {\n",
       "        console.log(\"Bokeh: ERROR: Unable to run BokehJS code because BokehJS library is missing\");\n",
       "        clearInterval(timer);\n",
       "      }\n",
       "    }, 10, root)\n",
       "  }\n",
       "})(window);"
      ],
      "application/vnd.bokehjs_exec.v0+json": ""
     },
     "metadata": {
      "application/vnd.bokehjs_exec.v0+json": {
       "id": "1089"
      }
     },
     "output_type": "display_data"
    }
   ],
   "source": [
    "p = figure(tools=\"pan,wheel_zoom,reset,save\",\n",
    "           toolbar_location=\"above\",\n",
    "           title=\"word2vec T-SNE for most common words\")\n",
    "\n",
    "source = ColumnDataSource(data=dict(x1=words_top_ted_tsne[:,0],\n",
    "                                    x2=words_top_ted_tsne[:,1],\n",
    "                                    names=words_top_ted))\n",
    "\n",
    "p.scatter(x=\"x1\", y=\"x2\", size=8, source=source)\n",
    "\n",
    "labels = LabelSet(x=\"x1\", y=\"x2\", text=\"names\", y_offset=6,\n",
    "                  text_font_size=\"8pt\", text_color=\"#555555\",\n",
    "                  source=source, text_align='center')\n",
    "p.add_layout(labels)\n",
    "\n",
    "show(p)"
   ]
  },
  {
   "cell_type": "code",
   "execution_count": 44,
   "metadata": {
    "scrolled": true
   },
   "outputs": [
    {
     "name": "stderr",
     "output_type": "stream",
     "text": [
      "Using TensorFlow backend.\n"
     ]
    }
   ],
   "source": [
    "from keras.preprocessing.text import one_hot\n",
    "from keras.preprocessing.sequence import pad_sequences\n",
    "from keras.models import Sequential\n",
    "from keras.layers import Dense\n",
    "from keras.layers import Flatten\n",
    "from keras.layers.embeddings import Embedding"
   ]
  },
  {
   "cell_type": "code",
   "execution_count": 49,
   "metadata": {},
   "outputs": [
    {
     "name": "stdout",
     "output_type": "stream",
     "text": [
      "['here', 'are', 'two', 'reasons', 'companies', 'fail', 'they', 'only', 'do', 'more']\n",
      "[5785, 43949, 18981, 13351, 30197, 45750, 11892, 44604, 28866, 7111]\n"
     ]
    }
   ],
   "source": [
    "encoded_contents = [one_hot(c, vocab_size) for c in contents_ted]\n",
    "print(tokenized_content[0][0:10])\n",
    "print(encoded_contents[0][0:10])"
   ]
  },
  {
   "cell_type": "markdown",
   "metadata": {},
   "source": [
    "The sequences have different lengths and Keras prefers inputs to be vectorized and all inputs to have the same length. We will pad all input sequences to have the length of the input with the  bigger length. Again, we can do this with a built in Keras function, in this case the pad_sequences() function."
   ]
  },
  {
   "cell_type": "code",
   "execution_count": 53,
   "metadata": {},
   "outputs": [
    {
     "name": "stdout",
     "output_type": "stream",
     "text": [
      "34680\n"
     ]
    }
   ],
   "source": [
    "max_length = len(max(contents_ted ,key = len))\n",
    "print(max_length)"
   ]
  },
  {
   "cell_type": "code",
   "execution_count": 56,
   "metadata": {},
   "outputs": [
    {
     "name": "stdout",
     "output_type": "stream",
     "text": [
      "[ 5785 43949 18981 ...     0     0     0]\n"
     ]
    }
   ],
   "source": [
    "# pad documents to a max length of max words\n",
    "padded_contents = pad_sequences(encoded_contents, maxlen=max_length, padding='post')\n",
    "print(padded_contents[0])"
   ]
  },
  {
   "cell_type": "markdown",
   "metadata": {},
   "source": [
    "### Part 3: Define Model\n",
    "We are now ready to define our Embedding layer as part of our neural network model.\n",
    "The Embedding has a vocabulary of 53184 and an input length of 34680. We will choose an embedding space of 50 dimensions."
   ]
  },
  {
   "cell_type": "code",
   "execution_count": 58,
   "metadata": {},
   "outputs": [
    {
     "name": "stdout",
     "output_type": "stream",
     "text": [
      "Model: \"sequential_1\"\n",
      "_________________________________________________________________\n",
      "Layer (type)                 Output Shape              Param #   \n",
      "=================================================================\n",
      "embedding_1 (Embedding)      (None, 34680, 50)         2659200   \n",
      "_________________________________________________________________\n",
      "flatten_1 (Flatten)          (None, 1734000)           0         \n",
      "_________________________________________________________________\n",
      "dense_1 (Dense)              (None, 1)                 1734001   \n",
      "=================================================================\n",
      "Total params: 4,393,201\n",
      "Trainable params: 4,393,201\n",
      "Non-trainable params: 0\n",
      "_________________________________________________________________\n",
      "None\n"
     ]
    }
   ],
   "source": [
    "# define the model\n",
    "model = Sequential()\n",
    "model.add(Embedding(vocab_size, 50, input_length=max_length))\n",
    "model.add(Flatten())\n",
    "model.add(Dense(1, activation='sigmoid'))\n",
    "# compile the model\n",
    "model.compile(optimizer='adam', loss='binary_crossentropy', metrics=['accuracy'])\n",
    "# summarize the model\n",
    "print(model.summary())"
   ]
  },
  {
   "cell_type": "code",
   "execution_count": null,
   "metadata": {},
   "outputs": [],
   "source": []
  },
  {
   "cell_type": "code",
   "execution_count": null,
   "metadata": {},
   "outputs": [],
   "source": []
  }
 ],
 "metadata": {
  "kernelspec": {
   "display_name": "Python 3",
   "language": "python",
   "name": "python3"
  },
  "language_info": {
   "codemirror_mode": {
    "name": "ipython",
    "version": 3
   },
   "file_extension": ".py",
   "mimetype": "text/x-python",
   "name": "python",
   "nbconvert_exporter": "python",
   "pygments_lexer": "ipython3",
   "version": "3.7.4"
  }
 },
 "nbformat": 4,
 "nbformat_minor": 2
}
