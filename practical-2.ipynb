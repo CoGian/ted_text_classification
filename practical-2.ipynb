{
 "cells": [
  {
   "cell_type": "code",
   "execution_count": 3,
   "metadata": {},
   "outputs": [],
   "source": [
    "import numpy as np\n",
    "import os\n",
    "from random import shuffle\n",
    "import re"
   ]
  },
  {
   "cell_type": "code",
   "execution_count": 4,
   "metadata": {},
   "outputs": [
    {
     "data": {
      "text/html": [
       "\n",
       "    <div class=\"bk-root\">\n",
       "        <a href=\"https://bokeh.pydata.org\" target=\"_blank\" class=\"bk-logo bk-logo-small bk-logo-notebook\"></a>\n",
       "        <span id=\"1001\">Loading BokehJS ...</span>\n",
       "    </div>"
      ]
     },
     "metadata": {},
     "output_type": "display_data"
    },
    {
     "data": {
      "application/javascript": [
       "\n",
       "(function(root) {\n",
       "  function now() {\n",
       "    return new Date();\n",
       "  }\n",
       "\n",
       "  var force = true;\n",
       "\n",
       "  if (typeof root._bokeh_onload_callbacks === \"undefined\" || force === true) {\n",
       "    root._bokeh_onload_callbacks = [];\n",
       "    root._bokeh_is_loading = undefined;\n",
       "  }\n",
       "\n",
       "  var JS_MIME_TYPE = 'application/javascript';\n",
       "  var HTML_MIME_TYPE = 'text/html';\n",
       "  var EXEC_MIME_TYPE = 'application/vnd.bokehjs_exec.v0+json';\n",
       "  var CLASS_NAME = 'output_bokeh rendered_html';\n",
       "\n",
       "  /**\n",
       "   * Render data to the DOM node\n",
       "   */\n",
       "  function render(props, node) {\n",
       "    var script = document.createElement(\"script\");\n",
       "    node.appendChild(script);\n",
       "  }\n",
       "\n",
       "  /**\n",
       "   * Handle when an output is cleared or removed\n",
       "   */\n",
       "  function handleClearOutput(event, handle) {\n",
       "    var cell = handle.cell;\n",
       "\n",
       "    var id = cell.output_area._bokeh_element_id;\n",
       "    var server_id = cell.output_area._bokeh_server_id;\n",
       "    // Clean up Bokeh references\n",
       "    if (id != null && id in Bokeh.index) {\n",
       "      Bokeh.index[id].model.document.clear();\n",
       "      delete Bokeh.index[id];\n",
       "    }\n",
       "\n",
       "    if (server_id !== undefined) {\n",
       "      // Clean up Bokeh references\n",
       "      var cmd = \"from bokeh.io.state import curstate; print(curstate().uuid_to_server['\" + server_id + \"'].get_sessions()[0].document.roots[0]._id)\";\n",
       "      cell.notebook.kernel.execute(cmd, {\n",
       "        iopub: {\n",
       "          output: function(msg) {\n",
       "            var id = msg.content.text.trim();\n",
       "            if (id in Bokeh.index) {\n",
       "              Bokeh.index[id].model.document.clear();\n",
       "              delete Bokeh.index[id];\n",
       "            }\n",
       "          }\n",
       "        }\n",
       "      });\n",
       "      // Destroy server and session\n",
       "      var cmd = \"import bokeh.io.notebook as ion; ion.destroy_server('\" + server_id + \"')\";\n",
       "      cell.notebook.kernel.execute(cmd);\n",
       "    }\n",
       "  }\n",
       "\n",
       "  /**\n",
       "   * Handle when a new output is added\n",
       "   */\n",
       "  function handleAddOutput(event, handle) {\n",
       "    var output_area = handle.output_area;\n",
       "    var output = handle.output;\n",
       "\n",
       "    // limit handleAddOutput to display_data with EXEC_MIME_TYPE content only\n",
       "    if ((output.output_type != \"display_data\") || (!output.data.hasOwnProperty(EXEC_MIME_TYPE))) {\n",
       "      return\n",
       "    }\n",
       "\n",
       "    var toinsert = output_area.element.find(\".\" + CLASS_NAME.split(' ')[0]);\n",
       "\n",
       "    if (output.metadata[EXEC_MIME_TYPE][\"id\"] !== undefined) {\n",
       "      toinsert[toinsert.length - 1].firstChild.textContent = output.data[JS_MIME_TYPE];\n",
       "      // store reference to embed id on output_area\n",
       "      output_area._bokeh_element_id = output.metadata[EXEC_MIME_TYPE][\"id\"];\n",
       "    }\n",
       "    if (output.metadata[EXEC_MIME_TYPE][\"server_id\"] !== undefined) {\n",
       "      var bk_div = document.createElement(\"div\");\n",
       "      bk_div.innerHTML = output.data[HTML_MIME_TYPE];\n",
       "      var script_attrs = bk_div.children[0].attributes;\n",
       "      for (var i = 0; i < script_attrs.length; i++) {\n",
       "        toinsert[toinsert.length - 1].firstChild.setAttribute(script_attrs[i].name, script_attrs[i].value);\n",
       "      }\n",
       "      // store reference to server id on output_area\n",
       "      output_area._bokeh_server_id = output.metadata[EXEC_MIME_TYPE][\"server_id\"];\n",
       "    }\n",
       "  }\n",
       "\n",
       "  function register_renderer(events, OutputArea) {\n",
       "\n",
       "    function append_mime(data, metadata, element) {\n",
       "      // create a DOM node to render to\n",
       "      var toinsert = this.create_output_subarea(\n",
       "        metadata,\n",
       "        CLASS_NAME,\n",
       "        EXEC_MIME_TYPE\n",
       "      );\n",
       "      this.keyboard_manager.register_events(toinsert);\n",
       "      // Render to node\n",
       "      var props = {data: data, metadata: metadata[EXEC_MIME_TYPE]};\n",
       "      render(props, toinsert[toinsert.length - 1]);\n",
       "      element.append(toinsert);\n",
       "      return toinsert\n",
       "    }\n",
       "\n",
       "    /* Handle when an output is cleared or removed */\n",
       "    events.on('clear_output.CodeCell', handleClearOutput);\n",
       "    events.on('delete.Cell', handleClearOutput);\n",
       "\n",
       "    /* Handle when a new output is added */\n",
       "    events.on('output_added.OutputArea', handleAddOutput);\n",
       "\n",
       "    /**\n",
       "     * Register the mime type and append_mime function with output_area\n",
       "     */\n",
       "    OutputArea.prototype.register_mime_type(EXEC_MIME_TYPE, append_mime, {\n",
       "      /* Is output safe? */\n",
       "      safe: true,\n",
       "      /* Index of renderer in `output_area.display_order` */\n",
       "      index: 0\n",
       "    });\n",
       "  }\n",
       "\n",
       "  // register the mime type if in Jupyter Notebook environment and previously unregistered\n",
       "  if (root.Jupyter !== undefined) {\n",
       "    var events = require('base/js/events');\n",
       "    var OutputArea = require('notebook/js/outputarea').OutputArea;\n",
       "\n",
       "    if (OutputArea.prototype.mime_types().indexOf(EXEC_MIME_TYPE) == -1) {\n",
       "      register_renderer(events, OutputArea);\n",
       "    }\n",
       "  }\n",
       "\n",
       "  \n",
       "  if (typeof (root._bokeh_timeout) === \"undefined\" || force === true) {\n",
       "    root._bokeh_timeout = Date.now() + 5000;\n",
       "    root._bokeh_failed_load = false;\n",
       "  }\n",
       "\n",
       "  var NB_LOAD_WARNING = {'data': {'text/html':\n",
       "     \"<div style='background-color: #fdd'>\\n\"+\n",
       "     \"<p>\\n\"+\n",
       "     \"BokehJS does not appear to have successfully loaded. If loading BokehJS from CDN, this \\n\"+\n",
       "     \"may be due to a slow or bad network connection. Possible fixes:\\n\"+\n",
       "     \"</p>\\n\"+\n",
       "     \"<ul>\\n\"+\n",
       "     \"<li>re-rerun `output_notebook()` to attempt to load from CDN again, or</li>\\n\"+\n",
       "     \"<li>use INLINE resources instead, as so:</li>\\n\"+\n",
       "     \"</ul>\\n\"+\n",
       "     \"<code>\\n\"+\n",
       "     \"from bokeh.resources import INLINE\\n\"+\n",
       "     \"output_notebook(resources=INLINE)\\n\"+\n",
       "     \"</code>\\n\"+\n",
       "     \"</div>\"}};\n",
       "\n",
       "  function display_loaded() {\n",
       "    var el = document.getElementById(\"1001\");\n",
       "    if (el != null) {\n",
       "      el.textContent = \"BokehJS is loading...\";\n",
       "    }\n",
       "    if (root.Bokeh !== undefined) {\n",
       "      if (el != null) {\n",
       "        el.textContent = \"BokehJS \" + root.Bokeh.version + \" successfully loaded.\";\n",
       "      }\n",
       "    } else if (Date.now() < root._bokeh_timeout) {\n",
       "      setTimeout(display_loaded, 100)\n",
       "    }\n",
       "  }\n",
       "\n",
       "\n",
       "  function run_callbacks() {\n",
       "    try {\n",
       "      root._bokeh_onload_callbacks.forEach(function(callback) {\n",
       "        if (callback != null)\n",
       "          callback();\n",
       "      });\n",
       "    } finally {\n",
       "      delete root._bokeh_onload_callbacks\n",
       "    }\n",
       "    console.debug(\"Bokeh: all callbacks have finished\");\n",
       "  }\n",
       "\n",
       "  function load_libs(css_urls, js_urls, callback) {\n",
       "    if (css_urls == null) css_urls = [];\n",
       "    if (js_urls == null) js_urls = [];\n",
       "\n",
       "    root._bokeh_onload_callbacks.push(callback);\n",
       "    if (root._bokeh_is_loading > 0) {\n",
       "      console.debug(\"Bokeh: BokehJS is being loaded, scheduling callback at\", now());\n",
       "      return null;\n",
       "    }\n",
       "    if (js_urls == null || js_urls.length === 0) {\n",
       "      run_callbacks();\n",
       "      return null;\n",
       "    }\n",
       "    console.debug(\"Bokeh: BokehJS not loaded, scheduling load and callback at\", now());\n",
       "    root._bokeh_is_loading = css_urls.length + js_urls.length;\n",
       "\n",
       "    function on_load() {\n",
       "      root._bokeh_is_loading--;\n",
       "      if (root._bokeh_is_loading === 0) {\n",
       "        console.debug(\"Bokeh: all BokehJS libraries/stylesheets loaded\");\n",
       "        run_callbacks()\n",
       "      }\n",
       "    }\n",
       "\n",
       "    function on_error() {\n",
       "      console.error(\"failed to load \" + url);\n",
       "    }\n",
       "\n",
       "    for (var i = 0; i < css_urls.length; i++) {\n",
       "      var url = css_urls[i];\n",
       "      const element = document.createElement(\"link\");\n",
       "      element.onload = on_load;\n",
       "      element.onerror = on_error;\n",
       "      element.rel = \"stylesheet\";\n",
       "      element.type = \"text/css\";\n",
       "      element.href = url;\n",
       "      console.debug(\"Bokeh: injecting link tag for BokehJS stylesheet: \", url);\n",
       "      document.body.appendChild(element);\n",
       "    }\n",
       "\n",
       "    for (var i = 0; i < js_urls.length; i++) {\n",
       "      var url = js_urls[i];\n",
       "      var element = document.createElement('script');\n",
       "      element.onload = on_load;\n",
       "      element.onerror = on_error;\n",
       "      element.async = false;\n",
       "      element.src = url;\n",
       "      console.debug(\"Bokeh: injecting script tag for BokehJS library: \", url);\n",
       "      document.head.appendChild(element);\n",
       "    }\n",
       "  };var element = document.getElementById(\"1001\");\n",
       "  if (element == null) {\n",
       "    console.error(\"Bokeh: ERROR: autoload.js configured with elementid '1001' but no matching script tag was found. \")\n",
       "    return false;\n",
       "  }\n",
       "\n",
       "  function inject_raw_css(css) {\n",
       "    const element = document.createElement(\"style\");\n",
       "    element.appendChild(document.createTextNode(css));\n",
       "    document.body.appendChild(element);\n",
       "  }\n",
       "\n",
       "  var js_urls = [\"https://cdn.pydata.org/bokeh/release/bokeh-1.3.4.min.js\", \"https://cdn.pydata.org/bokeh/release/bokeh-widgets-1.3.4.min.js\", \"https://cdn.pydata.org/bokeh/release/bokeh-tables-1.3.4.min.js\", \"https://cdn.pydata.org/bokeh/release/bokeh-gl-1.3.4.min.js\"];\n",
       "  var css_urls = [];\n",
       "\n",
       "  var inline_js = [\n",
       "    function(Bokeh) {\n",
       "      Bokeh.set_log_level(\"info\");\n",
       "    },\n",
       "    \n",
       "    function(Bokeh) {\n",
       "      \n",
       "    },\n",
       "    function(Bokeh) {} // ensure no trailing comma for IE\n",
       "  ];\n",
       "\n",
       "  function run_inline_js() {\n",
       "    \n",
       "    if ((root.Bokeh !== undefined) || (force === true)) {\n",
       "      for (var i = 0; i < inline_js.length; i++) {\n",
       "        inline_js[i].call(root, root.Bokeh);\n",
       "      }if (force === true) {\n",
       "        display_loaded();\n",
       "      }} else if (Date.now() < root._bokeh_timeout) {\n",
       "      setTimeout(run_inline_js, 100);\n",
       "    } else if (!root._bokeh_failed_load) {\n",
       "      console.log(\"Bokeh: BokehJS failed to load within specified timeout.\");\n",
       "      root._bokeh_failed_load = true;\n",
       "    } else if (force !== true) {\n",
       "      var cell = $(document.getElementById(\"1001\")).parents('.cell').data().cell;\n",
       "      cell.output_area.append_execute_result(NB_LOAD_WARNING)\n",
       "    }\n",
       "\n",
       "  }\n",
       "\n",
       "  if (root._bokeh_is_loading === 0) {\n",
       "    console.debug(\"Bokeh: BokehJS loaded, going straight to plotting\");\n",
       "    run_inline_js();\n",
       "  } else {\n",
       "    load_libs(css_urls, js_urls, function() {\n",
       "      console.debug(\"Bokeh: BokehJS plotting callback run at\", now());\n",
       "      run_inline_js();\n",
       "    });\n",
       "  }\n",
       "}(window));"
      ],
      "application/vnd.bokehjs_load.v0+json": "\n(function(root) {\n  function now() {\n    return new Date();\n  }\n\n  var force = true;\n\n  if (typeof root._bokeh_onload_callbacks === \"undefined\" || force === true) {\n    root._bokeh_onload_callbacks = [];\n    root._bokeh_is_loading = undefined;\n  }\n\n  \n\n  \n  if (typeof (root._bokeh_timeout) === \"undefined\" || force === true) {\n    root._bokeh_timeout = Date.now() + 5000;\n    root._bokeh_failed_load = false;\n  }\n\n  var NB_LOAD_WARNING = {'data': {'text/html':\n     \"<div style='background-color: #fdd'>\\n\"+\n     \"<p>\\n\"+\n     \"BokehJS does not appear to have successfully loaded. If loading BokehJS from CDN, this \\n\"+\n     \"may be due to a slow or bad network connection. Possible fixes:\\n\"+\n     \"</p>\\n\"+\n     \"<ul>\\n\"+\n     \"<li>re-rerun `output_notebook()` to attempt to load from CDN again, or</li>\\n\"+\n     \"<li>use INLINE resources instead, as so:</li>\\n\"+\n     \"</ul>\\n\"+\n     \"<code>\\n\"+\n     \"from bokeh.resources import INLINE\\n\"+\n     \"output_notebook(resources=INLINE)\\n\"+\n     \"</code>\\n\"+\n     \"</div>\"}};\n\n  function display_loaded() {\n    var el = document.getElementById(\"1001\");\n    if (el != null) {\n      el.textContent = \"BokehJS is loading...\";\n    }\n    if (root.Bokeh !== undefined) {\n      if (el != null) {\n        el.textContent = \"BokehJS \" + root.Bokeh.version + \" successfully loaded.\";\n      }\n    } else if (Date.now() < root._bokeh_timeout) {\n      setTimeout(display_loaded, 100)\n    }\n  }\n\n\n  function run_callbacks() {\n    try {\n      root._bokeh_onload_callbacks.forEach(function(callback) {\n        if (callback != null)\n          callback();\n      });\n    } finally {\n      delete root._bokeh_onload_callbacks\n    }\n    console.debug(\"Bokeh: all callbacks have finished\");\n  }\n\n  function load_libs(css_urls, js_urls, callback) {\n    if (css_urls == null) css_urls = [];\n    if (js_urls == null) js_urls = [];\n\n    root._bokeh_onload_callbacks.push(callback);\n    if (root._bokeh_is_loading > 0) {\n      console.debug(\"Bokeh: BokehJS is being loaded, scheduling callback at\", now());\n      return null;\n    }\n    if (js_urls == null || js_urls.length === 0) {\n      run_callbacks();\n      return null;\n    }\n    console.debug(\"Bokeh: BokehJS not loaded, scheduling load and callback at\", now());\n    root._bokeh_is_loading = css_urls.length + js_urls.length;\n\n    function on_load() {\n      root._bokeh_is_loading--;\n      if (root._bokeh_is_loading === 0) {\n        console.debug(\"Bokeh: all BokehJS libraries/stylesheets loaded\");\n        run_callbacks()\n      }\n    }\n\n    function on_error() {\n      console.error(\"failed to load \" + url);\n    }\n\n    for (var i = 0; i < css_urls.length; i++) {\n      var url = css_urls[i];\n      const element = document.createElement(\"link\");\n      element.onload = on_load;\n      element.onerror = on_error;\n      element.rel = \"stylesheet\";\n      element.type = \"text/css\";\n      element.href = url;\n      console.debug(\"Bokeh: injecting link tag for BokehJS stylesheet: \", url);\n      document.body.appendChild(element);\n    }\n\n    for (var i = 0; i < js_urls.length; i++) {\n      var url = js_urls[i];\n      var element = document.createElement('script');\n      element.onload = on_load;\n      element.onerror = on_error;\n      element.async = false;\n      element.src = url;\n      console.debug(\"Bokeh: injecting script tag for BokehJS library: \", url);\n      document.head.appendChild(element);\n    }\n  };var element = document.getElementById(\"1001\");\n  if (element == null) {\n    console.error(\"Bokeh: ERROR: autoload.js configured with elementid '1001' but no matching script tag was found. \")\n    return false;\n  }\n\n  function inject_raw_css(css) {\n    const element = document.createElement(\"style\");\n    element.appendChild(document.createTextNode(css));\n    document.body.appendChild(element);\n  }\n\n  var js_urls = [\"https://cdn.pydata.org/bokeh/release/bokeh-1.3.4.min.js\", \"https://cdn.pydata.org/bokeh/release/bokeh-widgets-1.3.4.min.js\", \"https://cdn.pydata.org/bokeh/release/bokeh-tables-1.3.4.min.js\", \"https://cdn.pydata.org/bokeh/release/bokeh-gl-1.3.4.min.js\"];\n  var css_urls = [];\n\n  var inline_js = [\n    function(Bokeh) {\n      Bokeh.set_log_level(\"info\");\n    },\n    \n    function(Bokeh) {\n      \n    },\n    function(Bokeh) {} // ensure no trailing comma for IE\n  ];\n\n  function run_inline_js() {\n    \n    if ((root.Bokeh !== undefined) || (force === true)) {\n      for (var i = 0; i < inline_js.length; i++) {\n        inline_js[i].call(root, root.Bokeh);\n      }if (force === true) {\n        display_loaded();\n      }} else if (Date.now() < root._bokeh_timeout) {\n      setTimeout(run_inline_js, 100);\n    } else if (!root._bokeh_failed_load) {\n      console.log(\"Bokeh: BokehJS failed to load within specified timeout.\");\n      root._bokeh_failed_load = true;\n    } else if (force !== true) {\n      var cell = $(document.getElementById(\"1001\")).parents('.cell').data().cell;\n      cell.output_area.append_execute_result(NB_LOAD_WARNING)\n    }\n\n  }\n\n  if (root._bokeh_is_loading === 0) {\n    console.debug(\"Bokeh: BokehJS loaded, going straight to plotting\");\n    run_inline_js();\n  } else {\n    load_libs(css_urls, js_urls, function() {\n      console.debug(\"Bokeh: BokehJS plotting callback run at\", now());\n      run_inline_js();\n    });\n  }\n}(window));"
     },
     "metadata": {},
     "output_type": "display_data"
    }
   ],
   "source": [
    "from bokeh.models import ColumnDataSource, LabelSet\n",
    "from bokeh.plotting import figure, show, output_file\n",
    "from bokeh.io import output_notebook\n",
    "output_notebook()"
   ]
  },
  {
   "cell_type": "markdown",
   "metadata": {},
   "source": [
    "### Part 0: Download the TED dataset"
   ]
  },
  {
   "cell_type": "code",
   "execution_count": 5,
   "metadata": {},
   "outputs": [],
   "source": [
    "import urllib.request\n",
    "import zipfile\n",
    "import lxml.etree"
   ]
  },
  {
   "cell_type": "code",
   "execution_count": 6,
   "metadata": {},
   "outputs": [],
   "source": [
    "# Download the dataset if it's not already there: this may take a minute as it is 75MB\n",
    "if not os.path.isfile('ted_en-20160408.zip'):\n",
    "    urllib.request.urlretrieve(\"https://wit3.fbk.eu/get.php?path=XML_releases/xml/ted_en-20160408.zip&filename=ted_en-20160408.zip\", filename=\"ted_en-20160408.zip\")"
   ]
  },
  {
   "cell_type": "code",
   "execution_count": 7,
   "metadata": {},
   "outputs": [
    {
     "name": "stdout",
     "output_type": "stream",
     "text": [
      "Size of keywords:  2085\n",
      "Size of contents:  2085\n"
     ]
    }
   ],
   "source": [
    "# we're interested in the content and keywords text , so let's extract them from the XML:\n",
    "with zipfile.ZipFile('ted_en-20160408.zip', 'r') as z:\n",
    "    doc = lxml.etree.parse(z.open('ted_en-20160408.xml', 'r'))\n",
    "    contents_text = [] \n",
    "    keywords_text = [] \n",
    "    for content,keywords in zip(doc.iter('content'),doc.iter('keywords')):\n",
    "        keywords_text.append(keywords.text)\n",
    "        contents_text.append(content.text)\n",
    "         \n",
    "del doc\n",
    "print('Size of keywords: ' , len(keywords_text))\n",
    "print('Size of contents: ' , len(contents_text))"
   ]
  },
  {
   "cell_type": "markdown",
   "metadata": {},
   "source": [
    "### Part 1: Preprocessing\n",
    "In this part, we attempt to clean up the raw contents a bit, so that we get only sentences.Let's start by removing all parenthesized strings using a regex:"
   ]
  },
  {
   "cell_type": "markdown",
   "metadata": {},
   "source": [
    "#### Labelling"
   ]
  },
  {
   "cell_type": "code",
   "execution_count": 8,
   "metadata": {},
   "outputs": [
    {
     "data": {
      "text/plain": [
       "'talks, astronomy, cosmos, curiosity, exploration, nature, physics, science, space, technology, universe'"
      ]
     },
     "execution_count": 8,
     "metadata": {},
     "output_type": "execute_result"
    }
   ],
   "source": [
    "keywords_text[31]"
   ]
  },
  {
   "cell_type": "code",
   "execution_count": 107,
   "metadata": {},
   "outputs": [],
   "source": [
    "labels_encoded = []\n",
    "for k in keywords_text:\n",
    "    k = k.lower()\n",
    "    if 'technology' in k and 'entertainment' in k and 'design' in k: \n",
    "        labels_encoded.append('TED')\n",
    "    elif 'entertainment' in k and 'design' in k:\n",
    "        labels_encoded.append('oED')\n",
    "    elif 'technology' in k and 'design' in k:\n",
    "        labels_encoded.append('ToD')\n",
    "    elif 'technology' in k and 'entertainment' in k:\n",
    "        labels_encoded.append('TEo')\n",
    "    elif 'technology' in k: \n",
    "        labels_encoded.append('Too')\n",
    "    elif 'entertainment' in k: \n",
    "        labels_encoded.append('oEo')\n",
    "    elif 'design' in k : \n",
    "        labels_encoded.append('ooD')\n",
    "    else: \n",
    "        labels_encoded.append('ooo')    "
   ]
  },
  {
   "cell_type": "code",
   "execution_count": 108,
   "metadata": {},
   "outputs": [
    {
     "name": "stdout",
     "output_type": "stream",
     "text": [
      "[[0 0 0 ... 0 0 1]\n",
      " [0 0 0 ... 0 0 1]\n",
      " [0 0 0 ... 0 0 1]\n",
      " ...\n",
      " [0 0 0 ... 0 0 0]\n",
      " [1 0 0 ... 0 0 0]\n",
      " [0 0 0 ... 0 0 1]]\n"
     ]
    }
   ],
   "source": [
    "from sklearn.preprocessing import LabelBinarizer\n",
    "encoder = LabelBinarizer()\n",
    "labels_one_hot = encoder.fit_transform(labels)\n",
    "print(labels_one_hot)"
   ]
  },
  {
   "cell_type": "code",
   "execution_count": 109,
   "metadata": {},
   "outputs": [
    {
     "data": {
      "text/plain": [
       "[('ooo', 1128),\n",
       " ('Too', 381),\n",
       " ('oEo', 173),\n",
       " ('ooD', 164),\n",
       " ('ToD', 145),\n",
       " ('TEo', 36),\n",
       " ('TED', 34),\n",
       " ('oED', 24)]"
      ]
     },
     "execution_count": 109,
     "metadata": {},
     "output_type": "execute_result"
    }
   ],
   "source": [
    "# Count number of each labels\n",
    "count_labels=Counter(labels_encoded)\n",
    "label_count = [word_count for word_count in count_labels.most_common()]\n",
    "label_count"
   ]
  },
  {
   "cell_type": "code",
   "execution_count": 11,
   "metadata": {},
   "outputs": [],
   "source": [
    "contents_text_noparens = [] \n",
    "for content in contents_text:\n",
    "    contents_text_noparens.append(re.sub(r'\\([^)]*\\)', '', content))"
   ]
  },
  {
   "cell_type": "code",
   "execution_count": 12,
   "metadata": {},
   "outputs": [
    {
     "name": "stdout",
     "output_type": "stream",
     "text": [
      "ir calculators.\n",
      "(Laughter)\n",
      "Facit did too much expl\n",
      "\n",
      "Contents without parenthesized strings:\n",
      "ir calculators.\n",
      "\n",
      "Facit did too much exploitation. \n"
     ]
    }
   ],
   "source": [
    "print(contents_text[0][850:900])\n",
    "print('\\nContents without parenthesized strings:')\n",
    "print(contents_text_noparens[0][850:900])"
   ]
  },
  {
   "cell_type": "markdown",
   "metadata": {},
   "source": [
    "Now, let's attempt to remove speakers' names that occur at the beginning of a line, by deleting pieces of the form \"`<up to 20 characters>:`\". Of course, this is an imperfect heuristic. "
   ]
  },
  {
   "cell_type": "code",
   "execution_count": 13,
   "metadata": {},
   "outputs": [],
   "source": [
    "contents_ted = [] \n",
    "for content in contents_text_noparens:\n",
    "    content_sent = [] \n",
    "    for line in content.split('\\n'):\n",
    "        m = re.match(r'^(?:(?P<precolon>[^:]{,20}):)?(?P<postcolon>.*)$', line)\n",
    "        content_sent.extend(sent for sent in m.groupdict()['postcolon'].split('.') if sent)\n",
    "    contents_ted.append(\" \".join([x for x in content_sent]))"
   ]
  },
  {
   "cell_type": "markdown",
   "metadata": {},
   "source": [
    "We're ready to tokenize each of them into words and make them all small case."
   ]
  },
  {
   "cell_type": "code",
   "execution_count": null,
   "metadata": {},
   "outputs": [],
   "source": []
  },
  {
   "cell_type": "code",
   "execution_count": 14,
   "metadata": {},
   "outputs": [],
   "source": [
    "contents_ted = [x.lower() for x in contents_ted]    "
   ]
  },
  {
   "cell_type": "code",
   "execution_count": null,
   "metadata": {},
   "outputs": [],
   "source": []
  },
  {
   "cell_type": "markdown",
   "metadata": {},
   "source": [
    "#### Split data"
   ]
  },
  {
   "cell_type": "code",
   "execution_count": 15,
   "metadata": {},
   "outputs": [
    {
     "name": "stdout",
     "output_type": "stream",
     "text": [
      "Size of train data:  1585 1585\n",
      "Size of validation data:  250\n",
      "Size of test data:  250\n"
     ]
    }
   ],
   "source": [
    "x_train, y_train = contents_ted[0:1585], labels_one_hot[0:1585]\n",
    "x_val, y_val = contents_ted[1585:1835], labels_one_hot[1585:1835]\n",
    "x_test, y_test = contents_ted[1835:len(contents_ted)], labels_one_hot[1835:len(labels_one_hot)]\n",
    "print('Size of train data: ', len(x_train),len(y_train))\n",
    "print('Size of validation data: ', len(x_val))\n",
    "print('Size of test data: ', len(x_test))"
   ]
  },
  {
   "cell_type": "code",
   "execution_count": 16,
   "metadata": {},
   "outputs": [
    {
     "name": "stderr",
     "output_type": "stream",
     "text": [
      "Using TensorFlow backend.\n"
     ]
    }
   ],
   "source": [
    "from keras.preprocessing.text import text_to_word_sequence\n",
    "x_train_tokenized = [text_to_word_sequence(x) for x in x_train]"
   ]
  },
  {
   "cell_type": "code",
   "execution_count": 17,
   "metadata": {},
   "outputs": [
    {
     "name": "stdout",
     "output_type": "stream",
     "text": [
      "['here', 'are', 'two', 'reasons', 'companies', 'fail', 'they', 'only', 'do', 'more']\n"
     ]
    }
   ],
   "source": [
    "print(x_train_tokenized[0][0:10])"
   ]
  },
  {
   "cell_type": "markdown",
   "metadata": {},
   "source": [
    "#### Word Frequencies"
   ]
  },
  {
   "cell_type": "code",
   "execution_count": 18,
   "metadata": {},
   "outputs": [],
   "source": [
    "from itertools import chain\n",
    "from collections import Counter"
   ]
  },
  {
   "cell_type": "code",
   "execution_count": 19,
   "metadata": {},
   "outputs": [
    {
     "name": "stdout",
     "output_type": "stream",
     "text": [
      "49332\n"
     ]
    }
   ],
   "source": [
    "counts_ted_top1000_dic =  dict(Counter(chain.from_iterable(x_train_tokenized)))\n",
    "vocab_size = len(counts_ted_top1000_dic)\n",
    "print(vocab_size)"
   ]
  },
  {
   "cell_type": "code",
   "execution_count": 20,
   "metadata": {},
   "outputs": [],
   "source": [
    "counts_ted_top1000_dic = {k: v for k, v in sorted(counts_ted_top1000_dic.items(), key=lambda item: item[1], reverse=True)}"
   ]
  },
  {
   "cell_type": "code",
   "execution_count": 21,
   "metadata": {},
   "outputs": [
    {
     "data": {
      "text/plain": [
       "1000"
      ]
     },
     "execution_count": 21,
     "metadata": {},
     "output_type": "execute_result"
    }
   ],
   "source": [
    "counts_ted_top1000 = []\n",
    "i = 0 \n",
    "for k in counts_ted_top1000_dic.keys(): \n",
    "    if i == 1000:\n",
    "        break\n",
    "    counts_ted_top1000.append(counts_ted_top1000_dic[k])\n",
    "    i += 1 \n",
    "len(counts_ted_top1000)"
   ]
  },
  {
   "cell_type": "markdown",
   "metadata": {},
   "source": [
    "### Part 2: Train Word2Vec"
   ]
  },
  {
   "cell_type": "code",
   "execution_count": 22,
   "metadata": {},
   "outputs": [],
   "source": [
    "from gensim.models import Word2Vec"
   ]
  },
  {
   "cell_type": "code",
   "execution_count": 23,
   "metadata": {},
   "outputs": [],
   "source": [
    "model_ted = Word2Vec(x_train_tokenized, size=50, window=5, min_count=1, workers=10, iter=100)"
   ]
  },
  {
   "cell_type": "code",
   "execution_count": 24,
   "metadata": {},
   "outputs": [
    {
     "data": {
      "text/plain": [
       "[('persia', 0.7193150520324707),\n",
       " ('cobra', 0.7127224206924438),\n",
       " ('luther', 0.700444221496582),\n",
       " ('lydia', 0.6905084252357483),\n",
       " ('babur', 0.6805806159973145),\n",
       " ('leopold', 0.6607900857925415),\n",
       " ('jeremy', 0.6524101495742798),\n",
       " ('johannes', 0.6500877141952515),\n",
       " ('cobras', 0.6387594938278198),\n",
       " ('martin', 0.6386305093765259)]"
      ]
     },
     "execution_count": 24,
     "metadata": {},
     "output_type": "execute_result"
    }
   ],
   "source": [
    "model_ted.wv.most_similar(\"king\")"
   ]
  },
  {
   "cell_type": "code",
   "execution_count": 25,
   "metadata": {},
   "outputs": [
    {
     "name": "stderr",
     "output_type": "stream",
     "text": [
      "C:\\ProgramData\\Anaconda3\\lib\\site-packages\\ipykernel_launcher.py:1: DeprecationWarning: Call to deprecated `__getitem__` (Method will be removed in 4.0.0, use self.wv.__getitem__() instead).\n",
      "  \"\"\"Entry point for launching an IPython kernel.\n"
     ]
    },
    {
     "data": {
      "text/plain": [
       "array([-3.3412035 ,  1.2935245 ,  3.0905519 , -0.12618665,  1.7795151 ,\n",
       "        0.31722188,  2.5709684 ,  4.395839  ,  0.25685427, -0.28278896,\n",
       "        1.1214838 , -1.5416692 ,  0.9363304 , -6.628903  , -1.0026269 ,\n",
       "       -2.6319    , -2.0408547 , -3.660595  ,  1.8219569 ,  3.2100043 ,\n",
       "        1.1944795 ,  3.0835738 ,  4.29036   , -0.92035884, -0.53932244,\n",
       "        0.48056132,  2.261056  , -6.558177  , -0.5069615 ,  0.77864605,\n",
       "       -3.2934647 , -2.3911524 ,  2.9690154 ,  4.8550186 ,  3.1458728 ,\n",
       "        0.4306431 ,  0.8823594 ,  3.7421134 , -3.2186782 , -2.145983  ,\n",
       "       -1.8278564 ,  0.09976048, -1.0409398 ,  4.476471  ,  2.1944745 ,\n",
       "       -0.38855085,  0.16045779,  1.2596943 ,  2.2787738 , -0.07975758],\n",
       "      dtype=float32)"
      ]
     },
     "execution_count": 25,
     "metadata": {},
     "output_type": "execute_result"
    }
   ],
   "source": [
    "model_ted[\"man\"]"
   ]
  },
  {
   "cell_type": "code",
   "execution_count": null,
   "metadata": {},
   "outputs": [],
   "source": []
  },
  {
   "cell_type": "markdown",
   "metadata": {},
   "source": [
    "#### t-SNE visualization"
   ]
  },
  {
   "cell_type": "code",
   "execution_count": 26,
   "metadata": {},
   "outputs": [],
   "source": [
    "words_top_ted = []\n",
    "i = 0 \n",
    "for k in counts_ted_top1000_dic.keys(): \n",
    "    if i == 1000:\n",
    "        break\n",
    "    words_top_ted.append(k)\n",
    "    i += 1 "
   ]
  },
  {
   "cell_type": "code",
   "execution_count": 27,
   "metadata": {},
   "outputs": [
    {
     "name": "stderr",
     "output_type": "stream",
     "text": [
      "C:\\ProgramData\\Anaconda3\\lib\\site-packages\\ipykernel_launcher.py:2: DeprecationWarning: Call to deprecated `__getitem__` (Method will be removed in 4.0.0, use self.wv.__getitem__() instead).\n",
      "  \n"
     ]
    }
   ],
   "source": [
    "# This assumes words_top_ted is a list of strings, the top 1000 words\n",
    "words_top_vec_ted = model_ted[words_top_ted]"
   ]
  },
  {
   "cell_type": "code",
   "execution_count": 28,
   "metadata": {},
   "outputs": [],
   "source": [
    "from sklearn.manifold import TSNE\n",
    "tsne = TSNE(n_components=2, random_state=0)\n",
    "words_top_ted_tsne = tsne.fit_transform(words_top_vec_ted)"
   ]
  },
  {
   "cell_type": "code",
   "execution_count": 29,
   "metadata": {},
   "outputs": [
    {
     "data": {
      "text/html": [
       "\n",
       "\n",
       "\n",
       "\n",
       "\n",
       "\n",
       "  <div class=\"bk-root\" id=\"c0d2f0ab-5836-494a-8264-a71991a6f519\" data-root-id=\"1002\"></div>\n"
      ]
     },
     "metadata": {},
     "output_type": "display_data"
    },
    {
     "data": {
      "application/javascript": [
       "(function(root) {\n",
       "  function embed_document(root) {\n",
       "    \n",
       "  var docs_json = {\"269790a4-ef9d-47ba-9fe5-613d06bd0c87\":{\"roots\":{\"references\":[{\"attributes\":{\"below\":[{\"id\":\"1013\",\"type\":\"LinearAxis\"}],\"center\":[{\"id\":\"1017\",\"type\":\"Grid\"},{\"id\":\"1022\",\"type\":\"Grid\"},{\"id\":\"1038\",\"type\":\"LabelSet\"}],\"left\":[{\"id\":\"1018\",\"type\":\"LinearAxis\"}],\"renderers\":[{\"id\":\"1036\",\"type\":\"GlyphRenderer\"}],\"title\":{\"id\":\"1003\",\"type\":\"Title\"},\"toolbar\":{\"id\":\"1027\",\"type\":\"Toolbar\"},\"toolbar_location\":\"above\",\"x_range\":{\"id\":\"1005\",\"type\":\"DataRange1d\"},\"x_scale\":{\"id\":\"1009\",\"type\":\"LinearScale\"},\"y_range\":{\"id\":\"1007\",\"type\":\"DataRange1d\"},\"y_scale\":{\"id\":\"1011\",\"type\":\"LinearScale\"}},\"id\":\"1002\",\"subtype\":\"Figure\",\"type\":\"Plot\"},{\"attributes\":{\"active_drag\":\"auto\",\"active_inspect\":\"auto\",\"active_multi\":null,\"active_scroll\":\"auto\",\"active_tap\":\"auto\",\"tools\":[{\"id\":\"1023\",\"type\":\"PanTool\"},{\"id\":\"1024\",\"type\":\"WheelZoomTool\"},{\"id\":\"1025\",\"type\":\"ResetTool\"},{\"id\":\"1026\",\"type\":\"SaveTool\"}]},\"id\":\"1027\",\"type\":\"Toolbar\"},{\"attributes\":{\"formatter\":{\"id\":\"1042\",\"type\":\"BasicTickFormatter\"},\"ticker\":{\"id\":\"1019\",\"type\":\"BasicTicker\"}},\"id\":\"1018\",\"type\":\"LinearAxis\"},{\"attributes\":{\"ticker\":{\"id\":\"1014\",\"type\":\"BasicTicker\"}},\"id\":\"1017\",\"type\":\"Grid\"},{\"attributes\":{},\"id\":\"1014\",\"type\":\"BasicTicker\"},{\"attributes\":{\"dimension\":1,\"ticker\":{\"id\":\"1019\",\"type\":\"BasicTicker\"}},\"id\":\"1022\",\"type\":\"Grid\"},{\"attributes\":{},\"id\":\"1042\",\"type\":\"BasicTickFormatter\"},{\"attributes\":{\"data_source\":{\"id\":\"1032\",\"type\":\"ColumnDataSource\"},\"glyph\":{\"id\":\"1034\",\"type\":\"Scatter\"},\"hover_glyph\":null,\"muted_glyph\":null,\"nonselection_glyph\":{\"id\":\"1035\",\"type\":\"Scatter\"},\"selection_glyph\":null,\"view\":{\"id\":\"1037\",\"type\":\"CDSView\"}},\"id\":\"1036\",\"type\":\"GlyphRenderer\"},{\"attributes\":{\"callback\":null},\"id\":\"1005\",\"type\":\"DataRange1d\"},{\"attributes\":{},\"id\":\"1019\",\"type\":\"BasicTicker\"},{\"attributes\":{\"callback\":null,\"data\":{\"names\":[\"the\",\"and\",\"to\",\"of\",\"a\",\"that\",\"in\",\"i\",\"is\",\"you\",\"we\",\"it\",\"this\",\"so\",\"was\",\"for\",\"are\",\"have\",\"but\",\"they\",\"on\",\"with\",\"what\",\"it's\",\"can\",\"about\",\"be\",\"as\",\"at\",\"my\",\"not\",\"all\",\"do\",\"one\",\"people\",\"like\",\"if\",\"from\",\"our\",\"now\",\"there\",\"or\",\"an\",\"these\",\"just\",\"when\",\"because\",\"me\",\"by\",\"very\",\"he\",\"how\",\"out\",\"them\",\"more\",\"up\",\"had\",\"their\",\"were\",\"going\",\"your\",\"see\",\"know\",\"who\",\"think\",\"that's\",\"would\",\"which\",\"really\",\"us\",\"get\",\"then\",\"time\",\"i'm\",\"some\",\"world\",\"actually\",\"has\",\"don't\",\"into\",\"where\",\"here\",\"will\",\"way\",\"years\",\"other\",\"could\",\"well\",\"no\",\"been\",\"things\",\"want\",\"go\",\"make\",\"those\",\"we're\",\"right\",\"first\",\"two\",\"something\",\"than\",\"said\",\"also\",\"much\",\"she\",\"new\",\"there's\",\"even\",\"look\",\"most\",\"over\",\"back\",\"his\",\"work\",\"only\",\"need\",\"many\",\"thing\",\"little\",\"take\",\"you're\",\"life\",\"got\",\"say\",\"they're\",\"did\",\"every\",\"her\",\"why\",\"around\",\"different\",\"lot\",\"good\",\"through\",\"same\",\"day\",\"kind\",\"use\",\"being\",\"down\",\"come\",\"year\",\"three\",\"thank\",\"doing\",\"called\",\"percent\",\"today\",\"we've\",\"any\",\"after\",\"tell\",\"put\",\"i've\",\"made\",\"find\",\"human\",\"great\",\"fact\",\"change\",\"own\",\"didn't\",\"started\",\"might\",\"before\",\"its\",\"talk\",\"better\",\"never\",\"another\",\"idea\",\"big\",\"give\",\"should\",\"last\",\"together\",\"able\",\"problem\",\"still\",\"important\",\"system\",\"thought\",\"went\",\"again\",\"story\",\"part\",\"each\",\"next\",\"course\",\"can't\",\"000\",\"start\",\"brain\",\"women\",\"data\",\"him\",\"off\",\"does\",\"few\",\"used\",\"between\",\"ago\",\"long\",\"\\u266b\",\"came\",\"show\",\"water\",\"example\",\"place\",\"found\",\"old\",\"too\",\"maybe\",\"let's\",\"question\",\"technology\",\"bit\",\"what's\",\"school\",\"doesn't\",\"looking\",\"end\",\"ever\",\"wanted\",\"10\",\"live\",\"let\",\"love\",\"understand\",\"done\",\"help\",\"real\",\"mean\",\"call\",\"four\",\"point\",\"may\",\"information\",\"children\",\"trying\",\"feel\",\"always\",\"believe\",\"away\",\"using\",\"working\",\"home\",\"country\",\"five\",\"means\",\"power\",\"thinking\",\"person\",\"try\",\"everything\",\"times\",\"become\",\"social\",\"second\",\"create\",\"million\",\"whole\",\"high\",\"small\",\"money\",\"number\",\"best\",\"without\",\"took\",\"okay\",\"left\",\"kids\",\"future\",\"sort\",\"less\",\"light\",\"making\",\"lives\",\"city\",\"told\",\"food\",\"energy\",\"getting\",\"body\",\"he's\",\"quite\",\"men\",\"am\",\"ask\",\"comes\",\"happened\",\"family\",\"enough\",\"space\",\"i'd\",\"countries\",\"science\",\"hard\",\"probably\",\"talking\",\"health\",\"such\",\"while\",\"man\",\"imagine\",\"moment\",\"here's\",\"you've\",\"across\",\"sense\",\"half\",\"young\",\"saw\",\"living\",\"care\",\"pretty\",\"side\",\"asked\",\"once\",\"interesting\",\"later\",\"yet\",\"case\",\"learn\",\"coming\",\"ways\",\"having\",\"makes\",\"almost\",\"anything\",\"inside\",\"20\",\"design\",\"building\",\"happen\",\"play\",\"days\",\"build\",\"experience\",\"simple\",\"hand\",\"room\",\"states\",\"open\",\"someone\",\"single\",\"remember\",\"community\",\"happens\",\"nothing\",\"seen\",\"process\",\"myself\",\"whether\",\"mind\",\"often\",\"cells\",\"global\",\"both\",\"dollars\",\"reason\",\"already\",\"far\",\"public\",\"sometimes\",\"goes\",\"move\",\"i'll\",\"government\",\"bad\",\"six\",\"within\",\"instead\",\"else\",\"looked\",\"wrong\",\"possible\",\"friends\",\"project\",\"says\",\"problems\",\"answer\",\"control\",\"top\",\"cancer\",\"sure\",\"research\",\"months\",\"stuff\",\"job\",\"billion\",\"basically\",\"u\",\"\\u2014\",\"face\",\"amazing\",\"business\",\"age\",\"picture\",\"saying\",\"set\",\"hope\",\"since\",\"computer\",\"keep\",\"true\",\"words\",\"yes\",\"united\",\"self\",\"state\",\"study\",\"matter\",\"order\",\"learned\",\"looks\",\"history\",\"\\u266a\",\"until\",\"wasn't\",\"knew\",\"30\",\"internet\",\"bring\",\"against\",\"child\",\"heard\",\"woman\",\"group\",\"share\",\"earth\",\"under\",\"stories\",\"isn't\",\"read\",\"car\",\"turn\",\"middle\",\"taking\",\"night\",\"planet\",\"language\",\"became\",\"war\",\"stop\",\"education\",\"line\",\"places\",\"decided\",\"video\",\"society\",\"questions\",\"level\",\"though\",\"ourselves\",\"themselves\",\"built\",\"book\",\"couple\",\"form\",\"exactly\",\"works\",\"heart\",\"oh\",\"black\",\"beautiful\",\"guy\",\"created\",\"100\",\"everyone\",\"run\",\"completely\",\"50\",\"music\",\"ideas\",\"gets\",\"model\",\"turns\",\"word\",\"happening\",\"large\",\"head\",\"disease\",\"hear\",\"hours\",\"students\",\"american\",\"thousands\",\"front\",\"name\",\"environment\",\"animals\",\"art\",\"piece\",\"learning\",\"you'll\",\"huge\",\"kinds\",\"rather\",\"past\",\"others\",\"systems\",\"s\",\"early\",\"sound\",\"worked\",\"everybody\",\"india\",\"during\",\"based\",\"minutes\",\"itself\",\"third\",\"house\",\"company\",\"changed\",\"entire\",\"game\",\"couldn't\",\"perhaps\",\"america\",\"least\",\"must\",\"somebody\",\"species\",\"1\",\"given\",\"yeah\",\"companies\",\"ones\",\"century\",\"local\",\"behind\",\"africa\",\"gave\",\"reality\",\"news\",\"lots\",\"per\",\"particular\",\"difficult\",\"mother\",\"machine\",\"cities\",\"15\",\"free\",\"guys\",\"nature\",\"leave\",\"cell\",\"team\",\"full\",\"finally\",\"they've\",\"easy\",\"yourself\",\"along\",\"china\",\"outside\",\"patients\",\"figure\",\"taken\",\"simply\",\"difference\",\"population\",\"natural\",\"needed\",\"we'll\",\"takes\",\"air\",\"parents\",\"culture\",\"close\",\"seeing\",\"realized\",\"economic\",\"happy\",\"image\",\"scale\",\"eyes\",\"powerful\",\"fish\",\"turned\",\"political\",\"seven\",\"felt\",\"ocean\",\"she's\",\"needs\",\"universe\",\"red\",\"cost\",\"hands\",\"media\",\"spend\",\"ted\",\"death\",\"known\",\"week\",\"humans\",\"parts\",\"blue\",\"white\",\"walk\",\"area\",\"york\",\"terms\",\"longer\",\"grow\",\"father\",\"challenge\",\"national\",\"step\",\"began\",\"cannot\",\"spent\",\"weeks\",\"paper\",\"risk\",\"green\",\"growth\",\"born\",\"field\",\"shows\",\"low\",\"changes\",\"eight\",\"physical\",\"poor\",\"phone\",\"climate\",\"certain\",\"moving\",\"online\",\"hundreds\",\"friend\",\"land\",\"opportunity\",\"sitting\",\"common\",\"lost\",\"view\",\"beginning\",\"size\",\"girl\",\"access\",\"feeling\",\"pay\",\"value\",\"average\",\"tried\",\"oil\",\"ability\",\"center\",\"either\",\"amount\",\"images\",\"gone\",\"fear\",\"attention\",\"write\",\"street\",\"medical\",\"growing\",\"scientists\",\"market\",\"blood\",\"behavior\",\"economy\",\"numbers\",\"met\",\"rest\",\"test\",\"whatever\",\"wouldn't\",\"speak\",\"movement\",\"south\",\"quickly\",\"complex\",\"buy\",\"deal\",\"giving\",\"interested\",\"alone\",\"realize\",\"2\",\"areas\",\"lab\",\"law\",\"deep\",\"god\",\"morning\",\"drug\",\"support\",\"voice\",\"anyone\",\"developed\",\"girls\",\"hold\",\"knowledge\",\"millions\",\"development\",\"stage\",\"understanding\",\"animal\",\"issue\",\"act\",\"map\",\"key\",\"innovation\",\"40\",\"audience\",\"rights\",\"absolutely\",\"result\",\"incredible\",\"individual\",\"telling\",\"structure\",\"ground\",\"watch\",\"seems\",\"bottom\",\"program\",\"north\",\"changing\",\"dna\",\"personal\",\"brought\",\"die\",\"wrote\",\"sea\",\"choice\",\"drugs\",\"eat\",\"wonderful\",\"tools\",\"short\",\"especially\",\"forward\",\"class\",\"kid\",\"network\",\"normal\",\"books\",\"asking\",\"communities\",\"clear\",\"europe\",\"starting\",\"rate\",\"creating\",\"violence\",\"surface\",\"who's\",\"issues\",\"playing\",\"literally\",\"nice\",\"fast\",\"running\",\"recently\",\"soon\",\"tiny\",\"solve\",\"patient\",\"12\",\"material\",\"several\",\"evidence\",\"digital\",\"technologies\",\"box\",\"special\",\"impact\",\"solution\",\"resources\",\"likely\",\"cars\",\"allow\",\"meet\",\"miles\",\"pick\",\"writing\",\"beyond\",\"relationship\",\"hour\",\"won't\",\"university\",\"groups\",\"seem\",\"fly\",\"generation\",\"international\",\"save\",\"hundred\",\"stand\",\"type\",\"indeed\",\"available\",\"stay\",\"security\",\"color\",\"message\",\"showed\",\"send\",\"trust\",\"cut\",\"wall\",\"gives\",\"modern\",\"dead\",\"developing\",\"office\",\"eye\",\"discovered\",\"english\",\"industry\",\"revolution\",\"term\",\"robot\",\"led\",\"dark\",\"crazy\",\"situation\",\"sex\",\"ready\",\"obviously\",\"bigger\",\"similar\",\"world's\",\"produce\",\"quality\",\"journey\",\"baby\",\"chance\",\"police\",\"west\",\"designed\",\"device\",\"product\",\"ice\",\"focus\",\"major\",\"sounds\",\"reasons\",\"aren't\",\"incredibly\",\"nine\",\"memory\",\"truth\",\"force\",\"democracy\",\"feet\",\"examples\",\"suddenly\",\"measure\",\"medicine\",\"dream\",\"scientific\",\"cool\",\"chinese\",\"hit\",\"potential\",\"begin\",\"towards\",\"basic\",\"walking\",\"month\",\"talked\",\"worth\",\"games\",\"explain\",\"action\",\"nobody\",\"cause\",\"college\",\"teach\",\"choose\",\"sun\",\"present\",\"theory\",\"starts\",\"hospital\",\"boy\",\"effect\",\"source\",\"camera\",\"sleep\",\"lived\",\"people's\",\"experiment\",\"knows\",\"involved\",\"success\",\"notice\",\"reach\",\"perfect\",\"putting\",\"please\",\"solar\",\"individuals\",\"plant\",\"approach\",\"google\",\"listen\",\"watching\",\"east\",\"died\",\"including\",\"pictures\",\"conversation\",\"general\",\"safe\",\"carbon\",\"guess\",\"we'd\",\"freedom\",\"becomes\",\"computers\",\"among\",\"leaders\",\"25\",\"table\",\"cases\",\"certainly\",\"non\",\"largest\",\"fight\",\"higher\",\"doctor\",\"haven't\",\"worse\",\"biggest\",\"drive\",\"eventually\",\"film\",\"schools\",\"favorite\",\"3\",\"break\",\"60\",\"everywhere\",\"extremely\",\"connected\",\"objects\",\"fun\",\"particularly\",\"families\",\"organization\",\"results\",\"onto\",\"grew\",\"response\",\"doctors\",\"standing\",\"sit\",\"200\",\"moved\",\"develop\",\"faster\",\"strong\",\"code\",\"protect\",\"allowed\",\"plan\",\"creative\",\"role\",\"treatment\",\"shown\",\"waste\",\"further\",\"extraordinary\",\"fire\",\"wants\",\"sent\",\"bodies\",\"anybody\",\"finding\",\"conditions\",\"jobs\",\"brains\",\"son\",\"showing\",\"road\",\"positive\",\"models\",\"minute\",\"however\",\"11\",\"you'd\",\"shape\",\"crisis\",\"totally\",\"loved\",\"follow\",\"software\",\"taught\",\"older\"],\"x1\":{\"__ndarray__\":\"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\",\"dtype\":\"float32\",\"shape\":[1000]},\"x2\":{\"__ndarray__\":\"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\",\"dtype\":\"float32\",\"shape\":[1000]}},\"selected\":{\"id\":\"1046\",\"type\":\"Selection\"},\"selection_policy\":{\"id\":\"1045\",\"type\":\"UnionRenderers\"}},\"id\":\"1032\",\"type\":\"ColumnDataSource\"},{\"attributes\":{\"formatter\":{\"id\":\"1044\",\"type\":\"BasicTickFormatter\"},\"ticker\":{\"id\":\"1014\",\"type\":\"BasicTicker\"}},\"id\":\"1013\",\"type\":\"LinearAxis\"},{\"attributes\":{\"source\":{\"id\":\"1032\",\"type\":\"ColumnDataSource\"}},\"id\":\"1037\",\"type\":\"CDSView\"},{\"attributes\":{\"text\":\"word2vec T-SNE for most common words\"},\"id\":\"1003\",\"type\":\"Title\"},{\"attributes\":{},\"id\":\"1023\",\"type\":\"PanTool\"},{\"attributes\":{},\"id\":\"1044\",\"type\":\"BasicTickFormatter\"},{\"attributes\":{\"fill_alpha\":{\"value\":0.1},\"fill_color\":{\"value\":\"#1f77b4\"},\"line_alpha\":{\"value\":0.1},\"line_color\":{\"value\":\"#1f77b4\"},\"size\":{\"units\":\"screen\",\"value\":8},\"x\":{\"field\":\"x1\"},\"y\":{\"field\":\"x2\"}},\"id\":\"1035\",\"type\":\"Scatter\"},{\"attributes\":{\"source\":{\"id\":\"1032\",\"type\":\"ColumnDataSource\"},\"text\":{\"field\":\"names\"},\"text_align\":\"center\",\"text_color\":{\"value\":\"#555555\"},\"text_font_size\":{\"value\":\"8pt\"},\"x\":{\"field\":\"x1\"},\"y\":{\"field\":\"x2\"},\"y_offset\":{\"value\":6}},\"id\":\"1038\",\"type\":\"LabelSet\"},{\"attributes\":{},\"id\":\"1046\",\"type\":\"Selection\"},{\"attributes\":{},\"id\":\"1026\",\"type\":\"SaveTool\"},{\"attributes\":{\"fill_color\":{\"value\":\"#1f77b4\"},\"line_color\":{\"value\":\"#1f77b4\"},\"size\":{\"units\":\"screen\",\"value\":8},\"x\":{\"field\":\"x1\"},\"y\":{\"field\":\"x2\"}},\"id\":\"1034\",\"type\":\"Scatter\"},{\"attributes\":{},\"id\":\"1024\",\"type\":\"WheelZoomTool\"},{\"attributes\":{},\"id\":\"1045\",\"type\":\"UnionRenderers\"},{\"attributes\":{\"callback\":null},\"id\":\"1007\",\"type\":\"DataRange1d\"},{\"attributes\":{},\"id\":\"1011\",\"type\":\"LinearScale\"},{\"attributes\":{},\"id\":\"1025\",\"type\":\"ResetTool\"},{\"attributes\":{},\"id\":\"1009\",\"type\":\"LinearScale\"}],\"root_ids\":[\"1002\"]},\"title\":\"Bokeh Application\",\"version\":\"1.3.4\"}};\n",
       "  var render_items = [{\"docid\":\"269790a4-ef9d-47ba-9fe5-613d06bd0c87\",\"roots\":{\"1002\":\"c0d2f0ab-5836-494a-8264-a71991a6f519\"}}];\n",
       "  root.Bokeh.embed.embed_items_notebook(docs_json, render_items);\n",
       "\n",
       "  }\n",
       "  if (root.Bokeh !== undefined) {\n",
       "    embed_document(root);\n",
       "  } else {\n",
       "    var attempts = 0;\n",
       "    var timer = setInterval(function(root) {\n",
       "      if (root.Bokeh !== undefined) {\n",
       "        embed_document(root);\n",
       "        clearInterval(timer);\n",
       "      }\n",
       "      attempts++;\n",
       "      if (attempts > 100) {\n",
       "        console.log(\"Bokeh: ERROR: Unable to run BokehJS code because BokehJS library is missing\");\n",
       "        clearInterval(timer);\n",
       "      }\n",
       "    }, 10, root)\n",
       "  }\n",
       "})(window);"
      ],
      "application/vnd.bokehjs_exec.v0+json": ""
     },
     "metadata": {
      "application/vnd.bokehjs_exec.v0+json": {
       "id": "1002"
      }
     },
     "output_type": "display_data"
    }
   ],
   "source": [
    "p = figure(tools=\"pan,wheel_zoom,reset,save\",\n",
    "           toolbar_location=\"above\",\n",
    "           title=\"word2vec T-SNE for most common words\")\n",
    "\n",
    "source = ColumnDataSource(data=dict(x1=words_top_ted_tsne[:,0],\n",
    "                                    x2=words_top_ted_tsne[:,1],\n",
    "                                    names=words_top_ted))\n",
    "\n",
    "p.scatter(x=\"x1\", y=\"x2\", size=8, source=source)\n",
    "\n",
    "labels = LabelSet(x=\"x1\", y=\"x2\", text=\"names\", y_offset=6,\n",
    "                  text_font_size=\"8pt\", text_color=\"#555555\",\n",
    "                  source=source, text_align='center')\n",
    "p.add_layout(labels)\n",
    "\n",
    "show(p)"
   ]
  },
  {
   "cell_type": "code",
   "execution_count": 33,
   "metadata": {},
   "outputs": [],
   "source": [
    "from keras.utils import to_categorical\n",
    "from keras.preprocessing.text import one_hot\n",
    "from keras.preprocessing.sequence import pad_sequences\n",
    "from keras.preprocessing.text import Tokenizer"
   ]
  },
  {
   "cell_type": "code",
   "execution_count": 34,
   "metadata": {},
   "outputs": [
    {
     "name": "stdout",
     "output_type": "stream",
     "text": [
      "49333\n",
      "[82, 17, 99, 847, 529, 1880, 20, 115, 33, 55]\n",
      "[74, 945, 1143, 3, 27, 527, 1, 638, 3, 141]\n"
     ]
    }
   ],
   "source": [
    "# prepare tokenizer\n",
    "t = Tokenizer()\n",
    "t.fit_on_texts(x_train)\n",
    "vocab_size = len(t.word_index) + 1\n",
    "print(vocab_size)\n",
    "# integer encode the documents\n",
    "encoded_x_train = t.texts_to_sequences(x_train)\n",
    "encoded_x_val = t.texts_to_sequences(x_val)\n",
    "encoded_x_test = t.texts_to_sequences(x_test)\n",
    "print(encoded_x_train[0][0:10])\n",
    "print(encoded_x_val[0][0:10])"
   ]
  },
  {
   "cell_type": "markdown",
   "metadata": {},
   "source": [
    "The sequences have different lengths and Keras prefers inputs to be vectorized and all inputs to have the same length. We will pad all input sequences to have the length of the input with the  bigger length. Again, we can do this with a built in Keras function, in this case the pad_sequences() function."
   ]
  },
  {
   "cell_type": "code",
   "execution_count": 35,
   "metadata": {},
   "outputs": [
    {
     "name": "stdout",
     "output_type": "stream",
     "text": [
      "34680\n"
     ]
    }
   ],
   "source": [
    "max_length = len(max(contents_ted ,key = len))\n",
    "print(max_length)"
   ]
  },
  {
   "cell_type": "code",
   "execution_count": 36,
   "metadata": {},
   "outputs": [],
   "source": [
    "# pad documents to a max length of max words\n",
    "padded_x_train = np.array([x.tolist() for x in pad_sequences(encoded_x_train, maxlen=max_length, padding='post')]) \n",
    "padded_x_val = np.array([x.tolist() for x in pad_sequences(encoded_x_val, maxlen=max_length, padding='post')]) \n",
    "padded_x_test = np.array([x.tolist() for x in pad_sequences(encoded_x_test, maxlen=max_length, padding='post')]) "
   ]
  },
  {
   "cell_type": "code",
   "execution_count": 37,
   "metadata": {},
   "outputs": [
    {
     "name": "stdout",
     "output_type": "stream",
     "text": [
      "(1585, 34680)\n",
      "(250, 34680)\n",
      "(250, 34680)\n"
     ]
    }
   ],
   "source": [
    "print(padded_x_train.shape)\n",
    "print(padded_x_val.shape)\n",
    "print(padded_x_test.shape)"
   ]
  },
  {
   "cell_type": "code",
   "execution_count": 38,
   "metadata": {},
   "outputs": [
    {
     "name": "stderr",
     "output_type": "stream",
     "text": [
      "C:\\ProgramData\\Anaconda3\\lib\\site-packages\\ipykernel_launcher.py:3: DeprecationWarning: Call to deprecated `__getitem__` (Method will be removed in 4.0.0, use self.wv.__getitem__() instead).\n",
      "  This is separate from the ipykernel package so we can avoid doing imports until\n"
     ]
    }
   ],
   "source": [
    "embedding_matrix = np.zeros((vocab_size, 50))\n",
    "for word, i in t.word_index.items():\n",
    "    embedding_vector = model_ted[word]\n",
    "    if embedding_vector is not None:\n",
    "        embedding_matrix[i] = embedding_vector"
   ]
  },
  {
   "cell_type": "code",
   "execution_count": 146,
   "metadata": {
    "scrolled": true
   },
   "outputs": [],
   "source": [
    "from keras.models import Sequential\n",
    "from keras.layers import Dense\n",
    "from keras.layers import Flatten\n",
    "from keras.layers.embeddings import Embedding\n",
    "from keras.optimizers import Adam\n",
    "from keras.layers import LSTM"
   ]
  },
  {
   "cell_type": "markdown",
   "metadata": {},
   "source": [
    "We chose the 50-dimensional version, therefore the Embedding layer must be defined with output_dim set to 100. Finally, we do not want to update the learned word weights in this model, therefore we will set the trainable attribute for the model to be False."
   ]
  },
  {
   "cell_type": "code",
   "execution_count": 155,
   "metadata": {},
   "outputs": [],
   "source": [
    "e = Embedding(vocab_size, 50, weights=[embedding_matrix], input_length=500, trainable=False)"
   ]
  },
  {
   "cell_type": "markdown",
   "metadata": {},
   "source": [
    "### Part 3: Define Model\n",
    "We are now ready to define our Embedding layer as part of our neural network model.\n",
    "The Embedding has a vocabulary of 53184 and an input length of 34680. We will choose an embedding space of 50 dimensions."
   ]
  },
  {
   "cell_type": "code",
   "execution_count": 165,
   "metadata": {},
   "outputs": [
    {
     "name": "stdout",
     "output_type": "stream",
     "text": [
      "Model: \"sequential_23\"\n",
      "_________________________________________________________________\n",
      "Layer (type)                 Output Shape              Param #   \n",
      "=================================================================\n",
      "embedding_10 (Embedding)     (None, 500, 50)           2466650   \n",
      "_________________________________________________________________\n",
      "lstm_7 (LSTM)                (None, 10)                2440      \n",
      "_________________________________________________________________\n",
      "dense_34 (Dense)             (None, 8)                 88        \n",
      "=================================================================\n",
      "Total params: 2,469,178\n",
      "Trainable params: 2,528\n",
      "Non-trainable params: 2,466,650\n",
      "_________________________________________________________________\n",
      "None\n"
     ]
    }
   ],
   "source": [
    "# define the model\n",
    "model = Sequential()\n",
    "model.add(e)\n",
    "model.add(LSTM(10))\n",
    "model.add(Dense(8, activation='softmax'))\n",
    "\n",
    "opt = Adam(learning_rate=0.001)\n",
    "# compile the model\n",
    "model.compile(optimizer=opt, loss='categorical_crossentropy', metrics=['accuracy'])\n",
    "# summarize the model\n",
    "print(model.summary())"
   ]
  },
  {
   "cell_type": "code",
   "execution_count": 166,
   "metadata": {},
   "outputs": [
    {
     "data": {
      "text/plain": [
       "(250, 500)"
      ]
     },
     "execution_count": 166,
     "metadata": {},
     "output_type": "execute_result"
    }
   ],
   "source": [
    "pruned_x_train = np.array([x[0:500] for x in padded_x_train ])\n",
    "pruned_x_val = np.array([x[0:500] for x in padded_x_val ])\n",
    "pruned_x_test = np.array([x[0:500] for x in padded_x_test ])\n",
    "pruned_x_train.shape\n",
    "pruned_x_val.shape"
   ]
  },
  {
   "cell_type": "code",
   "execution_count": 167,
   "metadata": {},
   "outputs": [
    {
     "name": "stdout",
     "output_type": "stream",
     "text": [
      "Train on 1585 samples, validate on 250 samples\n",
      "Epoch 1/100\n",
      " - 5s - loss: 1.9201 - accuracy: 0.3703\n",
      "Epoch 2/100\n",
      " - 5s - loss: 1.6226 - accuracy: 0.6114\n",
      "Epoch 3/100\n",
      " - 5s - loss: 1.4086 - accuracy: 0.6114\n",
      "Epoch 4/100\n",
      " - 5s - loss: 1.2914 - accuracy: 0.6114\n",
      "Epoch 5/100\n",
      " - 5s - loss: 1.2498 - accuracy: 0.6114 - val_loss: 1.9331 - val_accuracy: 0.3440\n",
      "Epoch 6/100\n",
      " - 5s - loss: 1.2305 - accuracy: 0.6114\n",
      "Epoch 7/100\n",
      " - 5s - loss: 1.2210 - accuracy: 0.6120\n",
      "Epoch 8/100\n",
      " - 5s - loss: 1.2332 - accuracy: 0.6120\n",
      "Epoch 9/100\n",
      " - 5s - loss: 1.2115 - accuracy: 0.6132\n",
      "Epoch 10/100\n",
      " - 5s - loss: 1.1968 - accuracy: 0.6145 - val_loss: 1.8771 - val_accuracy: 0.3480\n",
      "Epoch 11/100\n",
      " - 5s - loss: 1.1911 - accuracy: 0.6158\n",
      "Epoch 12/100\n",
      " - 5s - loss: 1.1802 - accuracy: 0.6151\n",
      "Epoch 13/100\n",
      " - 5s - loss: 1.1664 - accuracy: 0.6164\n",
      "Epoch 14/100\n",
      " - 5s - loss: 1.1633 - accuracy: 0.6183\n",
      "Epoch 15/100\n",
      " - 5s - loss: 1.1429 - accuracy: 0.6233 - val_loss: 1.9149 - val_accuracy: 0.3480\n",
      "Epoch 16/100\n",
      " - 5s - loss: 1.1339 - accuracy: 0.6252\n",
      "Epoch 17/100\n",
      " - 5s - loss: 1.1302 - accuracy: 0.6221\n",
      "Epoch 18/100\n",
      " - 5s - loss: 1.1261 - accuracy: 0.6271\n",
      "Epoch 19/100\n",
      " - 5s - loss: 1.1166 - accuracy: 0.6265\n",
      "Epoch 20/100\n",
      " - 5s - loss: 1.1098 - accuracy: 0.6303 - val_loss: 1.9023 - val_accuracy: 0.3600\n",
      "Epoch 21/100\n",
      " - 5s - loss: 1.1066 - accuracy: 0.6353\n",
      "Epoch 22/100\n",
      " - 5s - loss: 1.0961 - accuracy: 0.6303\n",
      "Epoch 23/100\n",
      " - 5s - loss: 1.0899 - accuracy: 0.6328\n",
      "Epoch 24/100\n",
      " - 5s - loss: 1.0834 - accuracy: 0.6397\n",
      "Epoch 25/100\n",
      " - 5s - loss: 1.0752 - accuracy: 0.6423 - val_loss: 1.8297 - val_accuracy: 0.3680\n",
      "Epoch 26/100\n",
      " - 5s - loss: 1.0732 - accuracy: 0.6505\n",
      "Epoch 27/100\n",
      " - 5s - loss: 1.0829 - accuracy: 0.6353\n",
      "Epoch 28/100\n",
      " - 5s - loss: 1.0614 - accuracy: 0.6435\n",
      "Epoch 29/100\n",
      " - 5s - loss: 1.0575 - accuracy: 0.6448\n",
      "Epoch 30/100\n",
      " - 5s - loss: 1.0722 - accuracy: 0.6366 - val_loss: 2.0100 - val_accuracy: 0.3640\n",
      "Epoch 31/100\n",
      " - 5s - loss: 1.0479 - accuracy: 0.6467\n",
      "Epoch 32/100\n",
      " - 5s - loss: 1.0472 - accuracy: 0.6530\n",
      "Epoch 33/100\n",
      " - 5s - loss: 1.0377 - accuracy: 0.6511\n",
      "Epoch 34/100\n",
      " - 5s - loss: 1.0317 - accuracy: 0.6543\n",
      "Epoch 35/100\n",
      " - 5s - loss: 1.0300 - accuracy: 0.6562 - val_loss: 1.9158 - val_accuracy: 0.3680\n",
      "Epoch 36/100\n",
      " - 5s - loss: 1.0295 - accuracy: 0.6536\n",
      "Epoch 37/100\n",
      " - 5s - loss: 1.0260 - accuracy: 0.6606\n",
      "Epoch 38/100\n",
      " - 5s - loss: 1.0202 - accuracy: 0.6524\n",
      "Epoch 39/100\n",
      " - 5s - loss: 1.0079 - accuracy: 0.6568\n",
      "Epoch 40/100\n",
      " - 5s - loss: 1.0013 - accuracy: 0.6644 - val_loss: 1.8791 - val_accuracy: 0.3640\n",
      "Epoch 41/100\n",
      " - 5s - loss: 0.9992 - accuracy: 0.6574\n",
      "Epoch 42/100\n",
      " - 5s - loss: 0.9908 - accuracy: 0.6606\n",
      "Epoch 43/100\n",
      " - 5s - loss: 0.9879 - accuracy: 0.6637\n",
      "Epoch 44/100\n",
      " - 5s - loss: 0.9813 - accuracy: 0.6656\n",
      "Epoch 45/100\n",
      " - 5s - loss: 0.9911 - accuracy: 0.6700 - val_loss: 1.9110 - val_accuracy: 0.3920\n",
      "Epoch 46/100\n",
      " - 5s - loss: 0.9786 - accuracy: 0.6681\n",
      "Epoch 47/100\n",
      " - 5s - loss: 0.9703 - accuracy: 0.6700\n",
      "Epoch 48/100\n",
      " - 5s - loss: 0.9667 - accuracy: 0.6713\n",
      "Epoch 49/100\n",
      " - 5s - loss: 0.9662 - accuracy: 0.6713\n",
      "Epoch 50/100\n",
      " - 5s - loss: 0.9575 - accuracy: 0.6757 - val_loss: 1.9641 - val_accuracy: 0.3800\n",
      "Epoch 51/100\n",
      " - 5s - loss: 0.9585 - accuracy: 0.6688\n",
      "Epoch 52/100\n",
      " - 5s - loss: 0.9479 - accuracy: 0.6744\n",
      "Epoch 53/100\n",
      " - 5s - loss: 0.9453 - accuracy: 0.6719\n",
      "Epoch 54/100\n",
      " - 5s - loss: 0.9500 - accuracy: 0.6763\n",
      "Epoch 55/100\n",
      " - 5s - loss: 0.9418 - accuracy: 0.6770 - val_loss: 1.9280 - val_accuracy: 0.3840\n",
      "Epoch 56/100\n",
      " - 5s - loss: 0.9446 - accuracy: 0.6763\n",
      "Epoch 57/100\n",
      " - 5s - loss: 0.9364 - accuracy: 0.6801\n",
      "Epoch 58/100\n",
      " - 5s - loss: 0.9281 - accuracy: 0.6820\n",
      "Epoch 59/100\n",
      " - 5s - loss: 0.9260 - accuracy: 0.6826\n",
      "Epoch 60/100\n",
      " - 5s - loss: 0.9227 - accuracy: 0.6864 - val_loss: 1.9078 - val_accuracy: 0.3920\n",
      "Epoch 61/100\n",
      " - 5s - loss: 0.9226 - accuracy: 0.6871\n",
      "Epoch 62/100\n",
      " - 5s - loss: 0.9141 - accuracy: 0.6896\n",
      "Epoch 63/100\n",
      " - 5s - loss: 0.9112 - accuracy: 0.6814\n",
      "Epoch 64/100\n",
      " - 5s - loss: 0.9096 - accuracy: 0.6890\n",
      "Epoch 65/100\n",
      " - 5s - loss: 0.9094 - accuracy: 0.6871 - val_loss: 1.9028 - val_accuracy: 0.3960\n",
      "Epoch 66/100\n",
      " - 5s - loss: 0.9034 - accuracy: 0.6915\n",
      "Epoch 67/100\n",
      " - 5s - loss: 0.9042 - accuracy: 0.6934\n",
      "Epoch 68/100\n",
      " - 5s - loss: 0.9027 - accuracy: 0.6883\n",
      "Epoch 69/100\n",
      " - 5s - loss: 0.8947 - accuracy: 0.6909\n",
      "Epoch 70/100\n",
      " - 5s - loss: 0.8892 - accuracy: 0.6965 - val_loss: 1.9234 - val_accuracy: 0.3960\n",
      "Epoch 71/100\n",
      " - 5s - loss: 0.8848 - accuracy: 0.7016\n",
      "Epoch 72/100\n",
      " - 5s - loss: 0.8804 - accuracy: 0.6991\n",
      "Epoch 73/100\n",
      " - 5s - loss: 0.8783 - accuracy: 0.6965\n",
      "Epoch 74/100\n",
      " - 5s - loss: 0.8778 - accuracy: 0.7009\n",
      "Epoch 75/100\n",
      " - 5s - loss: 0.8790 - accuracy: 0.6953 - val_loss: 2.0085 - val_accuracy: 0.3840\n",
      "Epoch 76/100\n",
      " - 5s - loss: 0.8817 - accuracy: 0.6972\n",
      "Epoch 77/100\n",
      " - 5s - loss: 0.8650 - accuracy: 0.6978\n",
      "Epoch 78/100\n",
      " - 5s - loss: 0.8601 - accuracy: 0.7047\n",
      "Epoch 79/100\n",
      " - 5s - loss: 0.8627 - accuracy: 0.7009\n",
      "Epoch 80/100\n",
      " - 5s - loss: 0.8620 - accuracy: 0.7041 - val_loss: 1.9660 - val_accuracy: 0.4120\n",
      "Epoch 81/100\n",
      " - 5s - loss: 0.8519 - accuracy: 0.7028\n",
      "Epoch 82/100\n",
      " - 5s - loss: 0.8451 - accuracy: 0.7129\n",
      "Epoch 83/100\n",
      " - 5s - loss: 0.8665 - accuracy: 0.7009\n",
      "Epoch 84/100\n",
      " - 5s - loss: 0.9087 - accuracy: 0.6921\n",
      "Epoch 85/100\n",
      " - 5s - loss: 0.8478 - accuracy: 0.7123 - val_loss: 1.9763 - val_accuracy: 0.4000\n",
      "Epoch 86/100\n",
      " - 5s - loss: 0.9250 - accuracy: 0.6991\n",
      "Epoch 87/100\n",
      " - 5s - loss: 1.0544 - accuracy: 0.6334\n",
      "Epoch 88/100\n",
      " - 5s - loss: 0.9590 - accuracy: 0.6650\n",
      "Epoch 89/100\n",
      " - 5s - loss: 0.9109 - accuracy: 0.6852\n",
      "Epoch 90/100\n",
      " - 5s - loss: 0.8885 - accuracy: 0.6890 - val_loss: 1.9313 - val_accuracy: 0.3840\n",
      "Epoch 91/100\n",
      " - 5s - loss: 0.8727 - accuracy: 0.6946\n",
      "Epoch 92/100\n",
      " - 5s - loss: 0.8628 - accuracy: 0.7003\n",
      "Epoch 93/100\n",
      " - 5s - loss: 0.8566 - accuracy: 0.7016\n",
      "Epoch 94/100\n",
      " - 5s - loss: 0.8472 - accuracy: 0.7060\n",
      "Epoch 95/100\n",
      " - 5s - loss: 0.8376 - accuracy: 0.7079 - val_loss: 1.9214 - val_accuracy: 0.3880\n",
      "Epoch 96/100\n",
      " - 5s - loss: 0.8385 - accuracy: 0.7066\n",
      "Epoch 97/100\n",
      " - 5s - loss: 0.8324 - accuracy: 0.7079\n",
      "Epoch 98/100\n",
      " - 5s - loss: 0.8276 - accuracy: 0.7104\n",
      "Epoch 99/100\n",
      " - 5s - loss: 0.8260 - accuracy: 0.7136\n",
      "Epoch 100/100\n",
      " - 5s - loss: 0.8169 - accuracy: 0.7155 - val_loss: 2.0179 - val_accuracy: 0.3960\n"
     ]
    },
    {
     "data": {
      "text/plain": [
       "<keras.callbacks.callbacks.History at 0x2a11bcc0a08>"
      ]
     },
     "execution_count": 167,
     "metadata": {},
     "output_type": "execute_result"
    }
   ],
   "source": [
    "# fit the model\n",
    "model.fit(pruned_x_train, y_train,validation_data=(pruned_x_val, y_val),epochs=100, verbose=2, batch_size=50,validation_freq=5)"
   ]
  },
  {
   "cell_type": "code",
   "execution_count": 168,
   "metadata": {},
   "outputs": [
    {
     "name": "stdout",
     "output_type": "stream",
     "text": [
      "Accuracy: 36.000001\n"
     ]
    }
   ],
   "source": [
    "# evaluate the model\n",
    "loss, accuracy = model.evaluate(pruned_x_test, y_test, verbose=0)\n",
    "print('Accuracy: %f' % (accuracy*100))"
   ]
  },
  {
   "cell_type": "markdown",
   "metadata": {},
   "source": [
    "### Part 4: Use Glove"
   ]
  },
  {
   "cell_type": "code",
   "execution_count": 45,
   "metadata": {},
   "outputs": [
    {
     "name": "stdout",
     "output_type": "stream",
     "text": [
      "Loaded 400000 word vectors.\n"
     ]
    }
   ],
   "source": [
    "# load the whole embedding into memory\n",
    "embeddings_index = dict()\n",
    "f = open('glove.6B.50d.txt' , encoding=\"utf-8\")\n",
    "for line in f:\n",
    "    values = line.split()\n",
    "    word = values[0]\n",
    "    coefs = np.asarray(values[1:], dtype='float32')\n",
    "    embeddings_index[word] = coefs\n",
    "f.close()\n",
    "print('Loaded %s word vectors.' % len(embeddings_index))"
   ]
  },
  {
   "cell_type": "code",
   "execution_count": 47,
   "metadata": {},
   "outputs": [],
   "source": [
    "# create a weight matrix for words in training data\n",
    "embedding_matrix = np.zeros((vocab_size, 50))\n",
    "for word, i in t.word_index.items():\n",
    "    embedding_vector = embeddings_index.get(word)\n",
    "    if embedding_vector is not None:\n",
    "        embedding_matrix[i] = embedding_vector"
   ]
  },
  {
   "cell_type": "code",
   "execution_count": null,
   "metadata": {},
   "outputs": [],
   "source": []
  }
 ],
 "metadata": {
  "kernelspec": {
   "display_name": "Python 3",
   "language": "python",
   "name": "python3"
  },
  "language_info": {
   "codemirror_mode": {
    "name": "ipython",
    "version": 3
   },
   "file_extension": ".py",
   "mimetype": "text/x-python",
   "name": "python",
   "nbconvert_exporter": "python",
   "pygments_lexer": "ipython3",
   "version": "3.7.4"
  }
 },
 "nbformat": 4,
 "nbformat_minor": 2
}
