{
 "cells": [
  {
   "cell_type": "code",
   "execution_count": 1,
   "metadata": {},
   "outputs": [],
   "source": [
    "import numpy as np\n",
    "import os\n",
    "from random import shuffle\n",
    "import re"
   ]
  },
  {
   "cell_type": "code",
   "execution_count": 2,
   "metadata": {},
   "outputs": [
    {
     "data": {
      "text/html": [
       "\n",
       "    <div class=\"bk-root\">\n",
       "        <a href=\"https://bokeh.pydata.org\" target=\"_blank\" class=\"bk-logo bk-logo-small bk-logo-notebook\"></a>\n",
       "        <span id=\"1001\">Loading BokehJS ...</span>\n",
       "    </div>"
      ]
     },
     "metadata": {},
     "output_type": "display_data"
    },
    {
     "data": {
      "application/javascript": [
       "\n",
       "(function(root) {\n",
       "  function now() {\n",
       "    return new Date();\n",
       "  }\n",
       "\n",
       "  var force = true;\n",
       "\n",
       "  if (typeof root._bokeh_onload_callbacks === \"undefined\" || force === true) {\n",
       "    root._bokeh_onload_callbacks = [];\n",
       "    root._bokeh_is_loading = undefined;\n",
       "  }\n",
       "\n",
       "  var JS_MIME_TYPE = 'application/javascript';\n",
       "  var HTML_MIME_TYPE = 'text/html';\n",
       "  var EXEC_MIME_TYPE = 'application/vnd.bokehjs_exec.v0+json';\n",
       "  var CLASS_NAME = 'output_bokeh rendered_html';\n",
       "\n",
       "  /**\n",
       "   * Render data to the DOM node\n",
       "   */\n",
       "  function render(props, node) {\n",
       "    var script = document.createElement(\"script\");\n",
       "    node.appendChild(script);\n",
       "  }\n",
       "\n",
       "  /**\n",
       "   * Handle when an output is cleared or removed\n",
       "   */\n",
       "  function handleClearOutput(event, handle) {\n",
       "    var cell = handle.cell;\n",
       "\n",
       "    var id = cell.output_area._bokeh_element_id;\n",
       "    var server_id = cell.output_area._bokeh_server_id;\n",
       "    // Clean up Bokeh references\n",
       "    if (id != null && id in Bokeh.index) {\n",
       "      Bokeh.index[id].model.document.clear();\n",
       "      delete Bokeh.index[id];\n",
       "    }\n",
       "\n",
       "    if (server_id !== undefined) {\n",
       "      // Clean up Bokeh references\n",
       "      var cmd = \"from bokeh.io.state import curstate; print(curstate().uuid_to_server['\" + server_id + \"'].get_sessions()[0].document.roots[0]._id)\";\n",
       "      cell.notebook.kernel.execute(cmd, {\n",
       "        iopub: {\n",
       "          output: function(msg) {\n",
       "            var id = msg.content.text.trim();\n",
       "            if (id in Bokeh.index) {\n",
       "              Bokeh.index[id].model.document.clear();\n",
       "              delete Bokeh.index[id];\n",
       "            }\n",
       "          }\n",
       "        }\n",
       "      });\n",
       "      // Destroy server and session\n",
       "      var cmd = \"import bokeh.io.notebook as ion; ion.destroy_server('\" + server_id + \"')\";\n",
       "      cell.notebook.kernel.execute(cmd);\n",
       "    }\n",
       "  }\n",
       "\n",
       "  /**\n",
       "   * Handle when a new output is added\n",
       "   */\n",
       "  function handleAddOutput(event, handle) {\n",
       "    var output_area = handle.output_area;\n",
       "    var output = handle.output;\n",
       "\n",
       "    // limit handleAddOutput to display_data with EXEC_MIME_TYPE content only\n",
       "    if ((output.output_type != \"display_data\") || (!output.data.hasOwnProperty(EXEC_MIME_TYPE))) {\n",
       "      return\n",
       "    }\n",
       "\n",
       "    var toinsert = output_area.element.find(\".\" + CLASS_NAME.split(' ')[0]);\n",
       "\n",
       "    if (output.metadata[EXEC_MIME_TYPE][\"id\"] !== undefined) {\n",
       "      toinsert[toinsert.length - 1].firstChild.textContent = output.data[JS_MIME_TYPE];\n",
       "      // store reference to embed id on output_area\n",
       "      output_area._bokeh_element_id = output.metadata[EXEC_MIME_TYPE][\"id\"];\n",
       "    }\n",
       "    if (output.metadata[EXEC_MIME_TYPE][\"server_id\"] !== undefined) {\n",
       "      var bk_div = document.createElement(\"div\");\n",
       "      bk_div.innerHTML = output.data[HTML_MIME_TYPE];\n",
       "      var script_attrs = bk_div.children[0].attributes;\n",
       "      for (var i = 0; i < script_attrs.length; i++) {\n",
       "        toinsert[toinsert.length - 1].firstChild.setAttribute(script_attrs[i].name, script_attrs[i].value);\n",
       "      }\n",
       "      // store reference to server id on output_area\n",
       "      output_area._bokeh_server_id = output.metadata[EXEC_MIME_TYPE][\"server_id\"];\n",
       "    }\n",
       "  }\n",
       "\n",
       "  function register_renderer(events, OutputArea) {\n",
       "\n",
       "    function append_mime(data, metadata, element) {\n",
       "      // create a DOM node to render to\n",
       "      var toinsert = this.create_output_subarea(\n",
       "        metadata,\n",
       "        CLASS_NAME,\n",
       "        EXEC_MIME_TYPE\n",
       "      );\n",
       "      this.keyboard_manager.register_events(toinsert);\n",
       "      // Render to node\n",
       "      var props = {data: data, metadata: metadata[EXEC_MIME_TYPE]};\n",
       "      render(props, toinsert[toinsert.length - 1]);\n",
       "      element.append(toinsert);\n",
       "      return toinsert\n",
       "    }\n",
       "\n",
       "    /* Handle when an output is cleared or removed */\n",
       "    events.on('clear_output.CodeCell', handleClearOutput);\n",
       "    events.on('delete.Cell', handleClearOutput);\n",
       "\n",
       "    /* Handle when a new output is added */\n",
       "    events.on('output_added.OutputArea', handleAddOutput);\n",
       "\n",
       "    /**\n",
       "     * Register the mime type and append_mime function with output_area\n",
       "     */\n",
       "    OutputArea.prototype.register_mime_type(EXEC_MIME_TYPE, append_mime, {\n",
       "      /* Is output safe? */\n",
       "      safe: true,\n",
       "      /* Index of renderer in `output_area.display_order` */\n",
       "      index: 0\n",
       "    });\n",
       "  }\n",
       "\n",
       "  // register the mime type if in Jupyter Notebook environment and previously unregistered\n",
       "  if (root.Jupyter !== undefined) {\n",
       "    var events = require('base/js/events');\n",
       "    var OutputArea = require('notebook/js/outputarea').OutputArea;\n",
       "\n",
       "    if (OutputArea.prototype.mime_types().indexOf(EXEC_MIME_TYPE) == -1) {\n",
       "      register_renderer(events, OutputArea);\n",
       "    }\n",
       "  }\n",
       "\n",
       "  \n",
       "  if (typeof (root._bokeh_timeout) === \"undefined\" || force === true) {\n",
       "    root._bokeh_timeout = Date.now() + 5000;\n",
       "    root._bokeh_failed_load = false;\n",
       "  }\n",
       "\n",
       "  var NB_LOAD_WARNING = {'data': {'text/html':\n",
       "     \"<div style='background-color: #fdd'>\\n\"+\n",
       "     \"<p>\\n\"+\n",
       "     \"BokehJS does not appear to have successfully loaded. If loading BokehJS from CDN, this \\n\"+\n",
       "     \"may be due to a slow or bad network connection. Possible fixes:\\n\"+\n",
       "     \"</p>\\n\"+\n",
       "     \"<ul>\\n\"+\n",
       "     \"<li>re-rerun `output_notebook()` to attempt to load from CDN again, or</li>\\n\"+\n",
       "     \"<li>use INLINE resources instead, as so:</li>\\n\"+\n",
       "     \"</ul>\\n\"+\n",
       "     \"<code>\\n\"+\n",
       "     \"from bokeh.resources import INLINE\\n\"+\n",
       "     \"output_notebook(resources=INLINE)\\n\"+\n",
       "     \"</code>\\n\"+\n",
       "     \"</div>\"}};\n",
       "\n",
       "  function display_loaded() {\n",
       "    var el = document.getElementById(\"1001\");\n",
       "    if (el != null) {\n",
       "      el.textContent = \"BokehJS is loading...\";\n",
       "    }\n",
       "    if (root.Bokeh !== undefined) {\n",
       "      if (el != null) {\n",
       "        el.textContent = \"BokehJS \" + root.Bokeh.version + \" successfully loaded.\";\n",
       "      }\n",
       "    } else if (Date.now() < root._bokeh_timeout) {\n",
       "      setTimeout(display_loaded, 100)\n",
       "    }\n",
       "  }\n",
       "\n",
       "\n",
       "  function run_callbacks() {\n",
       "    try {\n",
       "      root._bokeh_onload_callbacks.forEach(function(callback) {\n",
       "        if (callback != null)\n",
       "          callback();\n",
       "      });\n",
       "    } finally {\n",
       "      delete root._bokeh_onload_callbacks\n",
       "    }\n",
       "    console.debug(\"Bokeh: all callbacks have finished\");\n",
       "  }\n",
       "\n",
       "  function load_libs(css_urls, js_urls, callback) {\n",
       "    if (css_urls == null) css_urls = [];\n",
       "    if (js_urls == null) js_urls = [];\n",
       "\n",
       "    root._bokeh_onload_callbacks.push(callback);\n",
       "    if (root._bokeh_is_loading > 0) {\n",
       "      console.debug(\"Bokeh: BokehJS is being loaded, scheduling callback at\", now());\n",
       "      return null;\n",
       "    }\n",
       "    if (js_urls == null || js_urls.length === 0) {\n",
       "      run_callbacks();\n",
       "      return null;\n",
       "    }\n",
       "    console.debug(\"Bokeh: BokehJS not loaded, scheduling load and callback at\", now());\n",
       "    root._bokeh_is_loading = css_urls.length + js_urls.length;\n",
       "\n",
       "    function on_load() {\n",
       "      root._bokeh_is_loading--;\n",
       "      if (root._bokeh_is_loading === 0) {\n",
       "        console.debug(\"Bokeh: all BokehJS libraries/stylesheets loaded\");\n",
       "        run_callbacks()\n",
       "      }\n",
       "    }\n",
       "\n",
       "    function on_error() {\n",
       "      console.error(\"failed to load \" + url);\n",
       "    }\n",
       "\n",
       "    for (var i = 0; i < css_urls.length; i++) {\n",
       "      var url = css_urls[i];\n",
       "      const element = document.createElement(\"link\");\n",
       "      element.onload = on_load;\n",
       "      element.onerror = on_error;\n",
       "      element.rel = \"stylesheet\";\n",
       "      element.type = \"text/css\";\n",
       "      element.href = url;\n",
       "      console.debug(\"Bokeh: injecting link tag for BokehJS stylesheet: \", url);\n",
       "      document.body.appendChild(element);\n",
       "    }\n",
       "\n",
       "    for (var i = 0; i < js_urls.length; i++) {\n",
       "      var url = js_urls[i];\n",
       "      var element = document.createElement('script');\n",
       "      element.onload = on_load;\n",
       "      element.onerror = on_error;\n",
       "      element.async = false;\n",
       "      element.src = url;\n",
       "      console.debug(\"Bokeh: injecting script tag for BokehJS library: \", url);\n",
       "      document.head.appendChild(element);\n",
       "    }\n",
       "  };var element = document.getElementById(\"1001\");\n",
       "  if (element == null) {\n",
       "    console.error(\"Bokeh: ERROR: autoload.js configured with elementid '1001' but no matching script tag was found. \")\n",
       "    return false;\n",
       "  }\n",
       "\n",
       "  function inject_raw_css(css) {\n",
       "    const element = document.createElement(\"style\");\n",
       "    element.appendChild(document.createTextNode(css));\n",
       "    document.body.appendChild(element);\n",
       "  }\n",
       "\n",
       "  var js_urls = [\"https://cdn.pydata.org/bokeh/release/bokeh-1.3.4.min.js\", \"https://cdn.pydata.org/bokeh/release/bokeh-widgets-1.3.4.min.js\", \"https://cdn.pydata.org/bokeh/release/bokeh-tables-1.3.4.min.js\", \"https://cdn.pydata.org/bokeh/release/bokeh-gl-1.3.4.min.js\"];\n",
       "  var css_urls = [];\n",
       "\n",
       "  var inline_js = [\n",
       "    function(Bokeh) {\n",
       "      Bokeh.set_log_level(\"info\");\n",
       "    },\n",
       "    \n",
       "    function(Bokeh) {\n",
       "      \n",
       "    },\n",
       "    function(Bokeh) {} // ensure no trailing comma for IE\n",
       "  ];\n",
       "\n",
       "  function run_inline_js() {\n",
       "    \n",
       "    if ((root.Bokeh !== undefined) || (force === true)) {\n",
       "      for (var i = 0; i < inline_js.length; i++) {\n",
       "        inline_js[i].call(root, root.Bokeh);\n",
       "      }if (force === true) {\n",
       "        display_loaded();\n",
       "      }} else if (Date.now() < root._bokeh_timeout) {\n",
       "      setTimeout(run_inline_js, 100);\n",
       "    } else if (!root._bokeh_failed_load) {\n",
       "      console.log(\"Bokeh: BokehJS failed to load within specified timeout.\");\n",
       "      root._bokeh_failed_load = true;\n",
       "    } else if (force !== true) {\n",
       "      var cell = $(document.getElementById(\"1001\")).parents('.cell').data().cell;\n",
       "      cell.output_area.append_execute_result(NB_LOAD_WARNING)\n",
       "    }\n",
       "\n",
       "  }\n",
       "\n",
       "  if (root._bokeh_is_loading === 0) {\n",
       "    console.debug(\"Bokeh: BokehJS loaded, going straight to plotting\");\n",
       "    run_inline_js();\n",
       "  } else {\n",
       "    load_libs(css_urls, js_urls, function() {\n",
       "      console.debug(\"Bokeh: BokehJS plotting callback run at\", now());\n",
       "      run_inline_js();\n",
       "    });\n",
       "  }\n",
       "}(window));"
      ],
      "application/vnd.bokehjs_load.v0+json": "\n(function(root) {\n  function now() {\n    return new Date();\n  }\n\n  var force = true;\n\n  if (typeof root._bokeh_onload_callbacks === \"undefined\" || force === true) {\n    root._bokeh_onload_callbacks = [];\n    root._bokeh_is_loading = undefined;\n  }\n\n  \n\n  \n  if (typeof (root._bokeh_timeout) === \"undefined\" || force === true) {\n    root._bokeh_timeout = Date.now() + 5000;\n    root._bokeh_failed_load = false;\n  }\n\n  var NB_LOAD_WARNING = {'data': {'text/html':\n     \"<div style='background-color: #fdd'>\\n\"+\n     \"<p>\\n\"+\n     \"BokehJS does not appear to have successfully loaded. If loading BokehJS from CDN, this \\n\"+\n     \"may be due to a slow or bad network connection. Possible fixes:\\n\"+\n     \"</p>\\n\"+\n     \"<ul>\\n\"+\n     \"<li>re-rerun `output_notebook()` to attempt to load from CDN again, or</li>\\n\"+\n     \"<li>use INLINE resources instead, as so:</li>\\n\"+\n     \"</ul>\\n\"+\n     \"<code>\\n\"+\n     \"from bokeh.resources import INLINE\\n\"+\n     \"output_notebook(resources=INLINE)\\n\"+\n     \"</code>\\n\"+\n     \"</div>\"}};\n\n  function display_loaded() {\n    var el = document.getElementById(\"1001\");\n    if (el != null) {\n      el.textContent = \"BokehJS is loading...\";\n    }\n    if (root.Bokeh !== undefined) {\n      if (el != null) {\n        el.textContent = \"BokehJS \" + root.Bokeh.version + \" successfully loaded.\";\n      }\n    } else if (Date.now() < root._bokeh_timeout) {\n      setTimeout(display_loaded, 100)\n    }\n  }\n\n\n  function run_callbacks() {\n    try {\n      root._bokeh_onload_callbacks.forEach(function(callback) {\n        if (callback != null)\n          callback();\n      });\n    } finally {\n      delete root._bokeh_onload_callbacks\n    }\n    console.debug(\"Bokeh: all callbacks have finished\");\n  }\n\n  function load_libs(css_urls, js_urls, callback) {\n    if (css_urls == null) css_urls = [];\n    if (js_urls == null) js_urls = [];\n\n    root._bokeh_onload_callbacks.push(callback);\n    if (root._bokeh_is_loading > 0) {\n      console.debug(\"Bokeh: BokehJS is being loaded, scheduling callback at\", now());\n      return null;\n    }\n    if (js_urls == null || js_urls.length === 0) {\n      run_callbacks();\n      return null;\n    }\n    console.debug(\"Bokeh: BokehJS not loaded, scheduling load and callback at\", now());\n    root._bokeh_is_loading = css_urls.length + js_urls.length;\n\n    function on_load() {\n      root._bokeh_is_loading--;\n      if (root._bokeh_is_loading === 0) {\n        console.debug(\"Bokeh: all BokehJS libraries/stylesheets loaded\");\n        run_callbacks()\n      }\n    }\n\n    function on_error() {\n      console.error(\"failed to load \" + url);\n    }\n\n    for (var i = 0; i < css_urls.length; i++) {\n      var url = css_urls[i];\n      const element = document.createElement(\"link\");\n      element.onload = on_load;\n      element.onerror = on_error;\n      element.rel = \"stylesheet\";\n      element.type = \"text/css\";\n      element.href = url;\n      console.debug(\"Bokeh: injecting link tag for BokehJS stylesheet: \", url);\n      document.body.appendChild(element);\n    }\n\n    for (var i = 0; i < js_urls.length; i++) {\n      var url = js_urls[i];\n      var element = document.createElement('script');\n      element.onload = on_load;\n      element.onerror = on_error;\n      element.async = false;\n      element.src = url;\n      console.debug(\"Bokeh: injecting script tag for BokehJS library: \", url);\n      document.head.appendChild(element);\n    }\n  };var element = document.getElementById(\"1001\");\n  if (element == null) {\n    console.error(\"Bokeh: ERROR: autoload.js configured with elementid '1001' but no matching script tag was found. \")\n    return false;\n  }\n\n  function inject_raw_css(css) {\n    const element = document.createElement(\"style\");\n    element.appendChild(document.createTextNode(css));\n    document.body.appendChild(element);\n  }\n\n  var js_urls = [\"https://cdn.pydata.org/bokeh/release/bokeh-1.3.4.min.js\", \"https://cdn.pydata.org/bokeh/release/bokeh-widgets-1.3.4.min.js\", \"https://cdn.pydata.org/bokeh/release/bokeh-tables-1.3.4.min.js\", \"https://cdn.pydata.org/bokeh/release/bokeh-gl-1.3.4.min.js\"];\n  var css_urls = [];\n\n  var inline_js = [\n    function(Bokeh) {\n      Bokeh.set_log_level(\"info\");\n    },\n    \n    function(Bokeh) {\n      \n    },\n    function(Bokeh) {} // ensure no trailing comma for IE\n  ];\n\n  function run_inline_js() {\n    \n    if ((root.Bokeh !== undefined) || (force === true)) {\n      for (var i = 0; i < inline_js.length; i++) {\n        inline_js[i].call(root, root.Bokeh);\n      }if (force === true) {\n        display_loaded();\n      }} else if (Date.now() < root._bokeh_timeout) {\n      setTimeout(run_inline_js, 100);\n    } else if (!root._bokeh_failed_load) {\n      console.log(\"Bokeh: BokehJS failed to load within specified timeout.\");\n      root._bokeh_failed_load = true;\n    } else if (force !== true) {\n      var cell = $(document.getElementById(\"1001\")).parents('.cell').data().cell;\n      cell.output_area.append_execute_result(NB_LOAD_WARNING)\n    }\n\n  }\n\n  if (root._bokeh_is_loading === 0) {\n    console.debug(\"Bokeh: BokehJS loaded, going straight to plotting\");\n    run_inline_js();\n  } else {\n    load_libs(css_urls, js_urls, function() {\n      console.debug(\"Bokeh: BokehJS plotting callback run at\", now());\n      run_inline_js();\n    });\n  }\n}(window));"
     },
     "metadata": {},
     "output_type": "display_data"
    }
   ],
   "source": [
    "from bokeh.models import ColumnDataSource, LabelSet\n",
    "from bokeh.plotting import figure, show, output_file\n",
    "from bokeh.io import output_notebook\n",
    "output_notebook()"
   ]
  },
  {
   "cell_type": "markdown",
   "metadata": {},
   "source": [
    "### Part 0: Download the TED dataset"
   ]
  },
  {
   "cell_type": "code",
   "execution_count": 3,
   "metadata": {},
   "outputs": [],
   "source": [
    "import urllib.request\n",
    "import zipfile\n",
    "import lxml.etree"
   ]
  },
  {
   "cell_type": "code",
   "execution_count": 4,
   "metadata": {},
   "outputs": [],
   "source": [
    "# Download the dataset if it's not already there: this may take a minute as it is 75MB\n",
    "if not os.path.isfile('ted_en-20160408.zip'):\n",
    "    urllib.request.urlretrieve(\"https://wit3.fbk.eu/get.php?path=XML_releases/xml/ted_en-20160408.zip&filename=ted_en-20160408.zip\", filename=\"ted_en-20160408.zip\")"
   ]
  },
  {
   "cell_type": "code",
   "execution_count": 5,
   "metadata": {},
   "outputs": [
    {
     "name": "stdout",
     "output_type": "stream",
     "text": [
      "Size of keywords:  2085\n",
      "Size of contents:  2085\n"
     ]
    }
   ],
   "source": [
    "# we're interested in the content and keywords text , so let's extract them from the XML:\n",
    "with zipfile.ZipFile('ted_en-20160408.zip', 'r') as z:\n",
    "    doc = lxml.etree.parse(z.open('ted_en-20160408.xml', 'r'))\n",
    "    contents_text = [] \n",
    "    keywords_text = [] \n",
    "    for content,keywords in zip(doc.iter('content'),doc.iter('keywords')):\n",
    "        keywords_text.append(keywords.text)\n",
    "        contents_text.append(content.text)\n",
    "         \n",
    "del doc\n",
    "print('Size of keywords: ' , len(keywords_text))\n",
    "print('Size of contents: ' , len(contents_text))"
   ]
  },
  {
   "cell_type": "markdown",
   "metadata": {},
   "source": [
    "### Part 1: Preprocessing\n",
    "In this part, we attempt to clean up the raw contents a bit, so that we get only sentences.Let's start by removing all parenthesized strings using a regex:"
   ]
  },
  {
   "cell_type": "code",
   "execution_count": 6,
   "metadata": {},
   "outputs": [],
   "source": [
    "contents_text_noparens = [] \n",
    "for content in contents_text:\n",
    "    contents_text_noparens.append(re.sub(r'\\([^)]*\\)', '', content))"
   ]
  },
  {
   "cell_type": "code",
   "execution_count": 7,
   "metadata": {},
   "outputs": [
    {
     "name": "stdout",
     "output_type": "stream",
     "text": [
      "ir calculators.\n",
      "(Laughter)\n",
      "Facit did too much expl\n",
      "\n",
      "Contents without parenthesized strings:\n",
      "ir calculators.\n",
      "\n",
      "Facit did too much exploitation. \n"
     ]
    }
   ],
   "source": [
    "print(contents_text[0][850:900])\n",
    "print('\\nContents without parenthesized strings:')\n",
    "print(contents_text_noparens[0][850:900])"
   ]
  },
  {
   "cell_type": "markdown",
   "metadata": {},
   "source": [
    "Now, let's attempt to remove speakers' names that occur at the beginning of a line, by deleting pieces of the form \"`<up to 20 characters>:`\". Of course, this is an imperfect heuristic. "
   ]
  },
  {
   "cell_type": "code",
   "execution_count": 8,
   "metadata": {},
   "outputs": [],
   "source": [
    "contents_ted = [] \n",
    "for content in contents_text_noparens:\n",
    "    content_sent = [] \n",
    "    for line in content.split('\\n'):\n",
    "        m = re.match(r'^(?:(?P<precolon>[^:]{,20}):)?(?P<postcolon>.*)$', line)\n",
    "        content_sent.extend(sent for sent in m.groupdict()['postcolon'].split('.') if sent)\n",
    "    contents_ted.append(\" \".join([x for x in content_sent]))"
   ]
  },
  {
   "cell_type": "markdown",
   "metadata": {},
   "source": [
    "We're ready to tokenize each of them into words and make them all small case."
   ]
  },
  {
   "cell_type": "code",
   "execution_count": 9,
   "metadata": {},
   "outputs": [],
   "source": [
    "from nltk.tokenize import word_tokenize\n",
    "import string"
   ]
  },
  {
   "cell_type": "code",
   "execution_count": 10,
   "metadata": {},
   "outputs": [],
   "source": [
    "tokenized_content = []\n",
    "for content in contents_ted:\n",
    "    # split into words\n",
    "    tokens = word_tokenize(content)\n",
    "    # convert to lower case\n",
    "    tokens = [w.lower() for w in tokens]\n",
    "    # remove punctuation from each word\n",
    "    table = str.maketrans('', '', string.punctuation)\n",
    "    stripped = [w.translate(table) for w in tokens]\n",
    "    tokenized_content.append([x for x in stripped if x != ''])"
   ]
  },
  {
   "cell_type": "code",
   "execution_count": 11,
   "metadata": {},
   "outputs": [
    {
     "name": "stdout",
     "output_type": "stream",
     "text": [
      "['here', 'are', 'two', 'reasons', 'companies', 'fail', 'they', 'only', 'do', 'more']\n"
     ]
    }
   ],
   "source": [
    "print(tokenized_content[0][0:10])"
   ]
  },
  {
   "cell_type": "markdown",
   "metadata": {},
   "source": [
    "#### Split data"
   ]
  },
  {
   "cell_type": "code",
   "execution_count": 12,
   "metadata": {},
   "outputs": [
    {
     "name": "stdout",
     "output_type": "stream",
     "text": [
      "Size of train data:  1585\n",
      "Size of validation data:  250\n",
      "Size of test data:  250\n"
     ]
    }
   ],
   "source": [
    "train = tokenized_content[0:1585]\n",
    "validation = tokenized_content[1585:1835]\n",
    "test = tokenized_content[1835:len(tokenized_content)]\n",
    "print('Size of train data: ', len(train))\n",
    "print('Size of validation data: ', len(validation))\n",
    "print('Size of test data: ', len(test))"
   ]
  },
  {
   "cell_type": "markdown",
   "metadata": {},
   "source": [
    "#### Word Frequencies"
   ]
  },
  {
   "cell_type": "code",
   "execution_count": 13,
   "metadata": {},
   "outputs": [],
   "source": [
    "from itertools import chain\n",
    "from collections import Counter"
   ]
  },
  {
   "cell_type": "code",
   "execution_count": 14,
   "metadata": {},
   "outputs": [],
   "source": [
    "counts_ted_top1000_dic =  dict(Counter(chain.from_iterable(train)))"
   ]
  },
  {
   "cell_type": "code",
   "execution_count": 15,
   "metadata": {},
   "outputs": [],
   "source": [
    "counts_ted_top1000_dic = {k: v for k, v in sorted(counts_ted_top1000_dic.items(), key=lambda item: item[1], reverse=True)}"
   ]
  },
  {
   "cell_type": "code",
   "execution_count": 16,
   "metadata": {},
   "outputs": [
    {
     "data": {
      "text/plain": [
       "1000"
      ]
     },
     "execution_count": 16,
     "metadata": {},
     "output_type": "execute_result"
    }
   ],
   "source": [
    "counts_ted_top1000 = []\n",
    "i = 0 \n",
    "for k in counts_ted_top1000_dic.keys(): \n",
    "    if i == 1000:\n",
    "        break\n",
    "    counts_ted_top1000.append(counts_ted_top1000_dic[k])\n",
    "    i += 1 \n",
    "len(counts_ted_top1000)"
   ]
  },
  {
   "cell_type": "markdown",
   "metadata": {},
   "source": [
    "### Part 2: Train Word2Vec"
   ]
  },
  {
   "cell_type": "code",
   "execution_count": 17,
   "metadata": {},
   "outputs": [],
   "source": [
    "from gensim.models import Word2Vec"
   ]
  },
  {
   "cell_type": "code",
   "execution_count": 18,
   "metadata": {},
   "outputs": [],
   "source": [
    "model_ted = Word2Vec(train, size=200, window=5, min_count=1, workers=10, iter=10)"
   ]
  },
  {
   "cell_type": "code",
   "execution_count": 19,
   "metadata": {},
   "outputs": [
    {
     "data": {
      "text/plain": [
       "[('dog', 0.8297110199928284),\n",
       " ('horse', 0.7753918766975403),\n",
       " ('tshirt', 0.6997356414794922),\n",
       " ('monkey', 0.6809483766555786),\n",
       " ('knife', 0.6808750033378601),\n",
       " ('cow', 0.6681587100028992),\n",
       " ('photo', 0.6677738428115845),\n",
       " ('cake', 0.6644402742385864),\n",
       " ('baby', 0.654541015625),\n",
       " ('rat', 0.6540597677230835)]"
      ]
     },
     "execution_count": 19,
     "metadata": {},
     "output_type": "execute_result"
    }
   ],
   "source": [
    "model_ted.wv.most_similar(\"cat\")"
   ]
  },
  {
   "cell_type": "markdown",
   "metadata": {},
   "source": [
    "#### t-SNE visualization"
   ]
  },
  {
   "cell_type": "code",
   "execution_count": 20,
   "metadata": {},
   "outputs": [],
   "source": [
    "words_top_ted = []\n",
    "i = 0 \n",
    "for k in counts_ted_top1000_dic.keys(): \n",
    "    if i == 1000:\n",
    "        break\n",
    "    words_top_ted.append(k)\n",
    "    i += 1 "
   ]
  },
  {
   "cell_type": "code",
   "execution_count": 21,
   "metadata": {},
   "outputs": [
    {
     "name": "stderr",
     "output_type": "stream",
     "text": [
      "C:\\ProgramData\\Anaconda3\\lib\\site-packages\\ipykernel_launcher.py:2: DeprecationWarning: Call to deprecated `__getitem__` (Method will be removed in 4.0.0, use self.wv.__getitem__() instead).\n",
      "  \n"
     ]
    }
   ],
   "source": [
    "# This assumes words_top_ted is a list of strings, the top 1000 words\n",
    "words_top_vec_ted = model_ted[words_top_ted]"
   ]
  },
  {
   "cell_type": "code",
   "execution_count": 22,
   "metadata": {},
   "outputs": [],
   "source": [
    "from sklearn.manifold import TSNE\n",
    "tsne = TSNE(n_components=2, random_state=0)\n",
    "words_top_ted_tsne = tsne.fit_transform(words_top_vec_ted)"
   ]
  },
  {
   "cell_type": "code",
   "execution_count": 23,
   "metadata": {},
   "outputs": [
    {
     "data": {
      "text/html": [
       "\n",
       "\n",
       "\n",
       "\n",
       "\n",
       "\n",
       "  <div class=\"bk-root\" id=\"f96a8718-ed0c-4f88-8c1e-9853e01c6abe\" data-root-id=\"1002\"></div>\n"
      ]
     },
     "metadata": {},
     "output_type": "display_data"
    },
    {
     "data": {
      "application/javascript": [
       "(function(root) {\n",
       "  function embed_document(root) {\n",
       "    \n",
       "  var docs_json = {\"c12afe45-2b07-4a37-9f58-f86985d35222\":{\"roots\":{\"references\":[{\"attributes\":{\"below\":[{\"id\":\"1013\",\"type\":\"LinearAxis\"}],\"center\":[{\"id\":\"1017\",\"type\":\"Grid\"},{\"id\":\"1022\",\"type\":\"Grid\"},{\"id\":\"1038\",\"type\":\"LabelSet\"}],\"left\":[{\"id\":\"1018\",\"type\":\"LinearAxis\"}],\"renderers\":[{\"id\":\"1036\",\"type\":\"GlyphRenderer\"}],\"title\":{\"id\":\"1003\",\"type\":\"Title\"},\"toolbar\":{\"id\":\"1027\",\"type\":\"Toolbar\"},\"toolbar_location\":\"above\",\"x_range\":{\"id\":\"1005\",\"type\":\"DataRange1d\"},\"x_scale\":{\"id\":\"1009\",\"type\":\"LinearScale\"},\"y_range\":{\"id\":\"1007\",\"type\":\"DataRange1d\"},\"y_scale\":{\"id\":\"1011\",\"type\":\"LinearScale\"}},\"id\":\"1002\",\"subtype\":\"Figure\",\"type\":\"Plot\"},{\"attributes\":{\"callback\":null},\"id\":\"1007\",\"type\":\"DataRange1d\"},{\"attributes\":{},\"id\":\"1025\",\"type\":\"ResetTool\"},{\"attributes\":{},\"id\":\"1026\",\"type\":\"SaveTool\"},{\"attributes\":{},\"id\":\"1009\",\"type\":\"LinearScale\"},{\"attributes\":{},\"id\":\"1024\",\"type\":\"WheelZoomTool\"},{\"attributes\":{},\"id\":\"1011\",\"type\":\"LinearScale\"},{\"attributes\":{\"formatter\":{\"id\":\"1041\",\"type\":\"BasicTickFormatter\"},\"ticker\":{\"id\":\"1014\",\"type\":\"BasicTicker\"}},\"id\":\"1013\",\"type\":\"LinearAxis\"},{\"attributes\":{\"active_drag\":\"auto\",\"active_inspect\":\"auto\",\"active_multi\":null,\"active_scroll\":\"auto\",\"active_tap\":\"auto\",\"tools\":[{\"id\":\"1023\",\"type\":\"PanTool\"},{\"id\":\"1024\",\"type\":\"WheelZoomTool\"},{\"id\":\"1025\",\"type\":\"ResetTool\"},{\"id\":\"1026\",\"type\":\"SaveTool\"}]},\"id\":\"1027\",\"type\":\"Toolbar\"},{\"attributes\":{\"ticker\":{\"id\":\"1014\",\"type\":\"BasicTicker\"}},\"id\":\"1017\",\"type\":\"Grid\"},{\"attributes\":{\"formatter\":{\"id\":\"1043\",\"type\":\"BasicTickFormatter\"},\"ticker\":{\"id\":\"1019\",\"type\":\"BasicTicker\"}},\"id\":\"1018\",\"type\":\"LinearAxis\"},{\"attributes\":{\"dimension\":1,\"ticker\":{\"id\":\"1019\",\"type\":\"BasicTicker\"}},\"id\":\"1022\",\"type\":\"Grid\"},{\"attributes\":{\"callback\":null},\"id\":\"1005\",\"type\":\"DataRange1d\"},{\"attributes\":{\"source\":{\"id\":\"1032\",\"type\":\"ColumnDataSource\"},\"text\":{\"field\":\"names\"},\"text_align\":\"center\",\"text_color\":{\"value\":\"#555555\"},\"text_font_size\":{\"value\":\"8pt\"},\"x\":{\"field\":\"x1\"},\"y\":{\"field\":\"x2\"},\"y_offset\":{\"value\":6}},\"id\":\"1038\",\"type\":\"LabelSet\"},{\"attributes\":{\"data_source\":{\"id\":\"1032\",\"type\":\"ColumnDataSource\"},\"glyph\":{\"id\":\"1034\",\"type\":\"Scatter\"},\"hover_glyph\":null,\"muted_glyph\":null,\"nonselection_glyph\":{\"id\":\"1035\",\"type\":\"Scatter\"},\"selection_glyph\":null,\"view\":{\"id\":\"1037\",\"type\":\"CDSView\"}},\"id\":\"1036\",\"type\":\"GlyphRenderer\"},{\"attributes\":{\"fill_alpha\":{\"value\":0.1},\"fill_color\":{\"value\":\"#1f77b4\"},\"line_alpha\":{\"value\":0.1},\"line_color\":{\"value\":\"#1f77b4\"},\"size\":{\"units\":\"screen\",\"value\":8},\"x\":{\"field\":\"x1\"},\"y\":{\"field\":\"x2\"}},\"id\":\"1035\",\"type\":\"Scatter\"},{\"attributes\":{},\"id\":\"1019\",\"type\":\"BasicTicker\"},{\"attributes\":{},\"id\":\"1046\",\"type\":\"Selection\"},{\"attributes\":{\"source\":{\"id\":\"1032\",\"type\":\"ColumnDataSource\"}},\"id\":\"1037\",\"type\":\"CDSView\"},{\"attributes\":{\"text\":\"word2vec T-SNE for most common words\"},\"id\":\"1003\",\"type\":\"Title\"},{\"attributes\":{},\"id\":\"1043\",\"type\":\"BasicTickFormatter\"},{\"attributes\":{\"fill_color\":{\"value\":\"#1f77b4\"},\"line_color\":{\"value\":\"#1f77b4\"},\"size\":{\"units\":\"screen\",\"value\":8},\"x\":{\"field\":\"x1\"},\"y\":{\"field\":\"x2\"}},\"id\":\"1034\",\"type\":\"Scatter\"},{\"attributes\":{\"callback\":null,\"data\":{\"names\":[\"the\",\"and\",\"to\",\"of\",\"a\",\"that\",\"i\",\"in\",\"it\",\"we\",\"you\",\"is\",\"s\",\"this\",\"so\",\"they\",\"was\",\"for\",\"are\",\"have\",\"but\",\"what\",\"on\",\"do\",\"with\",\"nt\",\"can\",\"about\",\"there\",\"be\",\"not\",\"as\",\"at\",\"my\",\"all\",\"people\",\"one\",\"re\",\"like\",\"if\",\"from\",\"our\",\"now\",\"or\",\"an\",\"these\",\"he\",\"just\",\"when\",\"because\",\"me\",\"by\",\"very\",\"how\",\"them\",\"out\",\"more\",\"had\",\"were\",\"their\",\"who\",\"up\",\"going\",\"would\",\"your\",\"see\",\"know\",\"think\",\"which\",\"really\",\"us\",\"here\",\"ve\",\"get\",\"then\",\"world\",\"m\",\"time\",\"some\",\"has\",\"actually\",\"could\",\"where\",\"into\",\"will\",\"did\",\"way\",\"years\",\"other\",\"no\",\"been\",\"things\",\"want\",\"go\",\"well\",\"she\",\"make\",\"those\",\"right\",\"first\",\"something\",\"than\",\"said\",\"also\",\"much\",\"two\",\"new\",\"even\",\"look\",\"most\",\"over\",\"back\",\"his\",\"work\",\"need\",\"only\",\"many\",\"thing\",\"got\",\"little\",\"take\",\"say\",\"life\",\"does\",\"every\",\"her\",\"why\",\"around\",\"different\",\"lot\",\"let\",\"good\",\"through\",\"same\",\"kind\",\"use\",\"day\",\"come\",\"down\",\"being\",\"ll\",\"today\",\"d\",\"thank\",\"doing\",\"percent\",\"three\",\"any\",\"after\",\"called\",\"tell\",\"put\",\"find\",\"made\",\"fact\",\"change\",\"great\",\"human\",\"own\",\"should\",\"year\",\"started\",\"might\",\"before\",\"its\",\"talk\",\"better\",\"another\",\"never\",\"idea\",\"give\",\"big\",\"last\",\"together\",\"able\",\"women\",\"still\",\"problem\",\"important\",\"system\",\"went\",\"thought\",\"again\",\"ca\",\"each\",\"part\",\"next\",\"course\",\"story\",\"brain\",\"start\",\"him\",\"data\",\"few\",\"used\",\"ago\",\"between\",\"\\u266b\",\"came\",\"show\",\"off\",\"example\",\"water\",\"place\",\"found\",\"maybe\",\"too\",\"technology\",\"question\",\"bit\",\"school\",\"children\",\"wanted\",\"long\",\"love\",\"looking\",\"ever\",\"understand\",\"live\",\"end\",\"done\",\"help\",\"mean\",\"call\",\"point\",\"may\",\"information\",\"trying\",\"country\",\"feel\",\"always\",\"believe\",\"real\",\"away\",\"using\",\"person\",\"working\",\"home\",\"means\",\"thinking\",\"power\",\"everything\",\"try\",\"four\",\"become\",\"times\",\"create\",\"social\",\"whole\",\"10\",\"second\",\"money\",\"small\",\"number\",\"million\",\"okay\",\"without\",\"took\",\"kids\",\"five\",\"best\",\"future\",\"sort\",\"men\",\"less\",\"city\",\"lives\",\"old\",\"told\",\"food\",\"body\",\"getting\",\"light\",\"family\",\"quite\",\"left\",\"am\",\"ask\",\"comes\",\"happened\",\"enough\",\"energy\",\"countries\",\"probably\",\"talking\",\"science\",\"man\",\"space\",\"while\",\"making\",\"such\",\"hard\",\"health\",\"imagine\",\"across\",\"sense\",\"moment\",\"young\",\"saw\",\"pretty\",\"asked\",\"living\",\"care\",\"once\",\"interesting\",\"later\",\"someone\",\"yet\",\"learn\",\"coming\",\"anything\",\"ways\",\"case\",\"having\",\"makes\",\"almost\",\"side\",\"inside\",\"design\",\"days\",\"happen\",\"half\",\"experience\",\"building\",\"build\",\"simple\",\"play\",\"room\",\"high\",\"nothing\",\"remember\",\"else\",\"happens\",\"seen\",\"process\",\"myself\",\"states\",\"community\",\"whether\",\"cells\",\"often\",\"reason\",\"dollars\",\"global\",\"both\",\"already\",\"single\",\"sometimes\",\"public\",\"goes\",\"move\",\"bad\",\"government\",\"within\",\"instead\",\"friends\",\"far\",\"project\",\"looked\",\"wrong\",\"possible\",\"mind\",\"says\",\"20\",\"problems\",\"cancer\",\"answer\",\"sure\",\"months\",\"research\",\"stuff\",\"control\",\"job\",\"\\u2014\",\"basically\",\"amazing\",\"saying\",\"u\",\"business\",\"picture\",\"billion\",\"hope\",\"hand\",\"set\",\"since\",\"open\",\"keep\",\"earth\",\"words\",\"six\",\"yes\",\"true\",\"top\",\"united\",\"woman\",\"study\",\"child\",\"matter\",\"age\",\"order\",\"looks\",\"learned\",\"history\",\"computer\",\"\\u266a\",\"face\",\"until\",\"knew\",\"bring\",\"internet\",\"against\",\"heard\",\"stories\",\"group\",\"share\",\"everyone\",\"read\",\"planet\",\"turn\",\"became\",\"society\",\"taking\",\"car\",\"night\",\"language\",\"under\",\"guy\",\"state\",\"education\",\"places\",\"stop\",\"decided\",\"video\",\"war\",\"questions\",\"though\",\"ourselves\",\"themselves\",\"book\",\"everybody\",\"couple\",\"line\",\"form\",\"exactly\",\"works\",\"beautiful\",\"created\",\"completely\",\"oh\",\"music\",\"built\",\"ideas\",\"gets\",\"turns\",\"students\",\"model\",\"run\",\"middle\",\"black\",\"somebody\",\"happening\",\"heart\",\"name\",\"hear\",\"disease\",\"hours\",\"thousands\",\"america\",\"environment\",\"animals\",\"30\",\"others\",\"mother\",\"huge\",\"india\",\"piece\",\"front\",\"head\",\"kinds\",\"word\",\"rather\",\"learning\",\"systems\",\"past\",\"large\",\"worked\",\"minutes\",\"during\",\"level\",\"company\",\"early\",\"art\",\"sound\",\"itself\",\"house\",\"entire\",\"changed\",\"perhaps\",\"africa\",\"companies\",\"must\",\"yeah\",\"least\",\"species\",\"ones\",\"nature\",\"given\",\"behind\",\"game\",\"gave\",\"local\",\"reality\",\"lots\",\"china\",\"news\",\"particular\",\"difficult\",\"american\",\"third\",\"cities\",\"per\",\"guys\",\"team\",\"leave\",\"parents\",\"patients\",\"finally\",\"machine\",\"cell\",\"along\",\"50\",\"outside\",\"yourself\",\"simply\",\"taken\",\"difference\",\"easy\",\"natural\",\"population\",\"takes\",\"culture\",\"needed\",\"figure\",\"seeing\",\"father\",\"realized\",\"eyes\",\"happy\",\"economic\",\"turned\",\"close\",\"political\",\"felt\",\"image\",\"universe\",\"needs\",\"powerful\",\"100\",\"fish\",\"century\",\"media\",\"ocean\",\"air\",\"ted\",\"spend\",\"humans\",\"week\",\"parts\",\"york\",\"area\",\"hands\",\"walk\",\"terms\",\"15\",\"death\",\"red\",\"free\",\"blue\",\"grow\",\"weeks\",\"began\",\"national\",\"friend\",\"challenge\",\"spent\",\"longer\",\"white\",\"seven\",\"full\",\"paper\",\"shows\",\"changes\",\"growth\",\"physical\",\"girl\",\"field\",\"poor\",\"certain\",\"known\",\"phone\",\"online\",\"hundreds\",\"scale\",\"born\",\"climate\",\"moving\",\"green\",\"sitting\",\"beginning\",\"step\",\"access\",\"land\",\"feeling\",\"lost\",\"based\",\"view\",\"tried\",\"ability\",\"opportunity\",\"common\",\"oil\",\"amount\",\"either\",\"center\",\"average\",\"images\",\"gone\",\"attention\",\"pay\",\"value\",\"scientists\",\"street\",\"cost\",\"write\",\"behavior\",\"economy\",\"whatever\",\"fear\",\"numbers\",\"medical\",\"met\",\"god\",\"rest\",\"blood\",\"size\",\"speak\",\"quickly\",\"complex\",\"test\",\"market\",\"movement\",\"risk\",\"deal\",\"girls\",\"anyone\",\"eight\",\"growing\",\"south\",\"realize\",\"alone\",\"interested\",\"giving\",\"areas\",\"lab\",\"buy\",\"morning\",\"animal\",\"support\",\"developed\",\"individual\",\"millions\",\"hold\",\"development\",\"understanding\",\"audience\",\"innovation\",\"act\",\"map\",\"drug\",\"result\",\"absolutely\",\"issue\",\"rights\",\"incredible\",\"voice\",\"knowledge\",\"law\",\"kid\",\"telling\",\"structure\",\"key\",\"stage\",\"watch\",\"seems\",\"patient\",\"program\",\"dna\",\"personal\",\"brought\",\"wrote\",\"north\",\"ground\",\"europe\",\"deep\",\"die\",\"wonderful\",\"tools\",\"drugs\",\"especially\",\"eat\",\"choice\",\"communities\",\"network\",\"asking\",\"books\",\"normal\",\"starting\",\"creating\",\"issues\",\"literally\",\"surface\",\"violence\",\"clear\",\"rate\",\"sea\",\"recently\",\"running\",\"playing\",\"nice\",\"baby\",\"changing\",\"forward\",\"soon\",\"solve\",\"technologies\",\"tiny\",\"several\",\"digital\",\"solution\",\"resources\",\"likely\",\"cars\",\"impact\",\"allow\",\"meet\",\"special\",\"material\",\"bottom\",\"miles\",\"beyond\",\"groups\",\"wo\",\"relationship\",\"university\",\"seem\",\"evidence\",\"writing\",\"40\",\"international\",\"save\",\"fly\",\"box\",\"indeed\",\"available\",\"showed\",\"send\",\"message\",\"trust\",\"situation\",\"gives\",\"short\",\"stay\",\"discovered\",\"developing\",\"fast\",\"nobody\",\"office\",\"cause\",\"robot\",\"industry\",\"obviously\",\"generation\",\"bigger\",\"crazy\",\"revolution\",\"wall\",\"security\",\"journey\",\"cut\",\"dead\",\"similar\",\"color\",\"chance\",\"dark\",\"type\",\"produce\",\"pick\",\"police\",\"major\",\"device\",\"english\",\"west\",\"ready\",\"product\",\"sounds\",\"modern\",\"ice\",\"reasons\",\"led\",\"incredibly\",\"hundred\",\"focus\",\"memory\",\"medicine\",\"stand\",\"suddenly\",\"measure\",\"truth\",\"examples\",\"begin\",\"towards\",\"cool\",\"dream\",\"basic\",\"talked\",\"potential\",\"walking\",\"doctor\",\"boy\",\"chinese\",\"hit\",\"sun\",\"feet\",\"games\",\"scientific\",\"democracy\",\"explain\",\"designed\",\"teach\",\"theory\",\"starts\",\"choose\",\"sex\",\"effect\",\"force\",\"google\",\"experiment\",\"camera\",\"action\",\"hospital\",\"involved\",\"notice\",\"please\",\"knows\",\"individuals\",\"present\",\"college\",\"perfect\",\"success\",\"class\",\"approach\",\"putting\",\"reach\",\"listen\",\"sleep\",\"eye\",\"died\",\"including\",\"pictures\",\"conversation\",\"watching\",\"guess\",\"plant\",\"leaders\",\"computers\",\"becomes\",\"among\",\"safe\",\"lived\",\"cases\",\"certainly\",\"freedom\",\"table\",\"low\",\"general\",\"biggest\",\"east\",\"1\",\"film\",\"quality\",\"worse\",\"eventually\",\"doctors\",\"worth\",\"schools\",\"favorite\",\"families\",\"break\",\"fight\",\"extremely\",\"everywhere\",\"objects\",\"particularly\",\"nine\",\"largest\",\"onto\",\"fun\",\"grew\",\"organization\",\"anybody\",\"results\",\"response\",\"solar\",\"drive\",\"higher\",\"moved\",\"develop\",\"connected\",\"faster\",\"12\",\"son\",\"sit\",\"protect\",\"allowed\",\"strong\",\"treatment\",\"shown\",\"further\",\"creative\",\"role\",\"extraordinary\",\"standing\",\"waste\",\"wants\",\"mom\",\"bodies\",\"code\",\"sent\",\"jobs\",\"conditions\",\"plan\",\"showing\",\"brains\",\"carbon\",\"however\",\"road\",\"month\",\"models\",\"teachers\",\"totally\",\"wife\",\"hour\",\"loved\",\"period\",\"software\",\"tells\",\"essentially\",\"wait\",\"taught\",\"finding\",\"continue\",\"fire\",\"older\",\"crisis\",\"studies\",\"object\",\"smart\",\"shape\",\"activity\",\"usually\",\"vision\",\"truly\",\"progress\",\"add\",\"robots\",\"skin\",\"anymore\",\"exist\",\"career\",\"plants\",\"web\",\"materials\",\"lead\",\"supposed\",\"consider\",\"exciting\",\"visual\",\"poverty\",\"increase\",\"mine\",\"tool\",\"fall\",\"successful\",\"student\",\"training\",\"goal\",\"rules\",\"meant\",\"expect\",\"clearly\"],\"x1\":{\"__ndarray__\":\"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\",\"dtype\":\"float32\",\"shape\":[1000]},\"x2\":{\"__ndarray__\":\"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\",\"dtype\":\"float32\",\"shape\":[1000]}},\"selected\":{\"id\":\"1046\",\"type\":\"Selection\"},\"selection_policy\":{\"id\":\"1045\",\"type\":\"UnionRenderers\"}},\"id\":\"1032\",\"type\":\"ColumnDataSource\"},{\"attributes\":{},\"id\":\"1041\",\"type\":\"BasicTickFormatter\"},{\"attributes\":{},\"id\":\"1045\",\"type\":\"UnionRenderers\"},{\"attributes\":{},\"id\":\"1014\",\"type\":\"BasicTicker\"},{\"attributes\":{},\"id\":\"1023\",\"type\":\"PanTool\"}],\"root_ids\":[\"1002\"]},\"title\":\"Bokeh Application\",\"version\":\"1.3.4\"}};\n",
       "  var render_items = [{\"docid\":\"c12afe45-2b07-4a37-9f58-f86985d35222\",\"roots\":{\"1002\":\"f96a8718-ed0c-4f88-8c1e-9853e01c6abe\"}}];\n",
       "  root.Bokeh.embed.embed_items_notebook(docs_json, render_items);\n",
       "\n",
       "  }\n",
       "  if (root.Bokeh !== undefined) {\n",
       "    embed_document(root);\n",
       "  } else {\n",
       "    var attempts = 0;\n",
       "    var timer = setInterval(function(root) {\n",
       "      if (root.Bokeh !== undefined) {\n",
       "        embed_document(root);\n",
       "        clearInterval(timer);\n",
       "      }\n",
       "      attempts++;\n",
       "      if (attempts > 100) {\n",
       "        console.log(\"Bokeh: ERROR: Unable to run BokehJS code because BokehJS library is missing\");\n",
       "        clearInterval(timer);\n",
       "      }\n",
       "    }, 10, root)\n",
       "  }\n",
       "})(window);"
      ],
      "application/vnd.bokehjs_exec.v0+json": ""
     },
     "metadata": {
      "application/vnd.bokehjs_exec.v0+json": {
       "id": "1002"
      }
     },
     "output_type": "display_data"
    }
   ],
   "source": [
    "p = figure(tools=\"pan,wheel_zoom,reset,save\",\n",
    "           toolbar_location=\"above\",\n",
    "           title=\"word2vec T-SNE for most common words\")\n",
    "\n",
    "source = ColumnDataSource(data=dict(x1=words_top_ted_tsne[:,0],\n",
    "                                    x2=words_top_ted_tsne[:,1],\n",
    "                                    names=words_top_ted))\n",
    "\n",
    "p.scatter(x=\"x1\", y=\"x2\", size=8, source=source)\n",
    "\n",
    "labels = LabelSet(x=\"x1\", y=\"x2\", text=\"names\", y_offset=6,\n",
    "                  text_font_size=\"8pt\", text_color=\"#555555\",\n",
    "                  source=source, text_align='center')\n",
    "p.add_layout(labels)\n",
    "\n",
    "show(p)"
   ]
  },
  {
   "cell_type": "code",
   "execution_count": null,
   "metadata": {},
   "outputs": [],
   "source": []
  }
 ],
 "metadata": {
  "kernelspec": {
   "display_name": "Python 3",
   "language": "python",
   "name": "python3"
  },
  "language_info": {
   "codemirror_mode": {
    "name": "ipython",
    "version": 3
   },
   "file_extension": ".py",
   "mimetype": "text/x-python",
   "name": "python",
   "nbconvert_exporter": "python",
   "pygments_lexer": "ipython3",
   "version": "3.7.4"
  }
 },
 "nbformat": 4,
 "nbformat_minor": 2
}
