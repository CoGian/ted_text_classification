{
 "cells": [
  {
   "cell_type": "code",
   "execution_count": 10,
   "metadata": {},
   "outputs": [],
   "source": [
    "import numpy as np\n",
    "import os\n",
    "from random import shuffle\n",
    "import re"
   ]
  },
  {
   "cell_type": "code",
   "execution_count": 125,
   "metadata": {},
   "outputs": [
    {
     "data": {
      "text/html": [
       "\n",
       "    <div class=\"bk-root\">\n",
       "        <a href=\"https://bokeh.pydata.org\" target=\"_blank\" class=\"bk-logo bk-logo-small bk-logo-notebook\"></a>\n",
       "        <span id=\"1001\">Loading BokehJS ...</span>\n",
       "    </div>"
      ]
     },
     "metadata": {},
     "output_type": "display_data"
    },
    {
     "data": {
      "application/javascript": [
       "\n",
       "(function(root) {\n",
       "  function now() {\n",
       "    return new Date();\n",
       "  }\n",
       "\n",
       "  var force = true;\n",
       "\n",
       "  if (typeof root._bokeh_onload_callbacks === \"undefined\" || force === true) {\n",
       "    root._bokeh_onload_callbacks = [];\n",
       "    root._bokeh_is_loading = undefined;\n",
       "  }\n",
       "\n",
       "  var JS_MIME_TYPE = 'application/javascript';\n",
       "  var HTML_MIME_TYPE = 'text/html';\n",
       "  var EXEC_MIME_TYPE = 'application/vnd.bokehjs_exec.v0+json';\n",
       "  var CLASS_NAME = 'output_bokeh rendered_html';\n",
       "\n",
       "  /**\n",
       "   * Render data to the DOM node\n",
       "   */\n",
       "  function render(props, node) {\n",
       "    var script = document.createElement(\"script\");\n",
       "    node.appendChild(script);\n",
       "  }\n",
       "\n",
       "  /**\n",
       "   * Handle when an output is cleared or removed\n",
       "   */\n",
       "  function handleClearOutput(event, handle) {\n",
       "    var cell = handle.cell;\n",
       "\n",
       "    var id = cell.output_area._bokeh_element_id;\n",
       "    var server_id = cell.output_area._bokeh_server_id;\n",
       "    // Clean up Bokeh references\n",
       "    if (id != null && id in Bokeh.index) {\n",
       "      Bokeh.index[id].model.document.clear();\n",
       "      delete Bokeh.index[id];\n",
       "    }\n",
       "\n",
       "    if (server_id !== undefined) {\n",
       "      // Clean up Bokeh references\n",
       "      var cmd = \"from bokeh.io.state import curstate; print(curstate().uuid_to_server['\" + server_id + \"'].get_sessions()[0].document.roots[0]._id)\";\n",
       "      cell.notebook.kernel.execute(cmd, {\n",
       "        iopub: {\n",
       "          output: function(msg) {\n",
       "            var id = msg.content.text.trim();\n",
       "            if (id in Bokeh.index) {\n",
       "              Bokeh.index[id].model.document.clear();\n",
       "              delete Bokeh.index[id];\n",
       "            }\n",
       "          }\n",
       "        }\n",
       "      });\n",
       "      // Destroy server and session\n",
       "      var cmd = \"import bokeh.io.notebook as ion; ion.destroy_server('\" + server_id + \"')\";\n",
       "      cell.notebook.kernel.execute(cmd);\n",
       "    }\n",
       "  }\n",
       "\n",
       "  /**\n",
       "   * Handle when a new output is added\n",
       "   */\n",
       "  function handleAddOutput(event, handle) {\n",
       "    var output_area = handle.output_area;\n",
       "    var output = handle.output;\n",
       "\n",
       "    // limit handleAddOutput to display_data with EXEC_MIME_TYPE content only\n",
       "    if ((output.output_type != \"display_data\") || (!output.data.hasOwnProperty(EXEC_MIME_TYPE))) {\n",
       "      return\n",
       "    }\n",
       "\n",
       "    var toinsert = output_area.element.find(\".\" + CLASS_NAME.split(' ')[0]);\n",
       "\n",
       "    if (output.metadata[EXEC_MIME_TYPE][\"id\"] !== undefined) {\n",
       "      toinsert[toinsert.length - 1].firstChild.textContent = output.data[JS_MIME_TYPE];\n",
       "      // store reference to embed id on output_area\n",
       "      output_area._bokeh_element_id = output.metadata[EXEC_MIME_TYPE][\"id\"];\n",
       "    }\n",
       "    if (output.metadata[EXEC_MIME_TYPE][\"server_id\"] !== undefined) {\n",
       "      var bk_div = document.createElement(\"div\");\n",
       "      bk_div.innerHTML = output.data[HTML_MIME_TYPE];\n",
       "      var script_attrs = bk_div.children[0].attributes;\n",
       "      for (var i = 0; i < script_attrs.length; i++) {\n",
       "        toinsert[toinsert.length - 1].firstChild.setAttribute(script_attrs[i].name, script_attrs[i].value);\n",
       "      }\n",
       "      // store reference to server id on output_area\n",
       "      output_area._bokeh_server_id = output.metadata[EXEC_MIME_TYPE][\"server_id\"];\n",
       "    }\n",
       "  }\n",
       "\n",
       "  function register_renderer(events, OutputArea) {\n",
       "\n",
       "    function append_mime(data, metadata, element) {\n",
       "      // create a DOM node to render to\n",
       "      var toinsert = this.create_output_subarea(\n",
       "        metadata,\n",
       "        CLASS_NAME,\n",
       "        EXEC_MIME_TYPE\n",
       "      );\n",
       "      this.keyboard_manager.register_events(toinsert);\n",
       "      // Render to node\n",
       "      var props = {data: data, metadata: metadata[EXEC_MIME_TYPE]};\n",
       "      render(props, toinsert[toinsert.length - 1]);\n",
       "      element.append(toinsert);\n",
       "      return toinsert\n",
       "    }\n",
       "\n",
       "    /* Handle when an output is cleared or removed */\n",
       "    events.on('clear_output.CodeCell', handleClearOutput);\n",
       "    events.on('delete.Cell', handleClearOutput);\n",
       "\n",
       "    /* Handle when a new output is added */\n",
       "    events.on('output_added.OutputArea', handleAddOutput);\n",
       "\n",
       "    /**\n",
       "     * Register the mime type and append_mime function with output_area\n",
       "     */\n",
       "    OutputArea.prototype.register_mime_type(EXEC_MIME_TYPE, append_mime, {\n",
       "      /* Is output safe? */\n",
       "      safe: true,\n",
       "      /* Index of renderer in `output_area.display_order` */\n",
       "      index: 0\n",
       "    });\n",
       "  }\n",
       "\n",
       "  // register the mime type if in Jupyter Notebook environment and previously unregistered\n",
       "  if (root.Jupyter !== undefined) {\n",
       "    var events = require('base/js/events');\n",
       "    var OutputArea = require('notebook/js/outputarea').OutputArea;\n",
       "\n",
       "    if (OutputArea.prototype.mime_types().indexOf(EXEC_MIME_TYPE) == -1) {\n",
       "      register_renderer(events, OutputArea);\n",
       "    }\n",
       "  }\n",
       "\n",
       "  \n",
       "  if (typeof (root._bokeh_timeout) === \"undefined\" || force === true) {\n",
       "    root._bokeh_timeout = Date.now() + 5000;\n",
       "    root._bokeh_failed_load = false;\n",
       "  }\n",
       "\n",
       "  var NB_LOAD_WARNING = {'data': {'text/html':\n",
       "     \"<div style='background-color: #fdd'>\\n\"+\n",
       "     \"<p>\\n\"+\n",
       "     \"BokehJS does not appear to have successfully loaded. If loading BokehJS from CDN, this \\n\"+\n",
       "     \"may be due to a slow or bad network connection. Possible fixes:\\n\"+\n",
       "     \"</p>\\n\"+\n",
       "     \"<ul>\\n\"+\n",
       "     \"<li>re-rerun `output_notebook()` to attempt to load from CDN again, or</li>\\n\"+\n",
       "     \"<li>use INLINE resources instead, as so:</li>\\n\"+\n",
       "     \"</ul>\\n\"+\n",
       "     \"<code>\\n\"+\n",
       "     \"from bokeh.resources import INLINE\\n\"+\n",
       "     \"output_notebook(resources=INLINE)\\n\"+\n",
       "     \"</code>\\n\"+\n",
       "     \"</div>\"}};\n",
       "\n",
       "  function display_loaded() {\n",
       "    var el = document.getElementById(\"1001\");\n",
       "    if (el != null) {\n",
       "      el.textContent = \"BokehJS is loading...\";\n",
       "    }\n",
       "    if (root.Bokeh !== undefined) {\n",
       "      if (el != null) {\n",
       "        el.textContent = \"BokehJS \" + root.Bokeh.version + \" successfully loaded.\";\n",
       "      }\n",
       "    } else if (Date.now() < root._bokeh_timeout) {\n",
       "      setTimeout(display_loaded, 100)\n",
       "    }\n",
       "  }\n",
       "\n",
       "\n",
       "  function run_callbacks() {\n",
       "    try {\n",
       "      root._bokeh_onload_callbacks.forEach(function(callback) {\n",
       "        if (callback != null)\n",
       "          callback();\n",
       "      });\n",
       "    } finally {\n",
       "      delete root._bokeh_onload_callbacks\n",
       "    }\n",
       "    console.debug(\"Bokeh: all callbacks have finished\");\n",
       "  }\n",
       "\n",
       "  function load_libs(css_urls, js_urls, callback) {\n",
       "    if (css_urls == null) css_urls = [];\n",
       "    if (js_urls == null) js_urls = [];\n",
       "\n",
       "    root._bokeh_onload_callbacks.push(callback);\n",
       "    if (root._bokeh_is_loading > 0) {\n",
       "      console.debug(\"Bokeh: BokehJS is being loaded, scheduling callback at\", now());\n",
       "      return null;\n",
       "    }\n",
       "    if (js_urls == null || js_urls.length === 0) {\n",
       "      run_callbacks();\n",
       "      return null;\n",
       "    }\n",
       "    console.debug(\"Bokeh: BokehJS not loaded, scheduling load and callback at\", now());\n",
       "    root._bokeh_is_loading = css_urls.length + js_urls.length;\n",
       "\n",
       "    function on_load() {\n",
       "      root._bokeh_is_loading--;\n",
       "      if (root._bokeh_is_loading === 0) {\n",
       "        console.debug(\"Bokeh: all BokehJS libraries/stylesheets loaded\");\n",
       "        run_callbacks()\n",
       "      }\n",
       "    }\n",
       "\n",
       "    function on_error() {\n",
       "      console.error(\"failed to load \" + url);\n",
       "    }\n",
       "\n",
       "    for (var i = 0; i < css_urls.length; i++) {\n",
       "      var url = css_urls[i];\n",
       "      const element = document.createElement(\"link\");\n",
       "      element.onload = on_load;\n",
       "      element.onerror = on_error;\n",
       "      element.rel = \"stylesheet\";\n",
       "      element.type = \"text/css\";\n",
       "      element.href = url;\n",
       "      console.debug(\"Bokeh: injecting link tag for BokehJS stylesheet: \", url);\n",
       "      document.body.appendChild(element);\n",
       "    }\n",
       "\n",
       "    for (var i = 0; i < js_urls.length; i++) {\n",
       "      var url = js_urls[i];\n",
       "      var element = document.createElement('script');\n",
       "      element.onload = on_load;\n",
       "      element.onerror = on_error;\n",
       "      element.async = false;\n",
       "      element.src = url;\n",
       "      console.debug(\"Bokeh: injecting script tag for BokehJS library: \", url);\n",
       "      document.head.appendChild(element);\n",
       "    }\n",
       "  };var element = document.getElementById(\"1001\");\n",
       "  if (element == null) {\n",
       "    console.error(\"Bokeh: ERROR: autoload.js configured with elementid '1001' but no matching script tag was found. \")\n",
       "    return false;\n",
       "  }\n",
       "\n",
       "  function inject_raw_css(css) {\n",
       "    const element = document.createElement(\"style\");\n",
       "    element.appendChild(document.createTextNode(css));\n",
       "    document.body.appendChild(element);\n",
       "  }\n",
       "\n",
       "  var js_urls = [\"https://cdn.pydata.org/bokeh/release/bokeh-1.3.4.min.js\", \"https://cdn.pydata.org/bokeh/release/bokeh-widgets-1.3.4.min.js\", \"https://cdn.pydata.org/bokeh/release/bokeh-tables-1.3.4.min.js\", \"https://cdn.pydata.org/bokeh/release/bokeh-gl-1.3.4.min.js\"];\n",
       "  var css_urls = [];\n",
       "\n",
       "  var inline_js = [\n",
       "    function(Bokeh) {\n",
       "      Bokeh.set_log_level(\"info\");\n",
       "    },\n",
       "    \n",
       "    function(Bokeh) {\n",
       "      \n",
       "    },\n",
       "    function(Bokeh) {} // ensure no trailing comma for IE\n",
       "  ];\n",
       "\n",
       "  function run_inline_js() {\n",
       "    \n",
       "    if ((root.Bokeh !== undefined) || (force === true)) {\n",
       "      for (var i = 0; i < inline_js.length; i++) {\n",
       "        inline_js[i].call(root, root.Bokeh);\n",
       "      }if (force === true) {\n",
       "        display_loaded();\n",
       "      }} else if (Date.now() < root._bokeh_timeout) {\n",
       "      setTimeout(run_inline_js, 100);\n",
       "    } else if (!root._bokeh_failed_load) {\n",
       "      console.log(\"Bokeh: BokehJS failed to load within specified timeout.\");\n",
       "      root._bokeh_failed_load = true;\n",
       "    } else if (force !== true) {\n",
       "      var cell = $(document.getElementById(\"1001\")).parents('.cell').data().cell;\n",
       "      cell.output_area.append_execute_result(NB_LOAD_WARNING)\n",
       "    }\n",
       "\n",
       "  }\n",
       "\n",
       "  if (root._bokeh_is_loading === 0) {\n",
       "    console.debug(\"Bokeh: BokehJS loaded, going straight to plotting\");\n",
       "    run_inline_js();\n",
       "  } else {\n",
       "    load_libs(css_urls, js_urls, function() {\n",
       "      console.debug(\"Bokeh: BokehJS plotting callback run at\", now());\n",
       "      run_inline_js();\n",
       "    });\n",
       "  }\n",
       "}(window));"
      ],
      "application/vnd.bokehjs_load.v0+json": "\n(function(root) {\n  function now() {\n    return new Date();\n  }\n\n  var force = true;\n\n  if (typeof root._bokeh_onload_callbacks === \"undefined\" || force === true) {\n    root._bokeh_onload_callbacks = [];\n    root._bokeh_is_loading = undefined;\n  }\n\n  \n\n  \n  if (typeof (root._bokeh_timeout) === \"undefined\" || force === true) {\n    root._bokeh_timeout = Date.now() + 5000;\n    root._bokeh_failed_load = false;\n  }\n\n  var NB_LOAD_WARNING = {'data': {'text/html':\n     \"<div style='background-color: #fdd'>\\n\"+\n     \"<p>\\n\"+\n     \"BokehJS does not appear to have successfully loaded. If loading BokehJS from CDN, this \\n\"+\n     \"may be due to a slow or bad network connection. Possible fixes:\\n\"+\n     \"</p>\\n\"+\n     \"<ul>\\n\"+\n     \"<li>re-rerun `output_notebook()` to attempt to load from CDN again, or</li>\\n\"+\n     \"<li>use INLINE resources instead, as so:</li>\\n\"+\n     \"</ul>\\n\"+\n     \"<code>\\n\"+\n     \"from bokeh.resources import INLINE\\n\"+\n     \"output_notebook(resources=INLINE)\\n\"+\n     \"</code>\\n\"+\n     \"</div>\"}};\n\n  function display_loaded() {\n    var el = document.getElementById(\"1001\");\n    if (el != null) {\n      el.textContent = \"BokehJS is loading...\";\n    }\n    if (root.Bokeh !== undefined) {\n      if (el != null) {\n        el.textContent = \"BokehJS \" + root.Bokeh.version + \" successfully loaded.\";\n      }\n    } else if (Date.now() < root._bokeh_timeout) {\n      setTimeout(display_loaded, 100)\n    }\n  }\n\n\n  function run_callbacks() {\n    try {\n      root._bokeh_onload_callbacks.forEach(function(callback) {\n        if (callback != null)\n          callback();\n      });\n    } finally {\n      delete root._bokeh_onload_callbacks\n    }\n    console.debug(\"Bokeh: all callbacks have finished\");\n  }\n\n  function load_libs(css_urls, js_urls, callback) {\n    if (css_urls == null) css_urls = [];\n    if (js_urls == null) js_urls = [];\n\n    root._bokeh_onload_callbacks.push(callback);\n    if (root._bokeh_is_loading > 0) {\n      console.debug(\"Bokeh: BokehJS is being loaded, scheduling callback at\", now());\n      return null;\n    }\n    if (js_urls == null || js_urls.length === 0) {\n      run_callbacks();\n      return null;\n    }\n    console.debug(\"Bokeh: BokehJS not loaded, scheduling load and callback at\", now());\n    root._bokeh_is_loading = css_urls.length + js_urls.length;\n\n    function on_load() {\n      root._bokeh_is_loading--;\n      if (root._bokeh_is_loading === 0) {\n        console.debug(\"Bokeh: all BokehJS libraries/stylesheets loaded\");\n        run_callbacks()\n      }\n    }\n\n    function on_error() {\n      console.error(\"failed to load \" + url);\n    }\n\n    for (var i = 0; i < css_urls.length; i++) {\n      var url = css_urls[i];\n      const element = document.createElement(\"link\");\n      element.onload = on_load;\n      element.onerror = on_error;\n      element.rel = \"stylesheet\";\n      element.type = \"text/css\";\n      element.href = url;\n      console.debug(\"Bokeh: injecting link tag for BokehJS stylesheet: \", url);\n      document.body.appendChild(element);\n    }\n\n    for (var i = 0; i < js_urls.length; i++) {\n      var url = js_urls[i];\n      var element = document.createElement('script');\n      element.onload = on_load;\n      element.onerror = on_error;\n      element.async = false;\n      element.src = url;\n      console.debug(\"Bokeh: injecting script tag for BokehJS library: \", url);\n      document.head.appendChild(element);\n    }\n  };var element = document.getElementById(\"1001\");\n  if (element == null) {\n    console.error(\"Bokeh: ERROR: autoload.js configured with elementid '1001' but no matching script tag was found. \")\n    return false;\n  }\n\n  function inject_raw_css(css) {\n    const element = document.createElement(\"style\");\n    element.appendChild(document.createTextNode(css));\n    document.body.appendChild(element);\n  }\n\n  var js_urls = [\"https://cdn.pydata.org/bokeh/release/bokeh-1.3.4.min.js\", \"https://cdn.pydata.org/bokeh/release/bokeh-widgets-1.3.4.min.js\", \"https://cdn.pydata.org/bokeh/release/bokeh-tables-1.3.4.min.js\", \"https://cdn.pydata.org/bokeh/release/bokeh-gl-1.3.4.min.js\"];\n  var css_urls = [];\n\n  var inline_js = [\n    function(Bokeh) {\n      Bokeh.set_log_level(\"info\");\n    },\n    \n    function(Bokeh) {\n      \n    },\n    function(Bokeh) {} // ensure no trailing comma for IE\n  ];\n\n  function run_inline_js() {\n    \n    if ((root.Bokeh !== undefined) || (force === true)) {\n      for (var i = 0; i < inline_js.length; i++) {\n        inline_js[i].call(root, root.Bokeh);\n      }if (force === true) {\n        display_loaded();\n      }} else if (Date.now() < root._bokeh_timeout) {\n      setTimeout(run_inline_js, 100);\n    } else if (!root._bokeh_failed_load) {\n      console.log(\"Bokeh: BokehJS failed to load within specified timeout.\");\n      root._bokeh_failed_load = true;\n    } else if (force !== true) {\n      var cell = $(document.getElementById(\"1001\")).parents('.cell').data().cell;\n      cell.output_area.append_execute_result(NB_LOAD_WARNING)\n    }\n\n  }\n\n  if (root._bokeh_is_loading === 0) {\n    console.debug(\"Bokeh: BokehJS loaded, going straight to plotting\");\n    run_inline_js();\n  } else {\n    load_libs(css_urls, js_urls, function() {\n      console.debug(\"Bokeh: BokehJS plotting callback run at\", now());\n      run_inline_js();\n    });\n  }\n}(window));"
     },
     "metadata": {},
     "output_type": "display_data"
    }
   ],
   "source": [
    "from bokeh.models import ColumnDataSource, LabelSet\n",
    "from bokeh.plotting import figure, show, output_file\n",
    "from bokeh.io import output_notebook\n",
    "output_notebook()"
   ]
  },
  {
   "cell_type": "markdown",
   "metadata": {},
   "source": [
    "### Part 0: Download the TED dataset"
   ]
  },
  {
   "cell_type": "code",
   "execution_count": 11,
   "metadata": {},
   "outputs": [],
   "source": [
    "# Download the dataset if it's not already there: this may take a minute as it is 75MB\n",
    "if not os.path.isfile('ted_en-20160408.zip'):\n",
    "    urllib.request.urlretrieve(\"https://wit3.fbk.eu/get.php?path=XML_releases/xml/ted_en-20160408.zip&filename=ted_en-20160408.zip\", filename=\"ted_en-20160408.zip\")"
   ]
  },
  {
   "cell_type": "code",
   "execution_count": 38,
   "metadata": {},
   "outputs": [
    {
     "name": "stdout",
     "output_type": "stream",
     "text": [
      "Size of keywords:  2085\n",
      "Size of contents:  2085\n"
     ]
    }
   ],
   "source": [
    "# we're interested in the content and keywords text , so let's extract them from the XML:\n",
    "with zipfile.ZipFile('ted_en-20160408.zip', 'r') as z:\n",
    "    doc = lxml.etree.parse(z.open('ted_en-20160408.xml', 'r'))\n",
    "    contents_text = [] \n",
    "    keywords_text = [] \n",
    "    for content,keywords in zip(doc.iter('content'),doc.iter('keywords')):\n",
    "        keywords_text.append(keywords.text)\n",
    "        contents_text.append(content.text)\n",
    "         \n",
    "del doc\n",
    "print('Size of keywords: ' , len(keywords_text))\n",
    "print('Size of contents: ' , len(contents_text))"
   ]
  },
  {
   "cell_type": "markdown",
   "metadata": {},
   "source": [
    "### Part 1: Preprocessing\n",
    "In this part, we attempt to clean up the raw contents a bit, so that we get only sentences.Let's start by removing all parenthesized strings using a regex:"
   ]
  },
  {
   "cell_type": "code",
   "execution_count": 40,
   "metadata": {},
   "outputs": [],
   "source": [
    "contents_text_noparens = [] \n",
    "for content in contents_text:\n",
    "    contents_text_noparens.append(re.sub(r'\\([^)]*\\)', '', content))"
   ]
  },
  {
   "cell_type": "code",
   "execution_count": 64,
   "metadata": {},
   "outputs": [
    {
     "name": "stdout",
     "output_type": "stream",
     "text": [
      "ir calculators.\n",
      "(Laughter)\n",
      "Facit did too much expl\n",
      "\n",
      "Contents without parenthesized strings:\n",
      "ir calculators.\n",
      "\n",
      "Facit did too much exploitation. \n"
     ]
    }
   ],
   "source": [
    "print(contents_text[0][850:900])\n",
    "print('\\nContents without parenthesized strings:')\n",
    "print(contents_text_noparens[0][850:900])"
   ]
  },
  {
   "cell_type": "markdown",
   "metadata": {},
   "source": [
    "Now, let's attempt to remove speakers' names that occur at the beginning of a line, by deleting pieces of the form \"`<up to 20 characters>:`\". Of course, this is an imperfect heuristic. "
   ]
  },
  {
   "cell_type": "code",
   "execution_count": 90,
   "metadata": {},
   "outputs": [],
   "source": [
    "contents_ted = [] \n",
    "for content in contents_text_noparens:\n",
    "    content_sent = [] \n",
    "    for line in content.split('\\n'):\n",
    "        m = re.match(r'^(?:(?P<precolon>[^:]{,20}):)?(?P<postcolon>.*)$', line)\n",
    "        content_sent.extend(sent for sent in m.groupdict()['postcolon'].split('.') if sent)\n",
    "    contents_ted.append(\" \".join([x for x in content_sent]))"
   ]
  },
  {
   "cell_type": "markdown",
   "metadata": {},
   "source": [
    "We're ready to tokenize each of them into words and make them all small case."
   ]
  },
  {
   "cell_type": "code",
   "execution_count": 95,
   "metadata": {},
   "outputs": [],
   "source": [
    "from nltk.tokenize import word_tokenize\n",
    "import string"
   ]
  },
  {
   "cell_type": "code",
   "execution_count": 106,
   "metadata": {},
   "outputs": [],
   "source": [
    "tokenized_content = []\n",
    "for content in contents_ted:\n",
    "    # split into words\n",
    "    tokens = word_tokenize(content)\n",
    "    # convert to lower case\n",
    "    tokens = [w.lower() for w in tokens]\n",
    "    # remove punctuation from each word\n",
    "    table = str.maketrans('', '', string.punctuation)\n",
    "    stripped = [w.translate(table) for w in tokens]\n",
    "    tokenized_content.append([x for x in stripped if x != ''])"
   ]
  },
  {
   "cell_type": "code",
   "execution_count": 107,
   "metadata": {},
   "outputs": [
    {
     "name": "stdout",
     "output_type": "stream",
     "text": [
      "['here', 'are', 'two', 'reasons', 'companies', 'fail', 'they', 'only', 'do', 'more']\n"
     ]
    }
   ],
   "source": [
    "print(tokenized_content[0][0:10])"
   ]
  },
  {
   "cell_type": "markdown",
   "metadata": {},
   "source": [
    "#### Split data"
   ]
  },
  {
   "cell_type": "code",
   "execution_count": 115,
   "metadata": {},
   "outputs": [
    {
     "name": "stdout",
     "output_type": "stream",
     "text": [
      "Size of train data:  1585\n",
      "Size of validation data:  250\n",
      "Size of test data:  250\n"
     ]
    }
   ],
   "source": [
    "train = tokenized_content[0:1585]\n",
    "validation = tokenized_content[1585:1835]\n",
    "test = tokenized_content[1835:len(tokenized_content)]\n",
    "print('Size of train data: ', len(train))\n",
    "print('Size of validation data: ', len(validation))\n",
    "print('Size of test data: ', len(test))"
   ]
  },
  {
   "cell_type": "markdown",
   "metadata": {},
   "source": [
    "#### Word Frequencies"
   ]
  },
  {
   "cell_type": "code",
   "execution_count": 116,
   "metadata": {},
   "outputs": [],
   "source": [
    "from itertools import chain\n",
    "from collections import Counter"
   ]
  },
  {
   "cell_type": "code",
   "execution_count": 117,
   "metadata": {},
   "outputs": [],
   "source": [
    "counts_ted_top1000_dic =  dict(Counter(chain.from_iterable(train)))"
   ]
  },
  {
   "cell_type": "code",
   "execution_count": 118,
   "metadata": {},
   "outputs": [],
   "source": [
    "counts_ted_top1000_dic = {k: v for k, v in sorted(counts_ted_top1000_dic.items(), key=lambda item: item[1], reverse=True)}"
   ]
  },
  {
   "cell_type": "code",
   "execution_count": 119,
   "metadata": {},
   "outputs": [
    {
     "data": {
      "text/plain": [
       "1000"
      ]
     },
     "execution_count": 119,
     "metadata": {},
     "output_type": "execute_result"
    }
   ],
   "source": [
    "counts_ted_top1000 = []\n",
    "i = 0 \n",
    "for k in counts_ted_top1000_dic.keys(): \n",
    "    if i == 1000:\n",
    "        break\n",
    "    counts_ted_top1000.append(counts_ted_top1000_dic[k])\n",
    "    i += 1 \n",
    "len(counts_ted_top1000)"
   ]
  },
  {
   "cell_type": "markdown",
   "metadata": {},
   "source": [
    "### Part 2: Train Word2Vec"
   ]
  },
  {
   "cell_type": "code",
   "execution_count": 121,
   "metadata": {},
   "outputs": [],
   "source": [
    "from gensim.models import Word2Vec"
   ]
  },
  {
   "cell_type": "code",
   "execution_count": 136,
   "metadata": {},
   "outputs": [],
   "source": [
    "model_ted = Word2Vec(train, size=200, window=5, min_count=1, workers=10, iter=10)"
   ]
  },
  {
   "cell_type": "code",
   "execution_count": 142,
   "metadata": {},
   "outputs": [
    {
     "data": {
      "text/plain": [
       "[('dog', 0.7963635921478271),\n",
       " ('horse', 0.7560173869132996),\n",
       " ('knife', 0.7144145965576172),\n",
       " ('pink', 0.6964806318283081),\n",
       " ('snake', 0.6949275732040405),\n",
       " ('razor', 0.6784311532974243),\n",
       " ('hat', 0.66708904504776),\n",
       " ('brown', 0.6670573949813843),\n",
       " ('cornwall', 0.6475210785865784),\n",
       " ('bullet', 0.6435632705688477)]"
      ]
     },
     "execution_count": 142,
     "metadata": {},
     "output_type": "execute_result"
    }
   ],
   "source": [
    "model_ted.wv.most_similar(\"cat\")"
   ]
  },
  {
   "cell_type": "markdown",
   "metadata": {},
   "source": [
    "#### t-SNE visualization"
   ]
  },
  {
   "cell_type": "code",
   "execution_count": 143,
   "metadata": {},
   "outputs": [],
   "source": [
    "words_top_ted = []\n",
    "i = 0 \n",
    "for k in counts_ted_top1000_dic.keys(): \n",
    "    if i == 1000:\n",
    "        break\n",
    "    words_top_ted.append(k)\n",
    "    i += 1 "
   ]
  },
  {
   "cell_type": "code",
   "execution_count": 144,
   "metadata": {},
   "outputs": [
    {
     "name": "stderr",
     "output_type": "stream",
     "text": [
      "C:\\ProgramData\\Anaconda3\\lib\\site-packages\\ipykernel_launcher.py:2: DeprecationWarning: Call to deprecated `__getitem__` (Method will be removed in 4.0.0, use self.wv.__getitem__() instead).\n",
      "  \n"
     ]
    }
   ],
   "source": [
    "# This assumes words_top_ted is a list of strings, the top 1000 words\n",
    "words_top_vec_ted = model_ted[words_top_ted]"
   ]
  },
  {
   "cell_type": "code",
   "execution_count": 145,
   "metadata": {},
   "outputs": [],
   "source": [
    "from sklearn.manifold import TSNE\n",
    "tsne = TSNE(n_components=2, random_state=0)\n",
    "words_top_ted_tsne = tsne.fit_transform(words_top_vec_ted)"
   ]
  },
  {
   "cell_type": "code",
   "execution_count": 146,
   "metadata": {},
   "outputs": [
    {
     "data": {
      "text/html": [
       "\n",
       "\n",
       "\n",
       "\n",
       "\n",
       "\n",
       "  <div class=\"bk-root\" id=\"66d4d098-691a-4eb3-a73f-2103babdc724\" data-root-id=\"1002\"></div>\n"
      ]
     },
     "metadata": {},
     "output_type": "display_data"
    },
    {
     "data": {
      "application/javascript": [
       "(function(root) {\n",
       "  function embed_document(root) {\n",
       "    \n",
       "  var docs_json = {\"530adb6e-d340-474e-b66a-35455a3d38c4\":{\"roots\":{\"references\":[{\"attributes\":{\"below\":[{\"id\":\"1013\",\"type\":\"LinearAxis\"}],\"center\":[{\"id\":\"1017\",\"type\":\"Grid\"},{\"id\":\"1022\",\"type\":\"Grid\"},{\"id\":\"1038\",\"type\":\"LabelSet\"}],\"left\":[{\"id\":\"1018\",\"type\":\"LinearAxis\"}],\"renderers\":[{\"id\":\"1036\",\"type\":\"GlyphRenderer\"}],\"title\":{\"id\":\"1003\",\"type\":\"Title\"},\"toolbar\":{\"id\":\"1027\",\"type\":\"Toolbar\"},\"toolbar_location\":\"above\",\"x_range\":{\"id\":\"1005\",\"type\":\"DataRange1d\"},\"x_scale\":{\"id\":\"1009\",\"type\":\"LinearScale\"},\"y_range\":{\"id\":\"1007\",\"type\":\"DataRange1d\"},\"y_scale\":{\"id\":\"1011\",\"type\":\"LinearScale\"}},\"id\":\"1002\",\"subtype\":\"Figure\",\"type\":\"Plot\"},{\"attributes\":{},\"id\":\"1023\",\"type\":\"PanTool\"},{\"attributes\":{},\"id\":\"1046\",\"type\":\"UnionRenderers\"},{\"attributes\":{\"formatter\":{\"id\":\"1041\",\"type\":\"BasicTickFormatter\"},\"ticker\":{\"id\":\"1019\",\"type\":\"BasicTicker\"}},\"id\":\"1018\",\"type\":\"LinearAxis\"},{\"attributes\":{\"fill_alpha\":{\"value\":0.1},\"fill_color\":{\"value\":\"#1f77b4\"},\"line_alpha\":{\"value\":0.1},\"line_color\":{\"value\":\"#1f77b4\"},\"size\":{\"units\":\"screen\",\"value\":8},\"x\":{\"field\":\"x1\"},\"y\":{\"field\":\"x2\"}},\"id\":\"1035\",\"type\":\"Scatter\"},{\"attributes\":{\"source\":{\"id\":\"1032\",\"type\":\"ColumnDataSource\"}},\"id\":\"1037\",\"type\":\"CDSView\"},{\"attributes\":{\"callback\":null},\"id\":\"1005\",\"type\":\"DataRange1d\"},{\"attributes\":{},\"id\":\"1045\",\"type\":\"Selection\"},{\"attributes\":{\"data_source\":{\"id\":\"1032\",\"type\":\"ColumnDataSource\"},\"glyph\":{\"id\":\"1034\",\"type\":\"Scatter\"},\"hover_glyph\":null,\"muted_glyph\":null,\"nonselection_glyph\":{\"id\":\"1035\",\"type\":\"Scatter\"},\"selection_glyph\":null,\"view\":{\"id\":\"1037\",\"type\":\"CDSView\"}},\"id\":\"1036\",\"type\":\"GlyphRenderer\"},{\"attributes\":{\"callback\":null,\"data\":{\"names\":[\"the\",\"and\",\"to\",\"of\",\"a\",\"that\",\"i\",\"in\",\"it\",\"we\",\"you\",\"is\",\"s\",\"this\",\"so\",\"they\",\"was\",\"for\",\"are\",\"have\",\"but\",\"what\",\"on\",\"do\",\"with\",\"nt\",\"can\",\"about\",\"there\",\"be\",\"not\",\"as\",\"at\",\"my\",\"all\",\"people\",\"one\",\"re\",\"like\",\"if\",\"from\",\"our\",\"now\",\"or\",\"an\",\"these\",\"he\",\"just\",\"when\",\"because\",\"me\",\"by\",\"very\",\"how\",\"them\",\"out\",\"more\",\"had\",\"were\",\"their\",\"who\",\"up\",\"going\",\"would\",\"your\",\"see\",\"know\",\"think\",\"which\",\"really\",\"us\",\"here\",\"ve\",\"get\",\"then\",\"world\",\"m\",\"time\",\"some\",\"has\",\"actually\",\"could\",\"where\",\"into\",\"will\",\"did\",\"way\",\"years\",\"other\",\"no\",\"been\",\"things\",\"want\",\"go\",\"well\",\"she\",\"make\",\"those\",\"right\",\"first\",\"something\",\"than\",\"said\",\"also\",\"much\",\"two\",\"new\",\"even\",\"look\",\"most\",\"over\",\"back\",\"his\",\"work\",\"need\",\"only\",\"many\",\"thing\",\"got\",\"little\",\"take\",\"say\",\"life\",\"does\",\"every\",\"her\",\"why\",\"around\",\"different\",\"lot\",\"let\",\"good\",\"through\",\"same\",\"kind\",\"use\",\"day\",\"come\",\"down\",\"being\",\"ll\",\"today\",\"d\",\"thank\",\"doing\",\"percent\",\"three\",\"any\",\"after\",\"called\",\"tell\",\"put\",\"find\",\"made\",\"fact\",\"change\",\"great\",\"human\",\"own\",\"should\",\"year\",\"started\",\"might\",\"before\",\"its\",\"talk\",\"better\",\"another\",\"never\",\"idea\",\"give\",\"big\",\"last\",\"together\",\"able\",\"women\",\"still\",\"problem\",\"important\",\"system\",\"went\",\"thought\",\"again\",\"ca\",\"each\",\"part\",\"next\",\"course\",\"story\",\"brain\",\"start\",\"him\",\"data\",\"few\",\"used\",\"ago\",\"between\",\"\\u266b\",\"came\",\"show\",\"off\",\"example\",\"water\",\"place\",\"found\",\"maybe\",\"too\",\"technology\",\"question\",\"bit\",\"school\",\"children\",\"wanted\",\"long\",\"love\",\"looking\",\"ever\",\"understand\",\"live\",\"end\",\"done\",\"help\",\"mean\",\"call\",\"point\",\"may\",\"information\",\"trying\",\"country\",\"feel\",\"always\",\"believe\",\"real\",\"away\",\"using\",\"person\",\"working\",\"home\",\"means\",\"thinking\",\"power\",\"everything\",\"try\",\"four\",\"become\",\"times\",\"create\",\"social\",\"whole\",\"10\",\"second\",\"money\",\"small\",\"number\",\"million\",\"okay\",\"without\",\"took\",\"kids\",\"five\",\"best\",\"future\",\"sort\",\"men\",\"less\",\"city\",\"lives\",\"old\",\"told\",\"food\",\"body\",\"getting\",\"light\",\"family\",\"quite\",\"left\",\"am\",\"ask\",\"comes\",\"happened\",\"enough\",\"energy\",\"countries\",\"probably\",\"talking\",\"science\",\"man\",\"space\",\"while\",\"making\",\"such\",\"hard\",\"health\",\"imagine\",\"across\",\"sense\",\"moment\",\"young\",\"saw\",\"pretty\",\"asked\",\"living\",\"care\",\"once\",\"interesting\",\"later\",\"someone\",\"yet\",\"learn\",\"coming\",\"anything\",\"ways\",\"case\",\"having\",\"makes\",\"almost\",\"side\",\"inside\",\"design\",\"days\",\"happen\",\"half\",\"experience\",\"building\",\"build\",\"simple\",\"play\",\"room\",\"high\",\"nothing\",\"remember\",\"else\",\"happens\",\"seen\",\"process\",\"myself\",\"states\",\"community\",\"whether\",\"cells\",\"often\",\"reason\",\"dollars\",\"global\",\"both\",\"already\",\"single\",\"sometimes\",\"public\",\"goes\",\"move\",\"bad\",\"government\",\"within\",\"instead\",\"friends\",\"far\",\"project\",\"looked\",\"wrong\",\"possible\",\"mind\",\"says\",\"20\",\"problems\",\"cancer\",\"answer\",\"sure\",\"months\",\"research\",\"stuff\",\"control\",\"job\",\"\\u2014\",\"basically\",\"amazing\",\"saying\",\"u\",\"business\",\"picture\",\"billion\",\"hope\",\"hand\",\"set\",\"since\",\"open\",\"keep\",\"earth\",\"words\",\"six\",\"yes\",\"true\",\"top\",\"united\",\"woman\",\"study\",\"child\",\"matter\",\"age\",\"order\",\"looks\",\"learned\",\"history\",\"computer\",\"\\u266a\",\"face\",\"until\",\"knew\",\"bring\",\"internet\",\"against\",\"heard\",\"stories\",\"group\",\"share\",\"everyone\",\"read\",\"planet\",\"turn\",\"became\",\"society\",\"taking\",\"car\",\"night\",\"language\",\"under\",\"guy\",\"state\",\"education\",\"places\",\"stop\",\"decided\",\"video\",\"war\",\"questions\",\"though\",\"ourselves\",\"themselves\",\"book\",\"everybody\",\"couple\",\"line\",\"form\",\"exactly\",\"works\",\"beautiful\",\"created\",\"completely\",\"oh\",\"music\",\"built\",\"ideas\",\"gets\",\"turns\",\"students\",\"model\",\"run\",\"middle\",\"black\",\"somebody\",\"happening\",\"heart\",\"name\",\"hear\",\"disease\",\"hours\",\"thousands\",\"america\",\"environment\",\"animals\",\"30\",\"others\",\"mother\",\"huge\",\"india\",\"piece\",\"front\",\"head\",\"kinds\",\"word\",\"rather\",\"learning\",\"systems\",\"past\",\"large\",\"worked\",\"minutes\",\"during\",\"level\",\"company\",\"early\",\"art\",\"sound\",\"itself\",\"house\",\"entire\",\"changed\",\"perhaps\",\"africa\",\"companies\",\"must\",\"yeah\",\"least\",\"species\",\"ones\",\"nature\",\"given\",\"behind\",\"game\",\"gave\",\"local\",\"reality\",\"lots\",\"china\",\"news\",\"particular\",\"difficult\",\"american\",\"third\",\"cities\",\"per\",\"guys\",\"team\",\"leave\",\"parents\",\"patients\",\"finally\",\"machine\",\"cell\",\"along\",\"50\",\"outside\",\"yourself\",\"simply\",\"taken\",\"difference\",\"easy\",\"natural\",\"population\",\"takes\",\"culture\",\"needed\",\"figure\",\"seeing\",\"father\",\"realized\",\"eyes\",\"happy\",\"economic\",\"turned\",\"close\",\"political\",\"felt\",\"image\",\"universe\",\"needs\",\"powerful\",\"100\",\"fish\",\"century\",\"media\",\"ocean\",\"air\",\"ted\",\"spend\",\"humans\",\"week\",\"parts\",\"york\",\"area\",\"hands\",\"walk\",\"terms\",\"15\",\"death\",\"red\",\"free\",\"blue\",\"grow\",\"weeks\",\"began\",\"national\",\"friend\",\"challenge\",\"spent\",\"longer\",\"white\",\"seven\",\"full\",\"paper\",\"shows\",\"changes\",\"growth\",\"physical\",\"girl\",\"field\",\"poor\",\"certain\",\"known\",\"phone\",\"online\",\"hundreds\",\"scale\",\"born\",\"climate\",\"moving\",\"green\",\"sitting\",\"beginning\",\"step\",\"access\",\"land\",\"feeling\",\"lost\",\"based\",\"view\",\"tried\",\"ability\",\"opportunity\",\"common\",\"oil\",\"amount\",\"either\",\"center\",\"average\",\"images\",\"gone\",\"attention\",\"pay\",\"value\",\"scientists\",\"street\",\"cost\",\"write\",\"behavior\",\"economy\",\"whatever\",\"fear\",\"numbers\",\"medical\",\"met\",\"god\",\"rest\",\"blood\",\"size\",\"speak\",\"quickly\",\"complex\",\"test\",\"market\",\"movement\",\"risk\",\"deal\",\"girls\",\"anyone\",\"eight\",\"growing\",\"south\",\"realize\",\"alone\",\"interested\",\"giving\",\"areas\",\"lab\",\"buy\",\"morning\",\"animal\",\"support\",\"developed\",\"individual\",\"millions\",\"hold\",\"development\",\"understanding\",\"audience\",\"innovation\",\"act\",\"map\",\"drug\",\"result\",\"absolutely\",\"issue\",\"rights\",\"incredible\",\"voice\",\"knowledge\",\"law\",\"kid\",\"telling\",\"structure\",\"key\",\"stage\",\"watch\",\"seems\",\"patient\",\"program\",\"dna\",\"personal\",\"brought\",\"wrote\",\"north\",\"ground\",\"europe\",\"deep\",\"die\",\"wonderful\",\"tools\",\"drugs\",\"especially\",\"eat\",\"choice\",\"communities\",\"network\",\"asking\",\"books\",\"normal\",\"starting\",\"creating\",\"issues\",\"literally\",\"surface\",\"violence\",\"clear\",\"rate\",\"sea\",\"recently\",\"running\",\"playing\",\"nice\",\"baby\",\"changing\",\"forward\",\"soon\",\"solve\",\"technologies\",\"tiny\",\"several\",\"digital\",\"solution\",\"resources\",\"likely\",\"cars\",\"impact\",\"allow\",\"meet\",\"special\",\"material\",\"bottom\",\"miles\",\"beyond\",\"groups\",\"wo\",\"relationship\",\"university\",\"seem\",\"evidence\",\"writing\",\"40\",\"international\",\"save\",\"fly\",\"box\",\"indeed\",\"available\",\"showed\",\"send\",\"message\",\"trust\",\"situation\",\"gives\",\"short\",\"stay\",\"discovered\",\"developing\",\"fast\",\"nobody\",\"office\",\"cause\",\"robot\",\"industry\",\"obviously\",\"generation\",\"bigger\",\"crazy\",\"revolution\",\"wall\",\"security\",\"journey\",\"cut\",\"dead\",\"similar\",\"color\",\"chance\",\"dark\",\"type\",\"produce\",\"pick\",\"police\",\"major\",\"device\",\"english\",\"west\",\"ready\",\"product\",\"sounds\",\"modern\",\"ice\",\"reasons\",\"led\",\"incredibly\",\"hundred\",\"focus\",\"memory\",\"medicine\",\"stand\",\"suddenly\",\"measure\",\"truth\",\"examples\",\"begin\",\"towards\",\"cool\",\"dream\",\"basic\",\"talked\",\"potential\",\"walking\",\"doctor\",\"boy\",\"chinese\",\"hit\",\"sun\",\"feet\",\"games\",\"scientific\",\"democracy\",\"explain\",\"designed\",\"teach\",\"theory\",\"starts\",\"choose\",\"sex\",\"effect\",\"force\",\"google\",\"experiment\",\"camera\",\"action\",\"hospital\",\"involved\",\"notice\",\"please\",\"knows\",\"individuals\",\"present\",\"college\",\"perfect\",\"success\",\"class\",\"approach\",\"putting\",\"reach\",\"listen\",\"sleep\",\"eye\",\"died\",\"including\",\"pictures\",\"conversation\",\"watching\",\"guess\",\"plant\",\"leaders\",\"computers\",\"becomes\",\"among\",\"safe\",\"lived\",\"cases\",\"certainly\",\"freedom\",\"table\",\"low\",\"general\",\"biggest\",\"east\",\"1\",\"film\",\"quality\",\"worse\",\"eventually\",\"doctors\",\"worth\",\"schools\",\"favorite\",\"families\",\"break\",\"fight\",\"extremely\",\"everywhere\",\"objects\",\"particularly\",\"nine\",\"largest\",\"onto\",\"fun\",\"grew\",\"organization\",\"anybody\",\"results\",\"response\",\"solar\",\"drive\",\"higher\",\"moved\",\"develop\",\"connected\",\"faster\",\"12\",\"son\",\"sit\",\"protect\",\"allowed\",\"strong\",\"treatment\",\"shown\",\"further\",\"creative\",\"role\",\"extraordinary\",\"standing\",\"waste\",\"wants\",\"mom\",\"bodies\",\"code\",\"sent\",\"jobs\",\"conditions\",\"plan\",\"showing\",\"brains\",\"carbon\",\"however\",\"road\",\"month\",\"models\",\"teachers\",\"totally\",\"wife\",\"hour\",\"loved\",\"period\",\"software\",\"tells\",\"essentially\",\"wait\",\"taught\",\"finding\",\"continue\",\"fire\",\"older\",\"crisis\",\"studies\",\"object\",\"smart\",\"shape\",\"activity\",\"usually\",\"vision\",\"truly\",\"progress\",\"add\",\"robots\",\"skin\",\"anymore\",\"exist\",\"career\",\"plants\",\"web\",\"materials\",\"lead\",\"supposed\",\"consider\",\"exciting\",\"visual\",\"poverty\",\"increase\",\"mine\",\"tool\",\"fall\",\"successful\",\"student\",\"training\",\"goal\",\"rules\",\"meant\",\"expect\",\"clearly\"],\"x1\":{\"__ndarray__\":\"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\",\"dtype\":\"float32\",\"shape\":[1000]},\"x2\":{\"__ndarray__\":\"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\",\"dtype\":\"float32\",\"shape\":[1000]}},\"selected\":{\"id\":\"1045\",\"type\":\"Selection\"},\"selection_policy\":{\"id\":\"1046\",\"type\":\"UnionRenderers\"}},\"id\":\"1032\",\"type\":\"ColumnDataSource\"},{\"attributes\":{\"active_drag\":\"auto\",\"active_inspect\":\"auto\",\"active_multi\":null,\"active_scroll\":\"auto\",\"active_tap\":\"auto\",\"tools\":[{\"id\":\"1023\",\"type\":\"PanTool\"},{\"id\":\"1024\",\"type\":\"WheelZoomTool\"},{\"id\":\"1025\",\"type\":\"ResetTool\"},{\"id\":\"1026\",\"type\":\"SaveTool\"}]},\"id\":\"1027\",\"type\":\"Toolbar\"},{\"attributes\":{},\"id\":\"1043\",\"type\":\"BasicTickFormatter\"},{\"attributes\":{},\"id\":\"1024\",\"type\":\"WheelZoomTool\"},{\"attributes\":{},\"id\":\"1041\",\"type\":\"BasicTickFormatter\"},{\"attributes\":{\"fill_color\":{\"value\":\"#1f77b4\"},\"line_color\":{\"value\":\"#1f77b4\"},\"size\":{\"units\":\"screen\",\"value\":8},\"x\":{\"field\":\"x1\"},\"y\":{\"field\":\"x2\"}},\"id\":\"1034\",\"type\":\"Scatter\"},{\"attributes\":{},\"id\":\"1025\",\"type\":\"ResetTool\"},{\"attributes\":{\"callback\":null},\"id\":\"1007\",\"type\":\"DataRange1d\"},{\"attributes\":{},\"id\":\"1026\",\"type\":\"SaveTool\"},{\"attributes\":{},\"id\":\"1009\",\"type\":\"LinearScale\"},{\"attributes\":{\"text\":\"word2vec T-SNE for most common words\"},\"id\":\"1003\",\"type\":\"Title\"},{\"attributes\":{},\"id\":\"1011\",\"type\":\"LinearScale\"},{\"attributes\":{\"ticker\":{\"id\":\"1014\",\"type\":\"BasicTicker\"}},\"id\":\"1017\",\"type\":\"Grid\"},{\"attributes\":{\"formatter\":{\"id\":\"1043\",\"type\":\"BasicTickFormatter\"},\"ticker\":{\"id\":\"1014\",\"type\":\"BasicTicker\"}},\"id\":\"1013\",\"type\":\"LinearAxis\"},{\"attributes\":{\"source\":{\"id\":\"1032\",\"type\":\"ColumnDataSource\"},\"text\":{\"field\":\"names\"},\"text_align\":\"center\",\"text_color\":{\"value\":\"#555555\"},\"text_font_size\":{\"value\":\"8pt\"},\"x\":{\"field\":\"x1\"},\"y\":{\"field\":\"x2\"},\"y_offset\":{\"value\":6}},\"id\":\"1038\",\"type\":\"LabelSet\"},{\"attributes\":{},\"id\":\"1014\",\"type\":\"BasicTicker\"},{\"attributes\":{},\"id\":\"1019\",\"type\":\"BasicTicker\"},{\"attributes\":{\"dimension\":1,\"ticker\":{\"id\":\"1019\",\"type\":\"BasicTicker\"}},\"id\":\"1022\",\"type\":\"Grid\"}],\"root_ids\":[\"1002\"]},\"title\":\"Bokeh Application\",\"version\":\"1.3.4\"}};\n",
       "  var render_items = [{\"docid\":\"530adb6e-d340-474e-b66a-35455a3d38c4\",\"roots\":{\"1002\":\"66d4d098-691a-4eb3-a73f-2103babdc724\"}}];\n",
       "  root.Bokeh.embed.embed_items_notebook(docs_json, render_items);\n",
       "\n",
       "  }\n",
       "  if (root.Bokeh !== undefined) {\n",
       "    embed_document(root);\n",
       "  } else {\n",
       "    var attempts = 0;\n",
       "    var timer = setInterval(function(root) {\n",
       "      if (root.Bokeh !== undefined) {\n",
       "        embed_document(root);\n",
       "        clearInterval(timer);\n",
       "      }\n",
       "      attempts++;\n",
       "      if (attempts > 100) {\n",
       "        console.log(\"Bokeh: ERROR: Unable to run BokehJS code because BokehJS library is missing\");\n",
       "        clearInterval(timer);\n",
       "      }\n",
       "    }, 10, root)\n",
       "  }\n",
       "})(window);"
      ],
      "application/vnd.bokehjs_exec.v0+json": ""
     },
     "metadata": {
      "application/vnd.bokehjs_exec.v0+json": {
       "id": "1002"
      }
     },
     "output_type": "display_data"
    }
   ],
   "source": [
    "p = figure(tools=\"pan,wheel_zoom,reset,save\",\n",
    "           toolbar_location=\"above\",\n",
    "           title=\"word2vec T-SNE for most common words\")\n",
    "\n",
    "source = ColumnDataSource(data=dict(x1=words_top_ted_tsne[:,0],\n",
    "                                    x2=words_top_ted_tsne[:,1],\n",
    "                                    names=words_top_ted))\n",
    "\n",
    "p.scatter(x=\"x1\", y=\"x2\", size=8, source=source)\n",
    "\n",
    "labels = LabelSet(x=\"x1\", y=\"x2\", text=\"names\", y_offset=6,\n",
    "                  text_font_size=\"8pt\", text_color=\"#555555\",\n",
    "                  source=source, text_align='center')\n",
    "p.add_layout(labels)\n",
    "\n",
    "show(p)"
   ]
  },
  {
   "cell_type": "code",
   "execution_count": null,
   "metadata": {},
   "outputs": [],
   "source": []
  }
 ],
 "metadata": {
  "kernelspec": {
   "display_name": "Python 3",
   "language": "python",
   "name": "python3"
  },
  "language_info": {
   "codemirror_mode": {
    "name": "ipython",
    "version": 3
   },
   "file_extension": ".py",
   "mimetype": "text/x-python",
   "name": "python",
   "nbconvert_exporter": "python",
   "pygments_lexer": "ipython3",
   "version": "3.7.4"
  }
 },
 "nbformat": 4,
 "nbformat_minor": 2
}
